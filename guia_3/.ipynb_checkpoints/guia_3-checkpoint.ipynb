{
 "cells": [
  {
   "cell_type": "markdown",
   "metadata": {},
   "source": [
    "# GUIA 3\n",
    "### Facundo L. Sanchez"
   ]
  },
  {
   "cell_type": "code",
   "execution_count": 1,
   "metadata": {
    "collapsed": true
   },
   "outputs": [],
   "source": [
    "import numpy as np\n",
    "from scipy.special import hyp1f1\n",
    "from scipy import integrate\n",
    "from scipy.misc import derivative\n",
    "from numpy.linalg import eigh\n",
    "import matplotlib.pyplot as plt\n",
    "import time as tm\n",
    "from math import factorial\n",
    "from scipy.special import sph_harm as Yml\n",
    "import pandas as pd\n",
    "\n",
    "from __future__ import division\n",
    "\n",
    "%matplotlib inline"
   ]
  },
  {
   "cell_type": "code",
   "execution_count": 2,
   "metadata": {
    "collapsed": true
   },
   "outputs": [],
   "source": [
    "def R1F1(n,l,z,r):\n",
    "    rho = 2 * r * z / n\n",
    "    rnum = (2 * z / n)**3 * factorial(n + l)\n",
    "    rden = (factorial(2*l+1))**2 * 2*n * factorial(n-l-1)\n",
    "    rnorm = np.sqrt(rnum/rden)\n",
    "    rfunc = (rho)**l * np.exp(-rho/2) * hyp1f1(-n+l+1, 2*l+2, rho)\n",
    "    R = rnorm * rfunc\n",
    "    return R"
   ]
  },
  {
   "cell_type": "markdown",
   "metadata": {},
   "source": [
    "# Espectro del Helio"
   ]
  },
  {
   "cell_type": "code",
   "execution_count": 3,
   "metadata": {},
   "outputs": [
    {
     "data": {
      "image/png": "[encoded data removed]",
      "text/plain": [
       "<matplotlib.figure.Figure at 0x7fc7f29b9c10>"
      ]
     },
     "metadata": {},
     "output_type": "display_data"
    }
   ],
   "source": [
    "Es = [-2.175,-2.146,-2.131,-2.124 ]\n",
    "colors = list(\"rgby\")\n",
    "labs = ['$1s2s(2^3S)={:.3f}$','$1s2s(2^1S)={:.3f}$', '$1s2p(2^3P)={:.3f}$', '$1s2p(2^1P)={:.3f}$']\n",
    "for E,lab,color in zip(Es,labs,colors):\n",
    "    plt.axhline(E,linestyle='dashed',label=lab.format(E),color=color)\n",
    "plt.ylim((-2.18,-2.11))\n",
    "plt.title(\"Espectro del He\")\n",
    "plt.legend(loc='best')\n",
    "plt.show()"
   ]
  },
  {
   "cell_type": "markdown",
   "metadata": {},
   "source": [
    "# Energia de los terminos con diferentes aproximaciones"
   ]
  },
  {
   "cell_type": "code",
   "execution_count": 4,
   "metadata": {
    "collapsed": true
   },
   "outputs": [],
   "source": [
    "# Valor medio de la derivada orden k de r\n",
    "def drk_Mean(n,l,Z,k):\n",
    "    return integrate.quad(lambda r: R1F1(n,l,Z,r)*derivative(lambda d: R1F1(n,l,Z,d),r,dx=1e-5,n=k)*r**2, 0, np.inf)[0]\n",
    "\n",
    "# Valor medio de r^(-k1)*d^k2/dr^k2\n",
    "def rk1_prod_drk2_Mean(n,l,Z,k1,k2):\n",
    "    return integrate.quad(lambda r: R1F1(n,l,Z,r)*derivative(lambda d: R1F1(n,l,Z,d),r,dx=1e-5,n=k2)*r**(2-k1), 0, np.inf)[0]\n",
    "\n",
    "# Valor medio de r^(-k)\n",
    "def rk_Mean(n,l,Z,k):\n",
    "    return integrate.quad(lambda r: R1F1(n,l,Z,r)*R1F1(n,l,Z,r)*r**(2-k), 0, np.inf)[0]\n",
    "\n",
    "# Valor medio del potencial efectivo\n",
    "def Veff_Mean(n,l,Z,alpha):\n",
    "    return integrate.quad(lambda r: R1F1(n,l,Z,r)*R1F1(n,l,Z,r)*r*(np.exp(-alpha*r)+1), 0, np.inf)[0]\n",
    "\n",
    "# Energias a Z constante\n",
    "def energia_Z_const(n_list,l_list,Z):\n",
    "    energias = []\n",
    "    dr2Mean_1s = drk_Mean(1,0,Z,2)\n",
    "    r1_prod_dr2_1s = rk1_prod_drk2_Mean(1,0,Z,1,1)\n",
    "    rMean_1s = rk_Mean(1,0,Z,1)\n",
    "    for n,l in zip(n_list, l_list):\n",
    "        dr2Mean_nl = drk_Mean(n,l,Z,2)\n",
    "        r1_prod_dr2_nl = rk1_prod_drk2_Mean(n,l,Z,1,1)\n",
    "        rMean_nl = rk_Mean(n,l,Z,1)\n",
    "        r2Mean_nl = rk_Mean(n,l,Z,2)\n",
    "        T = -0.5*(dr2Mean_1s + dr2Mean_nl) + 0.5*l*(l+1)*r2Mean_nl - \\\n",
    "            r1_prod_dr2_1s - r1_prod_dr2_nl\n",
    "        V = -Z*(rMean_1s + rMean_nl)\n",
    "        energias.append(T + V)    \n",
    "    return energias\n",
    "\n",
    "# Energias para valores distintos de carga\n",
    "def energia_Z1_Z2(n_list,l_list,Z1,Z2):\n",
    "    energias = []\n",
    "    dr2Mean_1s = drk_Mean(1,0,Z1,2)\n",
    "    r1_prod_dr2_1s = rk1_prod_drk2_Mean(1,0,Z1,1,1)\n",
    "    rMean_1s = rk_Mean(1,0,Z1,1)\n",
    "    for n,l in zip(n_list, l_list):\n",
    "        dr2Mean_nl = drk_Mean(n,l,Z2,2)\n",
    "        r1_prod_dr2_nl = rk1_prod_drk2_Mean(n,l,Z2,1,1)\n",
    "        rMean_nl = rk_Mean(n,l,Z2,1)\n",
    "        r2Mean_nl = rk_Mean(n,l,Z2,2)\n",
    "        T = -0.5*(dr2Mean_1s + dr2Mean_nl) + 0.5*l*(l+1)*r2Mean_nl - \\\n",
    "            r1_prod_dr2_1s - r1_prod_dr2_nl\n",
    "        V = -0.5*(Z1+Z2)*(rMean_1s + rMean_nl)\n",
    "        energias.append(T + V)    \n",
    "    return energias\n",
    "\n",
    "# Energia tomando un potencial efectiva\n",
    "def energia_Veff(n_list,l_list,Z,alpha):\n",
    "    energias = []\n",
    "    dr2Mean_1s = drk_Mean(1,0,Z,2)\n",
    "    r1_prod_dr2_1s = rk1_prod_drk2_Mean(1,0,Z,1,1)\n",
    "    VeffMean_1s = Veff_Mean(1,0,Z,alpha)\n",
    "    for n,l in zip(n_list, l_list):\n",
    "        dr2Mean_nl = drk_Mean(n,l,Z,2)\n",
    "        r1_prod_dr2_nl = rk1_prod_drk2_Mean(n,l,Z,1,1)\n",
    "        VeffMean_nl = Veff_Mean(n,l,Z,alpha)\n",
    "        r2Mean_nl = rk_Mean(n,l,Z,2)\n",
    "        T = -0.5*(dr2Mean_1s + dr2Mean_nl) + 0.5*l*(l+1)*r2Mean_nl - \\\n",
    "            r1_prod_dr2_1s - r1_prod_dr2_nl\n",
    "        V = -VeffMean_1s-VeffMean_nl\n",
    "        energias.append(T + V)    \n",
    "    return energias"
   ]
  },
  {
   "cell_type": "markdown",
   "metadata": {},
   "source": [
    "# Energias de los términos"
   ]
  },
  {
   "cell_type": "code",
   "execution_count": 18,
   "metadata": {
    "collapsed": true
   },
   "outputs": [],
   "source": [
    "keys = ['1_1S', '2_1S', '2_3S', '2_1P', '2_3P']\n",
    "energias_He = {key: [] for key in keys}\n",
    "energias_C = {key: [] for key in keys}\n",
    "\n",
    "n_list = [1,2,2,2,2]\n",
    "l_list = [0,0,0,1,1]\n",
    "\n",
    "Z_He = 2\n",
    "Z_C = 6"
   ]
  },
  {
   "cell_type": "markdown",
   "metadata": {
    "collapsed": true
   },
   "source": [
    "### Producto de Hidrogenoides"
   ]
  },
  {
   "cell_type": "code",
   "execution_count": 19,
   "metadata": {},
   "outputs": [],
   "source": [
    "# Helio\n",
    "E = energia_Z_const(n_list,l_list,Z_He)\n",
    "for e,key in zip(E,keys):\n",
    "    energias_He[key].append(e)"
   ]
  },
  {
   "cell_type": "code",
   "execution_count": 20,
   "metadata": {
    "collapsed": true
   },
   "outputs": [],
   "source": [
    "# Carbono 4+\n",
    "E = energia_Z_const(n_list,l_list,Z_C)\n",
    "for e,key in zip(E,keys):\n",
    "    energias_C[key].append(e)"
   ]
  },
  {
   "cell_type": "markdown",
   "metadata": {},
   "source": [
    "### Carga efectiva"
   ]
  },
  {
   "cell_type": "code",
   "execution_count": 21,
   "metadata": {
    "collapsed": true
   },
   "outputs": [],
   "source": [
    "# Helio\n",
    "E = energia_Z_const(n_list,l_list,Z_He-5/16)\n",
    "for e,key in zip(E,keys):\n",
    "    energias_He[key].append(e)"
   ]
  },
  {
   "cell_type": "code",
   "execution_count": 22,
   "metadata": {
    "collapsed": true
   },
   "outputs": [],
   "source": [
    "# Carbono 4+\n",
    "E = energia_Z_const(n_list,l_list,Z_C-5/16)\n",
    "for e,key in zip(E,keys):\n",
    "    energias_C[key].append(e)"
   ]
  },
  {
   "cell_type": "markdown",
   "metadata": {},
   "source": [
    "### $\\psi_{1s}$ sin apantallar ($Z^{He}_{1s}=2$, $Z^{C4+}_{1s}=6$) y $\\psi_{nl}$ completamente apantallada ($Z^{He}_{nl}=1$, $Z^{C4+}_{nl}=5$)"
   ]
  },
  {
   "cell_type": "code",
   "execution_count": 23,
   "metadata": {
    "collapsed": true
   },
   "outputs": [],
   "source": [
    "# Helio\n",
    "E = energia_Z1_Z2(n_list,l_list,Z_He,Z_He-1)\n",
    "for e,key in zip(E,keys):\n",
    "    energias_He[key].append(e)"
   ]
  },
  {
   "cell_type": "code",
   "execution_count": 24,
   "metadata": {
    "collapsed": true
   },
   "outputs": [],
   "source": [
    "# Carbono 4+\n",
    "E = energia_Z1_Z2(n_list,l_list,Z_C,Z_C-1)\n",
    "for e,key in zip(E,keys):\n",
    "    energias_C[key].append(e)"
   ]
  },
  {
   "cell_type": "markdown",
   "metadata": {},
   "source": [
    "### Veff para $Z(r) = e^{-\\alpha r}+1$"
   ]
  },
  {
   "cell_type": "code",
   "execution_count": 25,
   "metadata": {},
   "outputs": [
    {
     "data": {
      "image/png": "[encoded data removed]",
      "text/plain": [
       "<matplotlib.figure.Figure at 0x7fc7f06e8710>"
      ]
     },
     "metadata": {},
     "output_type": "display_data"
    }
   ],
   "source": [
    "alphas = [1e-4,1e-3,1e-2,1e-1,0.5,1,5]\n",
    "for alpha in alphas:\n",
    "    r = np.linspace(0,15,1000)\n",
    "    plt.plot(r,np.exp(-alpha*r)+1,label=r'$\\alpha={:.2e}$'.format(alpha))\n",
    "plt.plot(r,r*R1F1(1,0,2,r),'--')\n",
    "plt.legend(loc='lower right')\n",
    "plt.show()"
   ]
  },
  {
   "cell_type": "code",
   "execution_count": 26,
   "metadata": {
    "collapsed": true
   },
   "outputs": [],
   "source": [
    "# Helio\n",
    "alpha = 0.5\n",
    "E = energia_Veff(n_list,l_list,Z_He,alpha)\n",
    "for e,key in zip(E,keys):\n",
    "    energias_He[key].append(e)"
   ]
  },
  {
   "cell_type": "code",
   "execution_count": 27,
   "metadata": {},
   "outputs": [
    {
     "data": {
      "image/png": "[encoded data removed]",
      "text/plain": [
       "<matplotlib.figure.Figure at 0x7fc7f09467d0>"
      ]
     },
     "metadata": {},
     "output_type": "display_data"
    }
   ],
   "source": [
    "alphas = [1e-1,0.5,1,3]\n",
    "for alpha in alphas:\n",
    "    r = np.linspace(0,15,1000)\n",
    "    plt.plot(r,np.exp(-alpha*r)+1,label=r'$\\alpha={:.2e}$'.format(alpha))\n",
    "plt.plot(r,r*R1F1(2,1,6,r),'--')\n",
    "plt.legend(loc='lower right')\n",
    "plt.show()"
   ]
  },
  {
   "cell_type": "code",
   "execution_count": 28,
   "metadata": {
    "collapsed": true
   },
   "outputs": [],
   "source": [
    "# Carbono 4+\n",
    "alpha = 0.01\n",
    "E = energia_Veff(n_list,l_list,Z_C,alpha)\n",
    "for e,key in zip(E,keys):\n",
    "    energias_C[key].append(e)"
   ]
  },
  {
   "cell_type": "code",
   "execution_count": 29,
   "metadata": {},
   "outputs": [
    {
     "data": {
      "text/html": [
       "<div>\n",
       "<style>\n",
       "    .dataframe thead tr:only-child th {\n",
       "        text-align: right;\n",
       "    }\n",
       "\n",
       "    .dataframe thead th {\n",
       "        text-align: left;\n",
       "    }\n",
       "\n",
       "    .dataframe tbody tr th {\n",
       "        vertical-align: top;\n",
       "    }\n",
       "</style>\n",
       "<table border=\"1\" class=\"dataframe\">\n",
       "  <thead>\n",
       "    <tr style=\"text-align: right;\">\n",
       "      <th>Terminos</th>\n",
       "      <th>1_1S</th>\n",
       "      <th>2_1P</th>\n",
       "      <th>2_1S</th>\n",
       "      <th>2_3P</th>\n",
       "      <th>2_3S</th>\n",
       "    </tr>\n",
       "    <tr>\n",
       "      <th>Aproximacion</th>\n",
       "      <th></th>\n",
       "      <th></th>\n",
       "      <th></th>\n",
       "      <th></th>\n",
       "      <th></th>\n",
       "    </tr>\n",
       "  </thead>\n",
       "  <tbody>\n",
       "    <tr>\n",
       "      <th>Producto de Hidrogenoides</th>\n",
       "      <td>-4.000000</td>\n",
       "      <td>-2.500000</td>\n",
       "      <td>-2.500000</td>\n",
       "      <td>-2.500000</td>\n",
       "      <td>-2.500000</td>\n",
       "    </tr>\n",
       "    <tr>\n",
       "      <th>Z-5/16</th>\n",
       "      <td>-2.847656</td>\n",
       "      <td>-1.779785</td>\n",
       "      <td>-1.779785</td>\n",
       "      <td>-1.779785</td>\n",
       "      <td>-1.779785</td>\n",
       "    </tr>\n",
       "    <tr>\n",
       "      <th>nl Apantallada</th>\n",
       "      <td>-2.000000</td>\n",
       "      <td>-1.250000</td>\n",
       "      <td>-1.250000</td>\n",
       "      <td>-1.250000</td>\n",
       "      <td>-1.250000</td>\n",
       "    </tr>\n",
       "    <tr>\n",
       "      <th>Veff</th>\n",
       "      <td>-3.160494</td>\n",
       "      <td>-1.785047</td>\n",
       "      <td>-1.810647</td>\n",
       "      <td>-1.785047</td>\n",
       "      <td>-1.810647</td>\n",
       "    </tr>\n",
       "  </tbody>\n",
       "</table>\n",
       "</div>"
      ],
      "text/plain": [
       "Terminos                       1_1S      2_1P      2_1S      2_3P      2_3S\n",
       "Aproximacion                                                               \n",
       "Producto de Hidrogenoides -4.000000 -2.500000 -2.500000 -2.500000 -2.500000\n",
       "Z-5/16                    -2.847656 -1.779785 -1.779785 -1.779785 -1.779785\n",
       "nl Apantallada            -2.000000 -1.250000 -1.250000 -1.250000 -1.250000\n",
       "Veff                      -3.160494 -1.785047 -1.810647 -1.785047 -1.810647"
      ]
     },
     "execution_count": 29,
     "metadata": {},
     "output_type": "execute_result"
    }
   ],
   "source": [
    "dfHe = pd.DataFrame(energias_He)\n",
    "dfHe.index = [\"Producto de Hidrogenoides\", \"Z-5/16\", \"nl Apantallada\", \"Veff\"]\n",
    "dfHe.index.name = \"Aproximacion\"\n",
    "dfHe.columns.name = \"Terminos\"\n",
    "dfHe"
   ]
  },
  {
   "cell_type": "code",
   "execution_count": 30,
   "metadata": {},
   "outputs": [
    {
     "data": {
      "text/html": [
       "<div>\n",
       "<style>\n",
       "    .dataframe thead tr:only-child th {\n",
       "        text-align: right;\n",
       "    }\n",
       "\n",
       "    .dataframe thead th {\n",
       "        text-align: left;\n",
       "    }\n",
       "\n",
       "    .dataframe tbody tr th {\n",
       "        vertical-align: top;\n",
       "    }\n",
       "</style>\n",
       "<table border=\"1\" class=\"dataframe\">\n",
       "  <thead>\n",
       "    <tr style=\"text-align: right;\">\n",
       "      <th>Terminos</th>\n",
       "      <th>1_1S</th>\n",
       "      <th>2_1P</th>\n",
       "      <th>2_1S</th>\n",
       "      <th>2_3P</th>\n",
       "      <th>2_3S</th>\n",
       "    </tr>\n",
       "    <tr>\n",
       "      <th>Aproximacion</th>\n",
       "      <th></th>\n",
       "      <th></th>\n",
       "      <th></th>\n",
       "      <th></th>\n",
       "      <th></th>\n",
       "    </tr>\n",
       "  </thead>\n",
       "  <tbody>\n",
       "    <tr>\n",
       "      <th>Producto de Hidrogenoides</th>\n",
       "      <td>-36.000001</td>\n",
       "      <td>-22.500000</td>\n",
       "      <td>-22.500000</td>\n",
       "      <td>-22.500000</td>\n",
       "      <td>-22.500000</td>\n",
       "    </tr>\n",
       "    <tr>\n",
       "      <th>Z-5/16</th>\n",
       "      <td>-32.347657</td>\n",
       "      <td>-20.217285</td>\n",
       "      <td>-20.217285</td>\n",
       "      <td>-20.217285</td>\n",
       "      <td>-20.217285</td>\n",
       "    </tr>\n",
       "    <tr>\n",
       "      <th>nl Apantallada</th>\n",
       "      <td>-30.000000</td>\n",
       "      <td>-18.750000</td>\n",
       "      <td>-18.750000</td>\n",
       "      <td>-18.750000</td>\n",
       "      <td>-18.750000</td>\n",
       "    </tr>\n",
       "    <tr>\n",
       "      <th>Veff</th>\n",
       "      <td>12.019975</td>\n",
       "      <td>7.519946</td>\n",
       "      <td>7.519938</td>\n",
       "      <td>7.519946</td>\n",
       "      <td>7.519938</td>\n",
       "    </tr>\n",
       "  </tbody>\n",
       "</table>\n",
       "</div>"
      ],
      "text/plain": [
       "Terminos                        1_1S       2_1P       2_1S       2_3P  \\\n",
       "Aproximacion                                                            \n",
       "Producto de Hidrogenoides -36.000001 -22.500000 -22.500000 -22.500000   \n",
       "Z-5/16                    -32.347657 -20.217285 -20.217285 -20.217285   \n",
       "nl Apantallada            -30.000000 -18.750000 -18.750000 -18.750000   \n",
       "Veff                       12.019975   7.519946   7.519938   7.519946   \n",
       "\n",
       "Terminos                        2_3S  \n",
       "Aproximacion                          \n",
       "Producto de Hidrogenoides -22.500000  \n",
       "Z-5/16                    -20.217285  \n",
       "nl Apantallada            -18.750000  \n",
       "Veff                        7.519938  "
      ]
     },
     "execution_count": 30,
     "metadata": {},
     "output_type": "execute_result"
    }
   ],
   "source": [
    "dfC = pd.DataFrame(energias_C)\n",
    "dfC.index = [\"Producto de Hidrogenoides\", \"Z-5/16\", \"nl Apantallada\", \"Veff\"]\n",
    "dfC.index.name = \"Aproximacion\"\n",
    "dfC.columns.name = \"Terminos\"\n",
    "dfC"
   ]
  },
  {
   "cell_type": "markdown",
   "metadata": {},
   "source": [
    "- No se muy bien porque me dio positivo el calculo con el Veff"
   ]
  },
  {
   "cell_type": "markdown",
   "metadata": {},
   "source": [
    "# Integral de termino interelectronico para el 1s1s"
   ]
  },
  {
   "cell_type": "code",
   "execution_count": 35,
   "metadata": {},
   "outputs": [
    {
     "name": "stdout",
     "output_type": "stream",
     "text": [
      "E(1s1s) = -2.75\n"
     ]
    }
   ],
   "source": [
    "J1s1s = 5/4 # Solucion analitica de la integral considerando el termino interelectronico para el 1s1s (griffiths)\n",
    "E_1s1s = -4 + J1s1s\n",
    "print \"E(1s1s) =\",E_1s1s"
   ]
  },
  {
   "cell_type": "markdown",
   "metadata": {},
   "source": [
    "# Calculo de integrales Directas ($J_{nl}$) e Intercambio ($K_{nl}$)"
   ]
  },
  {
   "cell_type": "code",
   "execution_count": 32,
   "metadata": {
    "collapsed": true
   },
   "outputs": [],
   "source": [
    "def rMayor(r1,r2):\n",
    "    if r1 >= r2:\n",
    "        return r1\n",
    "    else:\n",
    "        return r2\n",
    "\n",
    "def rMenor(r1,r2):\n",
    "    if r1 >= r2:\n",
    "        return r2\n",
    "    else:\n",
    "        return r1\n",
    "\n",
    "def Jnl(n,l,Z):\n",
    "    func = lambda r1,r2: (R1F1(1,0,Z,r1)*r1*R1F1(n,l,Z,r2)*r2)**2/rMayor(r1,r2)\n",
    "    return integrate.dblquad(func,0,np.inf,lambda r: 0, lambda r: np.inf)[0]\n",
    "\n",
    "def Knl(n,l,Z):\n",
    "    func = lambda r1,r2: 1/(2*l+1)*R1F1(1,0,Z,r1)*R1F1(n,l,Z,r1)*r1**2*R1F1(1,0,Z,r2)*R1F1(n,l,Z,r2)*r2**2*rMenor(r1,r2)**l/rMayor(r1,r2)**(l+1)\n",
    "    return integrate.dblquad(func,0,np.inf,lambda r: 0, lambda r: np.inf)[0]"
   ]
  },
  {
   "cell_type": "code",
   "execution_count": 33,
   "metadata": {
    "collapsed": true
   },
   "outputs": [],
   "source": [
    "# Calculo las integrales para n = 2 y l = 0,1\n",
    "J20 = Jnl(2,0,2)\n",
    "J21 = Jnl(2,1,2)\n",
    "K20 = Knl(2,0,2)\n",
    "K21 = Knl(2,1,2)"
   ]
  },
  {
   "cell_type": "code",
   "execution_count": 34,
   "metadata": {},
   "outputs": [
    {
     "name": "stdout",
     "output_type": "stream",
     "text": [
      "Energia 2_1S = -2.03635116351\n",
      "Energia 2_3S = -2.12414266325\n",
      "Energia 2_1P = -1.98026214415\n",
      "Energia 2_3P = -2.05829903913\n"
     ]
    }
   ],
   "source": [
    "E2_1S = -2.5 + J20 + K20\n",
    "E2_3S = -2.5 + J20 - K20\n",
    "E2_1P = -2.5 + J21 + K21\n",
    "E2_3P = -2.5 + J21 - K20\n",
    "print \"Energia 2_1S =\",E2_1S\n",
    "print \"Energia 2_3S =\",E2_3S\n",
    "print \"Energia 2_1P =\",E2_1P\n",
    "print \"Energia 2_3P =\",E2_3P"
   ]
  },
  {
   "cell_type": "markdown",
   "metadata": {},
   "source": [
    "# Variacional (No entendi como hacer variacional con funciones de onda que dependen de 2 variables)"
   ]
  },
  {
   "cell_type": "markdown",
   "metadata": {
    "collapsed": true
   },
   "source": [
    "# Diferentes iones con AutoStructure"
   ]
  },
  {
   "cell_type": "code",
   "execution_count": 36,
   "metadata": {},
   "outputs": [
    {
     "data": {
      "image/png": "[encoded data removed]",
      "text/plain": [
       "<matplotlib.figure.Figure at 0x7fc7f0528450>"
      ]
     },
     "metadata": {},
     "output_type": "display_data"
    }
   ],
   "source": [
    "Iones = [\"$He$\",\"$Li^+$\",\"$Be^{2+}$\",\"$B^{3+}$\",\"$C^{4+}$\"]\n",
    "E_AS = [-2.861193, -7.2366525, -13.6132645, -21.992011, -32.374202] # Valores obtenidos del autostructure\n",
    "colors = list(\"rgbym\")\n",
    "for E,lab,color in zip(E_AS,Iones,colors):\n",
    "    plt.axhline(E,linestyle='dashed',label=lab+\"$={:.4f}$\".format(E),color=color)\n",
    "plt.title(\"Iones de Helio con AutoStructure\")\n",
    "plt.legend(loc='best')\n",
    "plt.show()"
   ]
  }
 ],
 "metadata": {
  "kernelspec": {
   "display_name": "Python 2",
   "language": "python",
   "name": "python2"
  },
  "language_info": {
   "codemirror_mode": {
    "name": "ipython",
    "version": 2
   },
   "file_extension": ".py",
   "mimetype": "text/x-python",
   "name": "python",
   "nbconvert_exporter": "python",
   "pygments_lexer": "ipython2",
   "version": "2.7.12"
  }
 },
 "nbformat": 4,
 "nbformat_minor": 2
}
