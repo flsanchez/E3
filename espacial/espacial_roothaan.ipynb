{
 "cells": [
  {
   "cell_type": "markdown",
   "metadata": {},
   "source": [
    "# Practica especial: Calculo de integrales utiles en molecular\n",
    "## Por Facundo L Sanchez"
   ]
  },
  {
   "cell_type": "code",
   "execution_count": null,
   "metadata": {
    "collapsed": true
   },
   "outputs": [],
   "source": [
    "import numpy as np\n",
    "from math import factorial\n",
    "import matplotlib.pyplot as plt\n",
    "from scipy.integrate import tplquad\n",
    "from __future__ import division\n",
    "from scipy.interpolate import spline\n",
    "from scipy.interpolate import splrep,splev\n",
    "import time as tm\n",
    "%matplotlib inline"
   ]
  },
  {
   "cell_type": "markdown",
   "metadata": {},
   "source": [
    "# La idea general de la practica es usar el paper de Roothaan, 1951 (http://dx.doi.org/10.1063/1.1748100) para recrear el valor de algunas integrales de un electron (overlap y atraccion nuclear) y de dos electrones (coulomb) en 2 centros usando STO. Luego voy a hacer la evaluacion numerica de las mismas usando coordenadas esferoidales prolatas y quadraturas en 3D (modulo scipy.integrate.tplquad) y comparar ambos resultados."
   ]
  },
  {
   "cell_type": "markdown",
   "metadata": {},
   "source": [
    "# Voy proponer una molecula de dos atomos (elegí que el atomo 1 sea Li ($Z_{Li} = 3$) y el atomo 2 sea H ($Z_{H} = 1$) )"
   ]
  },
  {
   "cell_type": "markdown",
   "metadata": {},
   "source": [
    "# Los orbitales de Slater normalizados quedan definidos como:\n",
    "# $\\chi_{n,l,m}^{(a/b)}(\\zeta,r_{a/b},\\theta,\\phi) = (2\\zeta)^{n+\\frac{1}{2}} [(2n)! ]^{-\\frac{1}{2}}r_{a/b}^{n-1} e^{-\\zeta r_{a/b}} S_{l,m}(\\theta,\\phi)$\n",
    "## Con $r_{a/b} = |\\vec{r} - \\vec{R_{a/b}}|$ la distancia del electro medido desde el nucleo a o b, $\\zeta = \\frac{Z}{n}$ la carga nuclear efectiva y $S_{l,m}(\\theta,\\phi)$ los armonicos esfericos reales (normalizados)"
   ]
  },
  {
   "cell_type": "markdown",
   "metadata": {},
   "source": [
    "## Como voy a trabajar con orbitales ns, el armonico esferico es $S_{0,0} = \\frac{1}{\\sqrt{4\\pi}}$"
   ]
  },
  {
   "cell_type": "markdown",
   "metadata": {},
   "source": [
    "# Defino los Slaters en distintos centros"
   ]
  },
  {
   "cell_type": "code",
   "execution_count": null,
   "metadata": {
    "collapsed": true
   },
   "outputs": [],
   "source": [
    "def Slater_a(n,l,m,Z,R,ksi,eta,phi):\n",
    "    return (2*Z/n)**(n+0.5)*factorial(2*n)**(-0.5)*(0.5*(ksi+eta)*R)**(n-1)*np.exp(-Z/n*0.5*(ksi+eta)*R)/(np.pi*4)**0.5\n",
    "\n",
    "def Slater_b(n,l,m,Z,R,ksi,eta,phi):\n",
    "    return (2*Z/n)**(n+0.5)*factorial(2*n)**(-0.5)*(0.5*(ksi-eta)*R)**(n-1)*np.exp(-Z/n*0.5*(ksi-eta)*R)/(np.pi*4)**0.5\n"
   ]
  },
  {
   "cell_type": "markdown",
   "metadata": {},
   "source": [
    "# Las integrales a resolver son:\n",
    "# Un electron:\n",
    "$\n",
    "\\begin{cases}\n",
    "(\\chi _a | \\chi_b) = \\int \\chi_a \\chi_b d\\vec{r} \\quad\\quad\\text{(overlap)} \\\\\n",
    "(\\chi _a|\\frac{Z}{r_a} |\\chi_b) = \\int \\chi_a \\frac{Z}{r_a}\\chi_b d\\vec{r} \\quad\\quad\\text{(atraccion nuclear)} \\\\\n",
    "(\\chi _b|\\frac{Z}{r_a} |\\chi'_b) = \\int \\chi_b \\frac{Z}{r_a}\\chi'_b d\\vec{r} \\quad\\quad\\text{(atraccion nuclear)} \\\\\n",
    "\\end{cases}\n",
    "$\n",
    "# Dos electrones:\n",
    "$\n",
    "\\begin{align}\n",
    "(\\chi _a \\chi _b | \\frac{1}{r} |\\chi'_a \\chi'_b) = \\int \\chi _a(1) \\chi _b(2) \\frac{1}{r_{12}} \\chi'_a(1) \\chi'_b(2) d\\vec{r_1}d\\vec{r_2} \\quad\\quad\\text{(coulomb)}\n",
    "\\end{align}\n",
    "$"
   ]
  },
  {
   "cell_type": "markdown",
   "metadata": {},
   "source": [
    "# Las coordenadas esferoidales:\n",
    "$\n",
    "\\begin{cases} r_{a/b} = \\frac{\\xi \\pm \\eta}{2}R \\\\\n",
    "\\cos(\\theta_{a/b}) = \\frac{1 \\pm \\xi \\eta}{\\xi \\pm \\eta} \\\\\n",
    "\\phi = \\phi_a = \\phi_b\n",
    "\\end{cases}\n",
    "$\n",
    "## siendo R la distancia internuclear.\n",
    "## El dominio de las nuevas variables\n",
    "$\n",
    "\\begin{cases}\n",
    "\\xi \\in [1,\\infty )\\\\\n",
    "\\eta \\in [-1,1]\\\\\n",
    "\\phi \\in [0,2\\pi]\n",
    "\\end{cases}\n",
    "$\n",
    "## y el elemento de volumen\n",
    "$d\\vec{r} = (\\frac{R}{2})^3 (\\xi^2-\\eta^2)d\\xi d\\eta d\\phi$."
   ]
  },
  {
   "cell_type": "markdown",
   "metadata": {},
   "source": [
    "# Defino entonces las funciones a integrar"
   ]
  },
  {
   "cell_type": "code",
   "execution_count": null,
   "metadata": {
    "collapsed": true
   },
   "outputs": [],
   "source": [
    "# Integral de overlap\n",
    "integral_overlap = lambda ksi,eta,phi,R,n1,l1,m1,Z1,n2,l2,m2,Z2: Slater_a(n1,l1,m1,Z1,R,ksi,eta,phi)*Slater_b(n2,l2,m2,Z2,R,ksi,eta,phi)*(R/2)**3*(ksi**2-eta**2)\n",
    "\n",
    "# Integral 1/ra con orbitales en 2 centros\n",
    "integral_rminus = lambda ksi,eta,phi,R,n1,l1,m1,Z1,n2,l2,m2,Z2: Slater_a(n1,l1,m1,Z1,R,ksi,eta,phi)*Slater_b(n2,l2,m2,Z2,R,ksi,eta,phi)*(R/2)**3*(ksi**2-eta**2)/float(0.5*(ksi+eta)*R)\n",
    "\n",
    "# Integral 1/ra con orbitales en 1 centro\n",
    "integral_rminus_one_centre = lambda ksi,eta,phi,R,n1,l1,m1,Z1,n2,l2,m2,Z2: Slater_b(n2,l2,m2,Z2,R,ksi,eta,phi)*Slater_b(n2,l2,m2,Z2,R,ksi,eta,phi)*(R/2)**3*(ksi**2-eta**2)/(0.5*(ksi+eta)*R)\n"
   ]
  },
  {
   "cell_type": "markdown",
   "metadata": {},
   "source": [
    "# Una vez definido todo, voy a arrancar los calculos. Siempre voy a usar distancia interatomica R = 3"
   ]
  },
  {
   "cell_type": "markdown",
   "metadata": {},
   "source": [
    "# Voy a calcular $ (1s_a|1s_b)$"
   ]
  },
  {
   "cell_type": "code",
   "execution_count": null,
   "metadata": {
    "collapsed": true
   },
   "outputs": [],
   "source": [
    "# Defino los parametros\n",
    "n1 = 1\n",
    "l1 = 0\n",
    "m1 = 0\n",
    "n2 = 1\n",
    "l2 = 0\n",
    "m2 = 0\n",
    "Z1 = 3\n",
    "Z2 = 1\n",
    "R = 3"
   ]
  },
  {
   "cell_type": "code",
   "execution_count": null,
   "metadata": {},
   "outputs": [],
   "source": [
    "# Hago la integral triple\n",
    "overlap = tplquad(lambda ksi,eta,phi: integral_overlap(ksi,eta,phi,R,n1,l1,m1,Z1,n2,l2,m2,Z2),0,2*np.pi, lambda phi: -1, lambda phi: 1, lambda phi,eta: 1, lambda phi,eta: np.inf)\n",
    "\n",
    "print overlap[0]"
   ]
  },
  {
   "cell_type": "markdown",
   "metadata": {},
   "source": [
    "# Comparo con la formula explicita en el paper ( pag 1449, eq (25) ). Como procedimiento general, para evaluar las formulas explicitas me tengo que definir los parametros de las eqs (15) y (16)."
   ]
  },
  {
   "cell_type": "code",
   "execution_count": null,
   "metadata": {
    "collapsed": true
   },
   "outputs": [],
   "source": [
    "# Defino los parametros usando los datos de mis atomos\n",
    "ksia = Z1/n1\n",
    "ksib = Z2/n2\n",
    "ksi = 1/2*(ksia+ksib)\n",
    "tau = (ksia-ksib)/(ksia+ksib)\n",
    "rho = ksi*R\n",
    "k = (ksia**2+ksib**2)/(ksia**2-ksib**2)\n",
    "rhoa = ksia*R\n",
    "rhob = ksib*R"
   ]
  },
  {
   "cell_type": "code",
   "execution_count": null,
   "metadata": {},
   "outputs": [],
   "source": [
    "sa1sb1 = (1-tau**2)**0.5/(tau*rho)*(-(1-k)*(2*(1+k)+rhoa)*np.exp(-rhoa)+(1+k)*(2*(1-k)+rhob)*np.exp(-rhob))\n",
    "print sa1sb1"
   ]
  },
  {
   "cell_type": "code",
   "execution_count": null,
   "metadata": {},
   "outputs": [],
   "source": [
    "# Calculo la diferencia entre ambos resultados\n",
    "np.abs(overlap[0]-sa1sb1)"
   ]
  },
  {
   "cell_type": "markdown",
   "metadata": {},
   "source": [
    "# Voy a calcular $ (1s_a|2s_b)$"
   ]
  },
  {
   "cell_type": "code",
   "execution_count": null,
   "metadata": {
    "collapsed": true
   },
   "outputs": [],
   "source": [
    "n1 = 1\n",
    "l1 = 0\n",
    "m1 = 0\n",
    "n2 = 2\n",
    "l2 = 0\n",
    "m2 = 0\n",
    "Z1 = 3\n",
    "Z2 = 1\n",
    "R = 3"
   ]
  },
  {
   "cell_type": "code",
   "execution_count": null,
   "metadata": {},
   "outputs": [],
   "source": [
    "overlap = tplquad(lambda ksi,eta,phi: integral_overlap(ksi,eta,phi,R,n1,l1,m1,Z1,n2,l2,m2,Z2),0,2*np.pi, lambda phi: -1, lambda phi: 1, lambda phi,eta: 1, lambda phi,eta: np.inf)\n",
    "\n",
    "print overlap[0]\n"
   ]
  },
  {
   "cell_type": "markdown",
   "metadata": {},
   "source": [
    "# Comparo con la formula analitica"
   ]
  },
  {
   "cell_type": "code",
   "execution_count": null,
   "metadata": {
    "collapsed": true
   },
   "outputs": [],
   "source": [
    "ksia = Z1/n1\n",
    "ksib = Z2/n2\n",
    "ksi = 1/2*(ksia+ksib)\n",
    "tau = (ksia-ksib)/(ksia+ksib)\n",
    "rho = ksi*R\n",
    "k = (ksia**2+ksib**2)/(ksia**2-ksib**2)\n",
    "rhoa = ksia*R\n",
    "rhob = ksib*R\n"
   ]
  },
  {
   "cell_type": "code",
   "execution_count": null,
   "metadata": {},
   "outputs": [],
   "source": [
    "sa1sb2=(1-tau**2)**(1/2)/(3**0.5*tau*rho)*(-(1-k)*(2*(1+k)*(2-3*k)+(1-2*k)*rhoa)*np.exp(-rhoa)+\\\n",
    "                                         (1+k)*(2*(1-k)*(2-3*k)+4*(1-k)*rhob+rhob**2)*np.exp(-rhob))\n",
    "print sa1sb2"
   ]
  },
  {
   "cell_type": "code",
   "execution_count": null,
   "metadata": {},
   "outputs": [],
   "source": [
    "# Calculo la diferencia entre ambos resultados\n",
    "np.abs(overlap[0]-sa1sb2)"
   ]
  },
  {
   "cell_type": "markdown",
   "metadata": {},
   "source": [
    "# Ahora voy a calcular las atracciones nucleares"
   ]
  },
  {
   "cell_type": "markdown",
   "metadata": {},
   "source": [
    "# Voy a calcular $(2s_a|\\frac{1}{r_a}|1s_b)$"
   ]
  },
  {
   "cell_type": "code",
   "execution_count": null,
   "metadata": {
    "collapsed": true
   },
   "outputs": [],
   "source": [
    "n1 = 2\n",
    "l1 = 0\n",
    "m1 = 0\n",
    "n2 = 1\n",
    "l2 = 0\n",
    "m2 = 0\n",
    "Z1 = 3\n",
    "Z2 = 1\n",
    "R = 3"
   ]
  },
  {
   "cell_type": "code",
   "execution_count": null,
   "metadata": {},
   "outputs": [],
   "source": [
    "rminus = tplquad(lambda ksi,eta,phi: integral_rminus(ksi,eta,phi,R,n1,l1,m1,Z1,n2,l2,m2,Z2),-np.pi,np.pi, lambda phi: -1, lambda phi: 1, lambda phi,eta: 1, lambda phi,eta: np.inf)\n",
    "\n",
    "print rminus[0]\n"
   ]
  },
  {
   "cell_type": "markdown",
   "metadata": {},
   "source": [
    "# Usando la formula analitica"
   ]
  },
  {
   "cell_type": "code",
   "execution_count": null,
   "metadata": {
    "collapsed": true
   },
   "outputs": [],
   "source": [
    "ksia = Z1/n1\n",
    "ksib = Z2/n2\n",
    "ksi = 1/2*(ksia+ksib)\n",
    "tau = (ksia-ksib)/(ksia+ksib)\n",
    "rho = ksi*R\n",
    "k = (ksia**2+ksib**2)/(ksia**2-ksib**2)\n",
    "rhoa = ksia*R\n",
    "rhob = ksib*R"
   ]
  },
  {
   "cell_type": "code",
   "execution_count": null,
   "metadata": {},
   "outputs": [],
   "source": [
    "sa1sb1 = (1-tau**2)**0.5/(tau*rho)*(-(1-k)*(2*(1+k)+rhoa)*np.exp(-rhoa)+(1+k)*(2*(1-k)+rhob)*np.exp(-rhob))\n",
    "\n",
    "print (1/3**0.5)*ksi*(1+tau)*sa1sb1"
   ]
  },
  {
   "cell_type": "code",
   "execution_count": null,
   "metadata": {},
   "outputs": [],
   "source": [
    "# Calculo la diferencia entre ambos resultados\n",
    "np.abs(rminus[0]-(1/3**0.5)*ksi*(1+tau)*sa1sb1)"
   ]
  },
  {
   "cell_type": "markdown",
   "metadata": {},
   "source": [
    "# Voy a calcular $(2s_a|\\frac{1}{r_a}|2s_b)$"
   ]
  },
  {
   "cell_type": "code",
   "execution_count": null,
   "metadata": {
    "collapsed": true
   },
   "outputs": [],
   "source": [
    "n1 = 2\n",
    "l1 = 0\n",
    "m1 = 0\n",
    "n2 = 2\n",
    "l2 = 0\n",
    "m2 = 0\n",
    "Z1 = 3\n",
    "Z2 = 1\n",
    "R = 3"
   ]
  },
  {
   "cell_type": "code",
   "execution_count": null,
   "metadata": {},
   "outputs": [],
   "source": [
    "rminus = tplquad(lambda ksi,eta,phi: integral_rminus(ksi,eta,phi,R,n1,l1,m1,Z1,n2,l2,m2,Z2),0,2*np.pi, lambda phi: -1, lambda phi: 1, lambda phi,eta: 1, lambda phi,eta: np.inf)\n",
    "\n",
    "print rminus[0]\n"
   ]
  },
  {
   "cell_type": "markdown",
   "metadata": {},
   "source": [
    "# Usando la formula explicita"
   ]
  },
  {
   "cell_type": "code",
   "execution_count": null,
   "metadata": {
    "collapsed": true
   },
   "outputs": [],
   "source": [
    "ksia = Z1/n1\n",
    "ksib = Z2/n2\n",
    "ksi = 1/2*(ksia+ksib)\n",
    "tau = (ksia-ksib)/(ksia+ksib)\n",
    "rho = ksi*R\n",
    "k = (ksia**2+ksib**2)/(ksia**2-ksib**2)\n",
    "rhoa = ksia*R\n",
    "rhob = ksib*R"
   ]
  },
  {
   "cell_type": "code",
   "execution_count": null,
   "metadata": {},
   "outputs": [],
   "source": [
    "sa1sb2=(1-tau**2)**(0.5)/(3**0.5*tau*rho)*(-(1-k)*(2*(1+k)*(2-3*k)+(1-2*k)*rhoa)*np.exp(-rhoa)+\\\n",
    "                                         (1+k)*(2*(1-k)*(2-3*k)+4*(1-k)*rhob+rhob**2)*np.exp(-rhob))\n",
    "print (1/3**0.5)*ksi*(1+tau)*sa1sb2"
   ]
  },
  {
   "cell_type": "code",
   "execution_count": null,
   "metadata": {},
   "outputs": [],
   "source": [
    "# Calculo la diferencia entre ambos resultados\n",
    "np.abs(rminus[0]-(1/3**0.5)*ksi*(1+tau)*sa1sb2)"
   ]
  },
  {
   "cell_type": "markdown",
   "metadata": {},
   "source": [
    "# Ahora quiero calcular la integral de Coulomb $(1s_a1s_b|\\frac{1}{r}|1s_a1s_b)$"
   ]
  },
  {
   "cell_type": "markdown",
   "metadata": {},
   "source": [
    "## Voy a seguir el procedimiento que hace en el paper, en el cual primero calcula el potencial de interaccion de la distribucion de carga de un electron con el nucleo y luego, con este potencial, se integra para el otro electron, de manera que queden integrales de un electron cada vez. Basicamente:\n",
    "## $(1s_a1s_b|\\frac{1}{r}|1s_a1s_b) = [\\Omega_a|\\Omega_b] = \\int \\int \\frac{\\Omega_a(1)\\Omega_b(2)}{r_{12}} d\\vec{r_1}d\\vec{r_2} = \\int \\Omega_b(2) U(2) d\\vec{r_2}$ ,\n",
    "## donde $\\Omega$ es la distribucion de carga de un electron con respecto a un centro. Entonces, lo que hace es integrar alguna de los 2 juegos de variables para obtener un potencial U evaluado en cada punto y luego integrar este potencial con respecto al otro juego de variables."
   ]
  },
  {
   "cell_type": "markdown",
   "metadata": {},
   "source": [
    "# Primero tenemos que hallar el potencial $U_{1s}$, pero este se puede escribir de una manera muy simple en funcion de la distribucion de carga $[a|1S_b]$ (eq (32)), entonces vamos con las integrales de distribucion de carga. En nuestro caso, por los orbitales elegidos tenemos $[a|1s_b1's_b] = [a|1S_b]$ (eq (12))"
   ]
  },
  {
   "cell_type": "markdown",
   "metadata": {},
   "source": [
    "# Defino los parametros"
   ]
  },
  {
   "cell_type": "code",
   "execution_count": null,
   "metadata": {
    "collapsed": true
   },
   "outputs": [],
   "source": [
    "Z1 = 3\n",
    "Z2 = 1\n",
    "n1 = 1\n",
    "l1 = 0\n",
    "m1 = 0\n",
    "n2 = 1\n",
    "l2 = 0\n",
    "m2 = 0\n",
    "R = 3"
   ]
  },
  {
   "cell_type": "markdown",
   "metadata": {},
   "source": [
    "# Evaluo la integral $[a|1S_b]$ en un punto, para corroborar con la forma analitica"
   ]
  },
  {
   "cell_type": "code",
   "execution_count": null,
   "metadata": {},
   "outputs": [],
   "source": [
    "nuclear_att = tplquad(lambda ksi,eta,phi: integral_rminus_one_centre(ksi,eta,phi,R,n1,l1,m1,Z1,n2,l2,m2,Z2),0,2*np.pi, lambda phi: -1, lambda phi: 1, lambda phi,eta: 1, lambda phi,eta: np.inf)\n",
    "print nuclear_att[0]"
   ]
  },
  {
   "cell_type": "markdown",
   "metadata": {},
   "source": [
    "# Comparo con la formula analitica ( eq (31) )"
   ]
  },
  {
   "cell_type": "code",
   "execution_count": null,
   "metadata": {
    "collapsed": true
   },
   "outputs": [],
   "source": [
    "ksihat = 1/2*(2*Z2/n2)\n",
    "rho = R*ksihat"
   ]
  },
  {
   "cell_type": "code",
   "execution_count": null,
   "metadata": {},
   "outputs": [],
   "source": [
    "a_1Sb = ksihat/rho*(1-(1+rho)*np.exp(-2*rho))\n",
    "print a_1Sb"
   ]
  },
  {
   "cell_type": "code",
   "execution_count": null,
   "metadata": {},
   "outputs": [],
   "source": [
    "# Calculo la diferencia\n",
    "np.abs(nuclear_att[0] - a_1Sb)"
   ]
  },
  {
   "cell_type": "markdown",
   "metadata": {},
   "source": [
    "# Ahora, a partir de la integral $[a|1S_b]$ evaluando en cada distancia interatomica, me construyo el potencial correspondiente $U_{1S}(r,\\theta,\\phi)$"
   ]
  },
  {
   "cell_type": "code",
   "execution_count": null,
   "metadata": {
    "collapsed": true
   },
   "outputs": [],
   "source": [
    "U1s_func = lambda r: tplquad(lambda ksi,eta,phi: integral_rminus_one_centre(ksi,eta,phi,r,n1,l1,m1,Z1,n2,l2,m2,Z2),0,2*np.pi, lambda phi: -1, lambda phi: 1, lambda phi,eta: 1, lambda phi,eta: np.inf)[0]"
   ]
  },
  {
   "cell_type": "markdown",
   "metadata": {},
   "source": [
    "# Esta integral es bastante costosa de hacer punto a punto, por lo que propongo construirme una aproximacion de la misma haciendo un spline sobre un grid logaritmico"
   ]
  },
  {
   "cell_type": "markdown",
   "metadata": {},
   "source": [
    "# Voy a la forma aproximada del potencial para ver como hago mi grid"
   ]
  },
  {
   "cell_type": "code",
   "execution_count": null,
   "metadata": {},
   "outputs": [],
   "source": [
    "r = np.logspace(np.log10(1e-3),np.log10(10000),20)\n",
    "U_test = np.zeros(20)\n",
    "for i in range(20):\n",
    "    U_test[i] = U1s_func(r[i])"
   ]
  },
  {
   "cell_type": "code",
   "execution_count": null,
   "metadata": {},
   "outputs": [],
   "source": [
    "plt.plot(r,U_test,'r.-')\n",
    "plt.yscale('log')"
   ]
  },
  {
   "cell_type": "markdown",
   "metadata": {},
   "source": [
    "# Pareceria ser que para el ultimo punto r = 10000, la integracion no estaria siendo tan buena, o decae abruptamente a cero. De cualquier manera, voy a poner como limite de mi intervalo de sampleo r = 4000, que es el anteultimo punto del grafico"
   ]
  },
  {
   "cell_type": "code",
   "execution_count": null,
   "metadata": {
    "scrolled": true
   },
   "outputs": [],
   "source": [
    "plt.plot(r[:15],U_test[:15],'r.-')\n",
    "plt.yscale('log')"
   ]
  },
  {
   "cell_type": "markdown",
   "metadata": {},
   "source": [
    "# Ademas, a partir de r = 100, parece tener un caracter lineal. Entonces voy a samplear en 2 intervalos, uno de $10^{-3}$ a 100 con 100 puntos, y otro de 100 a 4000 con 20 puntos, la idea es poder reproducir mejor el comportamiento cerca del r = 0, ya que luego se comporta lineal, por eso tengo menos puntos en el otro rango"
   ]
  },
  {
   "cell_type": "markdown",
   "metadata": {},
   "source": [
    "# Me construyo un grid sobre el cual samplear la integral"
   ]
  },
  {
   "cell_type": "code",
   "execution_count": null,
   "metadata": {},
   "outputs": [],
   "source": [
    "r = np.logspace(np.log10(1e-3),np.log10(100),100)\n",
    "r_prime = np.logspace(np.log10(101),np.log10(4000),20)\n",
    "r = np.append(r,r_prime)\n",
    "print r"
   ]
  },
  {
   "cell_type": "markdown",
   "metadata": {},
   "source": [
    "# Voy a evaluar la integral en el grid para obtener el potencial (guarda que tarda unos 5 minutos aprox.)"
   ]
  },
  {
   "cell_type": "code",
   "execution_count": null,
   "metadata": {},
   "outputs": [],
   "source": [
    "time_st = tm.time()\n",
    "U1s = np.zeros(len(r))\n",
    "for i in range(len(r)):\n",
    "    if i%10 == 0:\n",
    "        print i\n",
    "    U1s[i] = U1s_func(r[i])\n",
    "time_end = tm.time()\n",
    "print \"Tiempo de ejecucion:\",int(time_end - time_st),\"seg\""
   ]
  },
  {
   "cell_type": "markdown",
   "metadata": {},
   "source": [
    "# Voy a graficar el potencial sampleado y el analitico (eq (33)) en log-log para comparar"
   ]
  },
  {
   "cell_type": "code",
   "execution_count": null,
   "metadata": {},
   "outputs": [],
   "source": [
    "plt.plot(r,U1s,'r.',label='Calculado')\n",
    "plt.plot(r,1/r*(1-(1+r*ksihat)*np.exp(-2*r*ksihat)),label='Analitico')\n",
    "plt.legend(loc='best')\n",
    "plt.yscale('log')\n",
    "plt.xscale('log')\n",
    "plt.title(\"Comparacion Potencial Calculado y Analitico\")"
   ]
  },
  {
   "cell_type": "markdown",
   "metadata": {},
   "source": [
    "# Grafico la diferencia entre ambos"
   ]
  },
  {
   "cell_type": "code",
   "execution_count": null,
   "metadata": {},
   "outputs": [],
   "source": [
    "plt.plot(np.abs(U1s-1/r*(1-(1+r*ksihat)*np.exp(-2*r*ksihat))))\n",
    "plt.yscale('log')\n",
    "plt.title(\"Diferencia entre potencial Calculado y analitico\")"
   ]
  },
  {
   "cell_type": "markdown",
   "metadata": {},
   "source": [
    "# Hago el spline cubico sobre el potencial sampleado y grafico evaluando en otros valores"
   ]
  },
  {
   "cell_type": "code",
   "execution_count": null,
   "metadata": {},
   "outputs": [],
   "source": [
    "#U_func = [U1s,r]\n",
    "# Hago el spline\n",
    "U = splrep(r,U1s)\n",
    "interpol = splev(r1,U)\n",
    "# Nueva grilla\n",
    "r1 = np.linspace(1e-4,200,1000)\n",
    "plt.plot(r1,1/r1*(1-(1+r1*ksihat)*np.exp(-2*r1*ksihat)),label='Analitico')\n",
    "plt.plot(r1,interpol,'r--', label='Spline')\n",
    "plt.legend(loc='best')\n",
    "plt.xscale('log')\n",
    "plt.yscale('log')\n",
    "plt.title(\"Comparacion Spline y analitico\")"
   ]
  },
  {
   "cell_type": "markdown",
   "metadata": {},
   "source": [
    "# Grafico la diferencia entre el spline y el analitico"
   ]
  },
  {
   "cell_type": "code",
   "execution_count": null,
   "metadata": {},
   "outputs": [],
   "source": [
    "plt.plot(np.abs(interpol-1/r1*(1-(1+r1*ksihat)*np.exp(-2*r1*ksihat))))\n",
    "plt.yscale('log')\n",
    "plt.title(\"Diferencia entre Potencial via Spline y analitico\")"
   ]
  },
  {
   "cell_type": "markdown",
   "metadata": {},
   "source": [
    "# Ya tengo todo para hallar $[1S_a|1S_b]$ que, por la eq (30) se que $ [1S_a|1S_b] = (1s_a1s_b|\\frac{1}{r}|1s_a1s_b) $, que es la integral de Coulomb que buscaba"
   ]
  },
  {
   "cell_type": "code",
   "execution_count": null,
   "metadata": {
    "collapsed": true
   },
   "outputs": [],
   "source": [
    "Z1 = 3\n",
    "Z2 = 1\n",
    "n1 = 1\n",
    "l1 = 0\n",
    "m1 = 0\n",
    "n2 = 1\n",
    "l2 = 0\n",
    "m2 = 0\n",
    "R = 3"
   ]
  },
  {
   "cell_type": "markdown",
   "metadata": {},
   "source": [
    "# Hago la integral numerica usando el spline"
   ]
  },
  {
   "cell_type": "code",
   "execution_count": null,
   "metadata": {
    "collapsed": true
   },
   "outputs": [],
   "source": [
    "def integral_coulomb(U_func,R,n1,l1,m1,n2,l2,m2,Z1,Z2,ksi,eta,phi):\n",
    "    return Slater_a(n1,l1,m1,Z1,R,ksi,eta,phi)*Slater_a(n1,l1,m1,Z1,R,ksi,eta,phi)*(R/2)**3*(ksi**2-eta**2)*float(splev(0.5*R*(ksi-eta),U_func))"
   ]
  },
  {
   "cell_type": "code",
   "execution_count": null,
   "metadata": {},
   "outputs": [],
   "source": [
    "coulomb_res_calc = tplquad(lambda ksi,eta,phi: integral_coulomb(U,R,n1,l1,m1,n2,l2,m2,Z1,Z2,ksi,eta,phi),0,2*np.pi, lambda phi: -1, lambda phi: 1, lambda phi,eta: 1, lambda phi,eta: np.inf)\n",
    "print coulomb_res_calc"
   ]
  },
  {
   "cell_type": "markdown",
   "metadata": {},
   "source": [
    "# Uso la expresion analitica del potencial (eq (33)) y calculo la integral"
   ]
  },
  {
   "cell_type": "code",
   "execution_count": null,
   "metadata": {},
   "outputs": [],
   "source": [
    "integral_coulomb = lambda U_func,R,n1,l1,m1,n2,l2,m2,Z1,Z2,ksi,eta,phi: Slater_a(n1,l1,m1,Z1,R,ksi,eta,phi)*Slater_a(n1,l1,m1,Z1,R,ksi,eta,phi)*1/(0.5*R*(ksi-eta))*(1-(1+(0.5*R*(ksi-eta))*ksihat)*np.exp(-2*(0.5*R*(ksi-eta))*ksihat))*(R/2)**3*(ksi**2-eta**2)\n",
    "coulomb_res = tplquad(lambda ksi,eta,phi: integral_coulomb(U1s_func,R,n1,l1,m1,n2,l2,m2,Z1,Z2,ksi,eta,phi),0,2*np.pi, lambda phi: -1, lambda phi: 1, lambda phi,eta: 1, lambda phi,eta: np.inf)\n",
    "print coulomb_res"
   ]
  },
  {
   "cell_type": "markdown",
   "metadata": {},
   "source": [
    "# Chequeo con la formula del paper para $[1S_a|1S_b]$ (pag 1453)"
   ]
  },
  {
   "cell_type": "code",
   "execution_count": null,
   "metadata": {
    "collapsed": true
   },
   "outputs": [],
   "source": [
    "ksia = Z1/n1\n",
    "ksib = Z2/n2\n",
    "ksi = 1/2*(ksia+ksib)\n",
    "tau = (ksia-ksib)/(ksia+ksib)\n",
    "rho = ksi*R\n",
    "k = (ksia**2+ksib**2)/(ksia**2-ksib**2)\n",
    "rhoa = ksia*R\n",
    "rhob = ksib*R"
   ]
  },
  {
   "cell_type": "code",
   "execution_count": null,
   "metadata": {},
   "outputs": [],
   "source": [
    "Sa1Sb1 = ksi/rho*(1-(1-k)**2*(1/4*(2+k)+1/4*rhoa)*np.exp(-2*rhoa)-(1+k)**2*(1/4*(2-k)+1/4*rhob)*np.exp(-2*rhob))\n",
    "print Sa1Sb1"
   ]
  },
  {
   "cell_type": "markdown",
   "metadata": {},
   "source": [
    "# Comparaciones entre los valores obtenidos con la integracion via spline y la integracion via formula analitica"
   ]
  },
  {
   "cell_type": "code",
   "execution_count": null,
   "metadata": {},
   "outputs": [],
   "source": [
    "print \"Diferencia entre resultado analitico e integracion via spline: \",np.abs(coulomb_res_calc[0]-Sa1Sb1)\n",
    "print \"Diferencia entre resultado analitico e integracion con el potencial analitico: \",np.abs(coulomb_res[0]-Sa1Sb1)"
   ]
  },
  {
   "cell_type": "markdown",
   "metadata": {},
   "source": [
    "# Si bien se puede ver que la diferencia entre el calculo integrando el spline  vs integrando el potencial analitico es notable, pues hay 7 ordendes de magnitud de diferencia, podemos ver que usando el spline pude obtener 6 cifras, lo cual me parece un buen resultado, considerando el tiempo que tardó en calcular la integral con el spline y el tiempo que tardaría en calcular el potencial integrando punto a punto directamente en la integral, o sea, haciendo la integral sextuple (lo tuve corriendo aprox 6 hs y no terminó)"
   ]
  }
 ],
 "metadata": {
  "kernelspec": {
   "display_name": "Python 2",
   "language": "python",
   "name": "python2"
  },
  "language_info": {
   "codemirror_mode": {
    "name": "ipython",
    "version": 2
   },
   "file_extension": ".py",
   "mimetype": "text/x-python",
   "name": "python",
   "nbconvert_exporter": "python",
   "pygments_lexer": "ipython2",
   "version": "2.7.12"
  }
 },
 "nbformat": 4,
 "nbformat_minor": 2
}
