{
 "cells": [
  {
   "cell_type": "code",
   "execution_count": 1,
   "metadata": {
    "collapsed": true
   },
   "outputs": [],
   "source": [
    "import numpy as np\n",
    "import matplotlib.pyplot as plt\n",
    "from scipy.linalg import eigh\n",
    "from __future__ import division\n",
    "from itertools import permutations\n",
    "%matplotlib inline"
   ]
  },
  {
   "cell_type": "markdown",
   "metadata": {},
   "source": [
    "# Cargo las integrales"
   ]
  },
  {
   "cell_type": "code",
   "execution_count": 2,
   "metadata": {
    "collapsed": true
   },
   "outputs": [],
   "source": [
    "# S\n",
    "f = open(\"S_integral.txt\")\n",
    "S_int = {tuple(elem for elem in line.split(\",\")[0]): float(line.split(\",\")[1]) for line in f}\n",
    "f.close()\n",
    "keys = S_int.keys()\n",
    "# Simetrizo\n",
    "for key in keys:\n",
    "    val = S_int[key]\n",
    "    for per in permutations(key):\n",
    "        S_int[per] = val\n",
    "\n",
    "# VLi\n",
    "f = open(\"V_Li_integral.txt\")\n",
    "VLi = {tuple(elem for elem in line.split(\",\")[0]): float(line.split(\",\")[1]) for line in f}\n",
    "f.close()\n",
    "keys = VLi.keys()\n",
    "# Simetrizo\n",
    "for key in keys:\n",
    "    val = VLi[key]\n",
    "    for per in permutations(key):\n",
    "        VLi[per] = val\n",
    "\n",
    "# VH\n",
    "f = open(\"V_H_integral.txt\")\n",
    "VH = {tuple(elem for elem in line.split(\",\")[0]): float(line.split(\",\")[1]) for line in f}\n",
    "f.close()\n",
    "keys = VH.keys()\n",
    "# Simetrizo\n",
    "for key in keys:\n",
    "    val = VH[key]\n",
    "    for per in permutations(key):\n",
    "        VH[per] = val\n",
    "\n",
    "# T\n",
    "f = open(\"T_integral.txt\")\n",
    "T = {tuple(elem for elem in line.split(\",\")[0]): float(line.split(\",\")[1]) for line in f}\n",
    "f.close()\n",
    "keys = T.keys()\n",
    "# Simetrizo\n",
    "for key in keys:\n",
    "    val = T[key]\n",
    "    for per in permutations(key):\n",
    "        T[per] = val\n",
    "\n",
    "# interatomic\n",
    "f = open(\"interatomic_integral.txt\")\n",
    "intatom = {tuple(elem for elem in line.split(\",\")[0]): float(line.split(\",\")[1]) for line in f}\n",
    "f.close()\n",
    "keys = intatom.keys()\n",
    "# Simetrizo\n",
    "for key in keys:\n",
    "    val = intatom[key]\n",
    "    l1 = ''.join([index for index in key])\n",
    "    l2 = [l1[:2],l1[2:]]        \n",
    "    for per in permutations(l2):\n",
    "        b1 = per[0]\n",
    "        b2 = per[1]\n",
    "        for per1 in permutations(b1):\n",
    "            for per2 in permutations(b2):\n",
    "                composite = ''.join([''.join(per1),''.join(per2)])\n",
    "                intatom[tuple(i for i in composite)] = val"
   ]
  },
  {
   "cell_type": "markdown",
   "metadata": {},
   "source": [
    "# Me construyo el hamiltoniano"
   ]
  },
  {
   "cell_type": "code",
   "execution_count": 3,
   "metadata": {
    "collapsed": true
   },
   "outputs": [],
   "source": [
    "def H_Matriz(C,T,VH,VLi,intatom):\n",
    "    idxs = ['h','S']\n",
    "    H = np.zeros((len(idxs),len(idxs)))\n",
    "    for icont,i in enumerate(idxs):\n",
    "        for jcont,j in enumerate(idxs):\n",
    "            idx = (i,j) # indice alfabetico\n",
    "            H[icont,jcont] = T[idx] - VH[idx] - 3*VLi[idx] + 2*intatom[(i,j,'S','S')] \\\n",
    "                            + C[0]**2*intatom[(i,j,'h','h')] + C[1]**2*intatom[(i,j,'S','S')] \\\n",
    "                            + 2*C[0]*C[1]*intatom[(i,j,'h','S')]\n",
    "    return H"
   ]
  },
  {
   "cell_type": "markdown",
   "metadata": {},
   "source": [
    "# Me construyo el overlap"
   ]
  },
  {
   "cell_type": "code",
   "execution_count": 4,
   "metadata": {
    "collapsed": true
   },
   "outputs": [],
   "source": [
    "def S_Matriz(S_int):\n",
    "    idxs = ['h','S']\n",
    "    S = np.zeros((len(idxs),len(idxs)))\n",
    "    for icont,i in enumerate(idxs):\n",
    "        for jcont,j in enumerate(idxs):\n",
    "            idx = (i,j) # indice alfabetico\n",
    "            S[icont,jcont] = S_int[idx]\n",
    "    return S"
   ]
  },
  {
   "cell_type": "markdown",
   "metadata": {},
   "source": [
    "# Inicio"
   ]
  },
  {
   "cell_type": "code",
   "execution_count": 12,
   "metadata": {
    "collapsed": true
   },
   "outputs": [],
   "source": [
    "Ci = np.array([0.707,0.500])\n",
    "Eserie = []"
   ]
  },
  {
   "cell_type": "code",
   "execution_count": 7,
   "metadata": {},
   "outputs": [
    {
     "name": "stdout",
     "output_type": "stream",
     "text": [
      "[-0.76733068 -0.43889398]\n"
     ]
    }
   ],
   "source": [
    "H = H_Matriz(Ci,T,VH,VLi,intatom)\n",
    "#print H\n",
    "S = S_Matriz(S_int)\n",
    "#print S\n",
    "E,C = eigh(H,S,type=1)\n",
    "print E"
   ]
  },
  {
   "cell_type": "code",
   "execution_count": 533,
   "metadata": {},
   "outputs": [
    {
     "name": "stdout",
     "output_type": "stream",
     "text": [
      "[-0.84656164  0.26691099]\n"
     ]
    }
   ],
   "source": [
    "Ci = C[:,0]\n",
    "Ci = Ci/(Ci[0]**2+Ci[1]**2+2*Ci[0]*Ci[1]*S_int[('h','S')])**0.5\n",
    "print Ci"
   ]
  },
  {
   "cell_type": "code",
   "execution_count": 13,
   "metadata": {},
   "outputs": [
    {
     "name": "stdout",
     "output_type": "stream",
     "text": [
      "[-0.76733068 -0.43889398]\n",
      "[-0.7453609  -0.30453289]\n",
      "[-0.75677356 -0.30471828]\n",
      "[-0.75766113 -0.30473505]\n",
      "[-0.75773009 -0.30473638]\n",
      "[-0.75773545 -0.30473648]\n",
      "[-0.75773587 -0.30473649]\n",
      "[-0.7577359  -0.30473649]\n",
      "[-0.7577359  -0.30473649]\n",
      "[-0.7577359  -0.30473649]\n",
      "[-0.7577359  -0.30473649]\n",
      "[-0.7577359  -0.30473649]\n",
      "[-0.7577359  -0.30473649]\n",
      "[-0.7577359  -0.30473649]\n",
      "[-0.7577359  -0.30473649]\n",
      "[-0.7577359  -0.30473649]\n",
      "[-0.7577359  -0.30473649]\n",
      "[-0.7577359  -0.30473649]\n",
      "[-0.7577359  -0.30473649]\n",
      "[-0.7577359  -0.30473649]\n",
      "[-0.7577359  -0.30473649]\n",
      "[-0.7577359  -0.30473649]\n",
      "[-0.7577359  -0.30473649]\n",
      "[-0.7577359  -0.30473649]\n",
      "[-0.7577359  -0.30473649]\n",
      "[-0.7577359  -0.30473649]\n",
      "[-0.7577359  -0.30473649]\n",
      "[-0.7577359  -0.30473649]\n",
      "[-0.7577359  -0.30473649]\n",
      "[-0.7577359  -0.30473649]\n"
     ]
    }
   ],
   "source": [
    "for _ in range(30):\n",
    "    H = H_Matriz(Ci,T,VH,VLi,intatom)\n",
    "    S = S_Matriz(S_int)\n",
    "    E,C = eigh(H,S,type=1)\n",
    "    print E\n",
    "    Eserie.append(E[1])\n",
    "    Ci = C[:,1]\n",
    "    Ci = Ci/(Ci[0]**2+Ci[1]**2+2*Ci[0]*Ci[1]*S_int[('h','S')])**0.5"
   ]
  },
  {
   "cell_type": "code",
   "execution_count": 555,
   "metadata": {},
   "outputs": [
    {
     "data": {
      "text/plain": [
       "-0.30473648735288483"
      ]
     },
     "execution_count": 555,
     "metadata": {},
     "output_type": "execute_result"
    },
    {
     "data": {
      "image/png": "[encoded data removed]",
      "text/plain": [
       "<matplotlib.figure.Figure at 0x7f3ee9d23210>"
      ]
     },
     "metadata": {},
     "output_type": "display_data"
    }
   ],
   "source": [
    "plt.plot(Eserie,'ro-',mec='k')\n",
    "E[-1]"
   ]
  },
  {
   "cell_type": "code",
   "execution_count": null,
   "metadata": {
    "collapsed": true
   },
   "outputs": [],
   "source": [
    "C"
   ]
  }
 ],
 "metadata": {
  "kernelspec": {
   "display_name": "Python 2",
   "language": "python",
   "name": "python2"
  },
  "language_info": {
   "codemirror_mode": {
    "name": "ipython",
    "version": 2
   },
   "file_extension": ".py",
   "mimetype": "text/x-python",
   "name": "python",
   "nbconvert_exporter": "python",
   "pygments_lexer": "ipython2",
   "version": "2.7.12"
  }
 },
 "nbformat": 4,
 "nbformat_minor": 2
}
