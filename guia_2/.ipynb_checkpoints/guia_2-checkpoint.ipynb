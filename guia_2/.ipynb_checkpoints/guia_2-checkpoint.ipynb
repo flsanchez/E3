{
 "cells": [
  {
   "cell_type": "code",
   "execution_count": 44,
   "metadata": {
    "collapsed": true
   },
   "outputs": [],
   "source": [
    "import numpy as np\n",
    "from scipy.special import hyp1f1\n",
    "from sympy import hyper\n",
    "from scipy import integrate\n",
    "from scipy.special import gamma\n",
    "import matplotlib.pyplot as plt\n",
    "import time as tm\n",
    "from math import factorial\n",
    "\n",
    "from __future__ import division\n",
    "\n",
    "%matplotlib inline"
   ]
  },
  {
   "cell_type": "markdown",
   "metadata": {},
   "source": [
    "# Defino funcion de Bessel"
   ]
  },
  {
   "cell_type": "code",
   "execution_count": 45,
   "metadata": {
    "collapsed": true
   },
   "outputs": [],
   "source": [
    "def Bessel(k,l,r):\n",
    "    rho = k*r\n",
    "    \n",
    "    if rho == 0.0:\n",
    "        jl = 0\n",
    "        if l == 0:\n",
    "            jl = 1\n",
    "        return jl\n",
    "    \n",
    "    j0 = np.sin(rho) / rho\n",
    "    j1 = np.sin(rho) / rho**2 - np.cos(rho) / rho\n",
    "    \n",
    "    if l == 0:\n",
    "        return j0\n",
    "    \n",
    "    if l == 1:\n",
    "        return j1\n",
    "    \n",
    "    for j in range(1,l):\n",
    "        jl = (2*l-1)/rho * j1 - j0\n",
    "        j1 = jl\n",
    "        j0 = j1\n",
    "        \n",
    "    return jl"
   ]
  },
  {
   "cell_type": "markdown",
   "metadata": {},
   "source": [
    "# Defino funcion de Neumann"
   ]
  },
  {
   "cell_type": "code",
   "execution_count": 46,
   "metadata": {
    "collapsed": true
   },
   "outputs": [],
   "source": [
    "def Neumann(k,l,r):\n",
    "    rho = k*r\n",
    "    n0 = -np.cos(rho) / rho\n",
    "    n1 = -np.cos(rho) / rho**2 - np.sin(rho) / rho\n",
    "    \n",
    "    if l == 0:\n",
    "        return n0\n",
    "    \n",
    "    if l == 1:\n",
    "        return n1\n",
    "    \n",
    "    for j in range(1,l):\n",
    "        nl = (2*l-1)/rho*n1 - n0\n",
    "        n1 = nl\n",
    "        n0 = n1\n",
    "        \n",
    "    return nl"
   ]
  },
  {
   "cell_type": "markdown",
   "metadata": {},
   "source": [
    "# Defino las funciones de onda continuas"
   ]
  },
  {
   "cell_type": "code",
   "execution_count": 49,
   "metadata": {},
   "outputs": [],
   "source": [
    "def Rkl(k,l,z,r):\n",
    "    a = z/k\n",
    "    rnorm = np.sqrt(2/np.pi)*np.exp(a*np.pi/2)*np.abs(gamma(1+l-1j*a))/factorial(2*l+1)\n",
    "    #hyp = np.zeros(len(np.array(r)))\n",
    "    #for i in range(len(np.array(r))):\n",
    "    hyp = hyper((-1j*a+l+1,), (2*l+2,), -2*1j*k*r).evalf()\n",
    "    rfunc = k*(2*k*r)**l * np.exp(1j*k*r) * hyp #hyp1f1(-1j*a+l+1, 2*l+2, -2*1j*k*r)\n",
    "    R = rnorm * rfunc\n",
    "    return R"
   ]
  },
  {
   "cell_type": "code",
   "execution_count": 50,
   "metadata": {
    "collapsed": true
   },
   "outputs": [],
   "source": [
    "def Rkl_io(k,l,z,io,r):\n",
    "    a = z/k\n",
    "    return Rkl(k,l,z,r)*(1j)**(-io)*np.exp(io*1j*np.angle(gamma(1+l-1j*a)))"
   ]
  },
  {
   "cell_type": "code",
   "execution_count": 53,
   "metadata": {},
   "outputs": [
    {
     "name": "stderr",
     "output_type": "stream",
     "text": [
      "/home/fakux/.local/lib/python2.7/site-packages/scipy/integrate/quadpack.py:364: IntegrationWarning: The algorithm does not converge.  Roundoff error is detected\n",
      "  in the extrapolation table.  It is assumed that the requested tolerance\n",
      "  cannot be achieved, and that the returned result (if full_output = 1) is \n",
      "  the best which can be obtained.\n",
      "  warnings.warn(msg, IntegrationWarning)\n"
     ]
    },
    {
     "data": {
      "text/plain": [
       "(1216483.820721582, 2293703.3491468057)"
      ]
     },
     "execution_count": 53,
     "metadata": {},
     "output_type": "execute_result"
    }
   ],
   "source": [
    "integrate.quad(lambda r: (r**2*np.abs(Rkl_io(0.5,0,4,1,r))**2),0,np.inf)"
   ]
  },
  {
   "cell_type": "code",
   "execution_count": 48,
   "metadata": {},
   "outputs": [
    {
     "data": {
      "text/plain": [
       "7.38905609893065"
      ]
     },
     "execution_count": 48,
     "metadata": {},
     "output_type": "execute_result"
    }
   ],
   "source": [
    "hyper((2,), (2,),(2)).evalf()"
   ]
  },
  {
   "cell_type": "code",
   "execution_count": null,
   "metadata": {
    "collapsed": true
   },
   "outputs": [],
   "source": []
  }
 ],
 "metadata": {
  "kernelspec": {
   "display_name": "Python 2",
   "language": "python",
   "name": "python2"
  },
  "language_info": {
   "codemirror_mode": {
    "name": "ipython",
    "version": 2
   },
   "file_extension": ".py",
   "mimetype": "text/x-python",
   "name": "python",
   "nbconvert_exporter": "python",
   "pygments_lexer": "ipython2",
   "version": "2.7.12"
  }
 },
 "nbformat": 4,
 "nbformat_minor": 2
}
