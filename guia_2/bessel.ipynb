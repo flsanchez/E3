{
 "cells": [
  {
   "cell_type": "code",
   "execution_count": 2,
   "metadata": {
    "collapsed": true
   },
   "outputs": [],
   "source": [
    "import numpy as np\n",
    "import matplotlib.pyplot as plt\n",
    "\n",
    "%matplotlib inline\n",
    "\n",
    "from __future__ import division"
   ]
  },
  {
   "cell_type": "markdown",
   "metadata": {},
   "source": [
    "# Defino funcion de Bessel"
   ]
  },
  {
   "cell_type": "code",
   "execution_count": 9,
   "metadata": {
    "collapsed": true
   },
   "outputs": [],
   "source": [
    "def Bessel(k,l,r):\n",
    "    rho = k*r\n",
    "    \n",
    "    if rho == 0.0:\n",
    "        jl = 0\n",
    "        if l == 0:\n",
    "            jl = 1\n",
    "        return jl\n",
    "    \n",
    "    j0 = np.sin(rho) / rho\n",
    "    j1 = np.sin(rho) / rho**2 - np.cos(rho) / rho\n",
    "    \n",
    "    if l == 0:\n",
    "        return j0\n",
    "    \n",
    "    if l == 1:\n",
    "        return j1\n",
    "    \n",
    "    for j in range(1,l):\n",
    "        jl = (2*l-1)/rho * j1 - j0\n",
    "        j1 = jl\n",
    "        j0 = j1\n",
    "        \n",
    "    return jl"
   ]
  },
  {
   "cell_type": "markdown",
   "metadata": {},
   "source": [
    "# Defino funcion de Neumann"
   ]
  },
  {
   "cell_type": "code",
   "execution_count": 5,
   "metadata": {
    "collapsed": true
   },
   "outputs": [],
   "source": [
    "def Neumann(k,l,r):\n",
    "    rho = k*r\n",
    "    n0 = -np.cos(rho) / rho\n",
    "    n1 = -np.cos(rho) / rho**2 - np.sin(rho) / rho\n",
    "    \n",
    "    if l == 0:\n",
    "        return n0\n",
    "    \n",
    "    if l == 1:\n",
    "        return n1\n",
    "    \n",
    "    for j in range(1,l):\n",
    "        nl = (2*l-1)/rho*n1 - n0\n",
    "        n1 = nl\n",
    "        n0 = n1\n",
    "        \n",
    "    return nl"
   ]
  }
 ],
 "metadata": {
  "kernelspec": {
   "display_name": "Python 2",
   "language": "python",
   "name": "python2"
  },
  "language_info": {
   "codemirror_mode": {
    "name": "ipython",
    "version": 2
   },
   "file_extension": ".py",
   "mimetype": "text/x-python",
   "name": "python",
   "nbconvert_exporter": "python",
   "pygments_lexer": "ipython2",
   "version": "2.7.12"
  }
 },
 "nbformat": 4,
 "nbformat_minor": 2
}
