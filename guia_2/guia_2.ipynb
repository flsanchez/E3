{
 "cells": [
  {
   "cell_type": "code",
   "execution_count": 175,
   "metadata": {
    "collapsed": true
   },
   "outputs": [],
   "source": [
    "import numpy as np\n",
    "from scipy.special import hyp1f1\n",
    "from sympy import hyper\n",
    "from scipy import integrate\n",
    "from scipy.special import gamma\n",
    "import matplotlib.pyplot as plt\n",
    "import time as tm\n",
    "from math import factorial\n",
    "\n",
    "from __future__ import division\n",
    "\n",
    "%matplotlib inline"
   ]
  },
  {
   "cell_type": "markdown",
   "metadata": {},
   "source": [
    "# Defino funcion de Bessel"
   ]
  },
  {
   "cell_type": "code",
   "execution_count": 99,
   "metadata": {
    "collapsed": true
   },
   "outputs": [],
   "source": [
    "def Bessel(k,l,r):\n",
    "    rho = k*float(r)\n",
    "    \n",
    "    if rho == 0.0:\n",
    "        jl = 0\n",
    "        if l == 0:\n",
    "            jl = 1\n",
    "        return jl\n",
    "    \n",
    "    j0 = np.sin(rho) / rho\n",
    "    j1 = np.sin(rho) / rho**2 - np.cos(rho) / rho\n",
    "    \n",
    "    if l == 0:\n",
    "        return j0\n",
    "    \n",
    "    if l == 1:\n",
    "        return j1\n",
    "    \n",
    "    for j in range(1,l):\n",
    "        jl = (2*l-1)/rho * j1 - j0\n",
    "        j1 = jl\n",
    "        j0 = j1\n",
    "        \n",
    "    return jl"
   ]
  },
  {
   "cell_type": "markdown",
   "metadata": {},
   "source": [
    "# Defino funcion de Neumann"
   ]
  },
  {
   "cell_type": "code",
   "execution_count": 85,
   "metadata": {
    "collapsed": true
   },
   "outputs": [],
   "source": [
    "def Neumann(k,l,r):\n",
    "    rho = k*r\n",
    "    n0 = -np.cos(rho) / rho\n",
    "    n1 = -np.cos(rho) / rho**2 - np.sin(rho) / rho\n",
    "    \n",
    "    if l == 0:\n",
    "        return n0\n",
    "    \n",
    "    if l == 1:\n",
    "        return n1\n",
    "    \n",
    "    for j in range(1,l):\n",
    "        nl = (2*l-1)/rho*n1 - n0\n",
    "        n1 = nl\n",
    "        n0 = n1\n",
    "        \n",
    "    return nl"
   ]
  },
  {
   "cell_type": "markdown",
   "metadata": {},
   "source": [
    "# Defino las funciones de onda continuas"
   ]
  },
  {
   "cell_type": "code",
   "execution_count": 10,
   "metadata": {
    "collapsed": true
   },
   "outputs": [],
   "source": [
    "def Rkl(k,l,z,r):\n",
    "    a = z/k\n",
    "    rnorm = np.sqrt(2/np.pi)*np.exp(a*np.pi/2)*np.abs(gamma(1+l-1j*a))/factorial(2*l+1)\n",
    "    hyp = hyper((-1j*a+l+1,), (2*l+2,), -2*1j*k*r).evalf()\n",
    "    rfunc = k*(2*k*r)**l * np.exp(1j*k*r) * hyp #hyp1f1(-1j*a+l+1, 2*l+2, -2*1j*k*r)\n",
    "    R = rnorm * rfunc\n",
    "    return R"
   ]
  },
  {
   "cell_type": "code",
   "execution_count": 11,
   "metadata": {
    "collapsed": true
   },
   "outputs": [],
   "source": [
    "def Rkl_io(k,l,z,io,r):\n",
    "    a = z/k\n",
    "    return Rkl(k,l,z,r)*(1j)**(-io*l)*np.exp(io*1j*np.angle(gamma(1+l-1j*a)))"
   ]
  },
  {
   "cell_type": "code",
   "execution_count": 12,
   "metadata": {
    "collapsed": true
   },
   "outputs": [],
   "source": [
    "def Rkl_conj(k,l,z,r):\n",
    "    a = z/k\n",
    "    rnorm = np.sqrt(2/np.pi)*np.exp(a*np.pi/2)*np.abs(gamma(1+l-1j*a))/factorial(2*l+1)\n",
    "    hyp = hyper((1j*a+l+1,), (2*l+2,), 2*1j*k*r).evalf()\n",
    "    rfunc = k*(2*k*r)**l * np.exp(-1j*k*r) * hyp #hyp1f1(-1j*a+l+1, 2*l+2, -2*1j*k*r)\n",
    "    R = rnorm * rfunc\n",
    "    return R"
   ]
  },
  {
   "cell_type": "code",
   "execution_count": 13,
   "metadata": {
    "collapsed": true
   },
   "outputs": [],
   "source": [
    "def Rkl_io_conj(k,l,z,io,r):\n",
    "    a = z/k\n",
    "    return Rkl_conj(k,l,z,r)*(-1j)**(-io*l)*np.exp(io*(-1j)*np.angle(gamma(1+l+1j*a)))"
   ]
  },
  {
   "cell_type": "code",
   "execution_count": 18,
   "metadata": {},
   "outputs": [
    {
     "name": "stdout",
     "output_type": "stream",
     "text": [
      "(37926.27310405104, 64755.91700341288)\n"
     ]
    }
   ],
   "source": [
    "print integrate.quad(lambda r: (r**2*np.abs(Rkl_io(0.5,0,4,1,r)*Rkl_io(1000,0,4,1,r))),0,np.inf)\n",
    "#integrate.dblquad(lambda r,k: (r**2*np.abs(Rkl_io(10,0,4,1,r)*Rkl_io(k,0,4,1,r))),0,np.inf,lambda x: 0,lambda x: 20)\n",
    "#ks = np.arange(0.1,5,0.1)"
   ]
  },
  {
   "cell_type": "markdown",
   "metadata": {},
   "source": [
    "# Simbolico"
   ]
  },
  {
   "cell_type": "code",
   "execution_count": 176,
   "metadata": {
    "collapsed": true
   },
   "outputs": [],
   "source": [
    "import sympy as sp\n",
    "from sympy import oo\n",
    "from sympy import gamma\n",
    "from __future__ import division"
   ]
  },
  {
   "cell_type": "code",
   "execution_count": 87,
   "metadata": {
    "collapsed": true
   },
   "outputs": [],
   "source": [
    "sp.init_printing()\n",
    "r = sp.Symbol('r', positive=True)\n",
    "k = sp.Symbol('k', positive=True)\n",
    "l = sp.Symbol('l', positive=True, integer=True)\n",
    "n = sp.Symbol('n', positive=True, integer=True)\n",
    "z = sp.Symbol('z', positive=True, integer=True)"
   ]
  },
  {
   "cell_type": "code",
   "execution_count": 141,
   "metadata": {
    "collapsed": true
   },
   "outputs": [],
   "source": [
    "def Rkl(k,l,z,r):\n",
    "    a = z/k\n",
    "    rnorm = k*sp.sqrt(2/sp.pi)*sp.exp(a*sp.pi/2)*sp.Abs(gamma(1+l-1j*a))/sp.factorial(2*l+1)\n",
    "    #rnorm = 1\n",
    "    hyp = hyper((-1j*a+l+1,), (2*l+2,), -2*1j*k*r)\n",
    "    rfunc = (2*k*r)**l * sp.exp(1j*k*r) * hyp #hyp1f1(-1j*a+l+1, 2*l+2, -2*1j*k*r)\n",
    "    R = rnorm * rfunc\n",
    "    return R"
   ]
  },
  {
   "cell_type": "code",
   "execution_count": 142,
   "metadata": {},
   "outputs": [],
   "source": [
    "def Rkl_io(k,l,z,io,r):\n",
    "    a = z/k\n",
    "    return Rkl(k,l,z,r)*(1j)**(-io*l)*sp.exp(io*1j*sp.arg(gamma(1+l-1j*a)))"
   ]
  },
  {
   "cell_type": "markdown",
   "metadata": {},
   "source": [
    "# Chequeo la ec de Schrodinger"
   ]
  },
  {
   "cell_type": "code",
   "execution_count": 159,
   "metadata": {},
   "outputs": [
    {
     "data": {
      "image/png": "[encoded data removed]",
      "text/latex": [
       "$$22.9435784389037$$"
      ],
      "text/plain": [
       "22.9435784389037"
      ]
     },
     "execution_count": 159,
     "metadata": {},
     "output_type": "execute_result"
    }
   ],
   "source": [
    "sp.Abs((-1/2*sp.diff((r*Rkl(k,l,z,r)),r,2)+(-z/r+l*(l+1)/(2*r**2)-k**2/2)*(r*Rkl(k,l,z,r))).evalf(subs={k:1,l:0,z:4,r:0}))"
   ]
  },
  {
   "cell_type": "markdown",
   "metadata": {},
   "source": [
    "# Chequeo 3 k's cercanos"
   ]
  },
  {
   "cell_type": "code",
   "execution_count": 132,
   "metadata": {
    "collapsed": true
   },
   "outputs": [],
   "source": [
    "nsize = 500\n",
    "xmax = 5\n",
    "xmin = 0.\n",
    "x = np.linspace(xmin,xmax,nsize)\n",
    "psi_1 = np.zeros(nsize, dtype=complex)\n",
    "psi_2 = np.zeros(nsize, dtype=complex)\n",
    "psi_3 = np.zeros(nsize, dtype=complex)\n",
    "klist = [0.5,0.6,0.7]"
   ]
  },
  {
   "cell_type": "code",
   "execution_count": 133,
   "metadata": {},
   "outputs": [],
   "source": [
    "for i in range(nsize):\n",
    "    psi_1[i] = Rkl(klist[0],0,1,x[i]).evalf()\n",
    "    psi_2[i] = Rkl(klist[1],0,1,x[i]).evalf()\n",
    "    psi_3[i] = Rkl(klist[2],0,1,x[i]).evalf()"
   ]
  },
  {
   "cell_type": "code",
   "execution_count": 63,
   "metadata": {},
   "outputs": [
    {
     "data": {
      "image/png": "[encoded data removed]",
      "text/plain": [
       "<matplotlib.figure.Figure at 0x7fe19e173d10>"
      ]
     },
     "metadata": {},
     "output_type": "display_data"
    }
   ],
   "source": [
    "plt.plot(x,x*psi_1.real,'r',label='k = {:.3f}'.format(klist[0]))\n",
    "plt.plot(x,x*psi_2.real,'b',label='k = {:.3f}'.format(klist[1]))\n",
    "plt.plot(x,x*psi_3.real,'g',label='k = {:.3f}'.format(klist[2]))\n",
    "plt.legend(loc='best')\n",
    "plt.show()"
   ]
  },
  {
   "cell_type": "code",
   "execution_count": 35,
   "metadata": {},
   "outputs": [
    {
     "data": {
      "image/png": "[encoded data removed]",
      "text/plain": [
       "<matplotlib.figure.Figure at 0x7fe19e2b5f90>"
      ]
     },
     "metadata": {},
     "output_type": "display_data"
    }
   ],
   "source": [
    "plt.plot(x,x*psi.imag)\n",
    "plt.show()"
   ]
  },
  {
   "cell_type": "markdown",
   "metadata": {},
   "source": [
    "# Chequeo para Z = 0 si da Bessel"
   ]
  },
  {
   "cell_type": "code",
   "execution_count": 143,
   "metadata": {
    "collapsed": true
   },
   "outputs": [],
   "source": [
    "xmax = 20\n",
    "xmin = 0\n",
    "nsize = 500\n",
    "x = np.linspace(xmin,xmax,nsize)\n",
    "psi = np.zeros(nsize,dtype = complex)\n",
    "jbes = np.zeros(nsize)"
   ]
  },
  {
   "cell_type": "code",
   "execution_count": 148,
   "metadata": {},
   "outputs": [],
   "source": [
    "k = 2.05627032187\n",
    "lq = 1\n",
    "\"\"\"rinf = 10*(lq+1) / k  # kr = 10*l\n",
    "psiinf = Rkl(k,lq,0,rinf).evalf()\n",
    "fjlinf = Bessel(k,lq,rinf)\n",
    "fnorm = fjlinf/psiinf\n",
    "print fnorm\"\"\"\n",
    "for i in range(nsize):\n",
    "    psi[i] = Rkl(k,1,0,x[i])\n",
    "    jbes[i] = Bessel(k,1,x[i])"
   ]
  },
  {
   "cell_type": "code",
   "execution_count": 149,
   "metadata": {},
   "outputs": [
    {
     "data": {
      "text/plain": [
       "<matplotlib.legend.Legend at 0x7fe19913e990>"
      ]
     },
     "execution_count": 149,
     "metadata": {},
     "output_type": "execute_result"
    },
    {
     "data": {
      "image/png": "[encoded data removed]",
      "text/plain": [
       "<matplotlib.figure.Figure at 0x7fe199194290>"
      ]
     },
     "metadata": {},
     "output_type": "display_data"
    }
   ],
   "source": [
    "plt.plot(x,psi.real,'r',label='Calculada')\n",
    "plt.plot(x,jbes,'b',label='Bessel')\n",
    "plt.legend(loc='best')"
   ]
  },
  {
   "cell_type": "code",
   "execution_count": 172,
   "metadata": {},
   "outputs": [
    {
     "data": {
      "image/png": "[encoded data removed]",
      "text/latex": [
       "$$-89.999999999997 - 1.99999999999993 i$$"
      ],
      "text/plain": [
       "-89.999999999997 - 1.99999999999993⋅ⅈ"
      ]
     },
     "execution_count": 172,
     "metadata": {},
     "output_type": "execute_result"
    }
   ],
   "source": [
    "(sp.diff(Rkl(2,0,90,r),r,1)/Rkl(2,0,90,r)).evalf(subs={r:0})"
   ]
  },
  {
   "cell_type": "code",
   "execution_count": 179,
   "metadata": {
    "collapsed": true
   },
   "outputs": [],
   "source": [
    "f = sp.lambdify(r,Rkl(2,0,4,r))"
   ]
  },
  {
   "cell_type": "code",
   "execution_count": 180,
   "metadata": {},
   "outputs": [
    {
     "ename": "NameError",
     "evalue": "global name 'hyper' is not defined",
     "output_type": "error",
     "traceback": [
      "\u001b[0;31m---------------------------------------------------------------------------\u001b[0m",
      "\u001b[0;31mNameError\u001b[0m                                 Traceback (most recent call last)",
      "\u001b[0;32m<ipython-input-180-cbdfd3147302>\u001b[0m in \u001b[0;36m<module>\u001b[0;34m()\u001b[0m\n\u001b[0;32m----> 1\u001b[0;31m \u001b[0mf\u001b[0m\u001b[0;34m(\u001b[0m\u001b[0mnp\u001b[0m\u001b[0;34m.\u001b[0m\u001b[0mlinspace\u001b[0m\u001b[0;34m(\u001b[0m\u001b[0;36m0\u001b[0m\u001b[0;34m,\u001b[0m\u001b[0;36m5\u001b[0m\u001b[0;34m,\u001b[0m\u001b[0;36m500\u001b[0m\u001b[0;34m)\u001b[0m\u001b[0;34m)\u001b[0m\u001b[0;34m\u001b[0m\u001b[0m\n\u001b[0m",
      "\u001b[0;32m/usr/local/lib/python2.7/dist-packages/numpy/__init__.pyc\u001b[0m in \u001b[0;36m<lambda>\u001b[0;34m(_Dummy_156)\u001b[0m\n",
      "\u001b[0;31mNameError\u001b[0m: global name 'hyper' is not defined"
     ]
    }
   ],
   "source": [
    "f(np.linspace(0,5,500))"
   ]
  },
  {
   "cell_type": "code",
   "execution_count": null,
   "metadata": {
    "collapsed": true
   },
   "outputs": [],
   "source": []
  }
 ],
 "metadata": {
  "kernelspec": {
   "display_name": "Python 2",
   "language": "python",
   "name": "python2"
  },
  "language_info": {
   "codemirror_mode": {
    "name": "ipython",
    "version": 2
   },
   "file_extension": ".py",
   "mimetype": "text/x-python",
   "name": "python",
   "nbconvert_exporter": "python",
   "pygments_lexer": "ipython2",
   "version": "2.7.12"
  }
 },
 "nbformat": 4,
 "nbformat_minor": 2
}
