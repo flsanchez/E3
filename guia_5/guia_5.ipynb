{
 "cells": [
  {
   "cell_type": "markdown",
   "metadata": {},
   "source": [
    "# GUIA 5 (DFT)\n",
    "## Por Facundo L. Sanchez"
   ]
  },
  {
   "cell_type": "code",
   "execution_count": 1,
   "metadata": {
    "collapsed": true
   },
   "outputs": [],
   "source": [
    "import numpy as np\n",
    "import matplotlib.pyplot as plt\n",
    "from scipy.linalg import eigh\n",
    "from scipy import interpolate\n",
    "from scipy import integrate\n",
    "%matplotlib inline\n",
    "from __future__ import division"
   ]
  },
  {
   "cell_type": "markdown",
   "metadata": {},
   "source": [
    "# Hamiltoniano matricial con potencial coulombiano"
   ]
  },
  {
   "cell_type": "code",
   "execution_count": 2,
   "metadata": {
    "collapsed": true
   },
   "outputs": [],
   "source": [
    "def H_matriz(h,N,Z,l):\n",
    "    r = np.arange(h,h*(N+1),h)\n",
    "    \n",
    "    offDiag_der2 = np.ones(len(r)-1)\n",
    "    diag_cent = l*(l+1)/(2*r**2)\n",
    "    T_matriz = (np.diag(offDiag_der2,-1) - 2*np.eye(N,dtype=float) + np.diag(offDiag_der2,1))/(-2*h**2) \\\n",
    "                + np.diag(diag_cent)\n",
    "    \n",
    "    diag_V = -Z/r\n",
    "    V_matriz = np.diag(diag_V)\n",
    "    \n",
    "    return T_matriz+V_matriz, r"
   ]
  },
  {
   "cell_type": "markdown",
   "metadata": {},
   "source": [
    "# Algoritmo de Verlet"
   ]
  },
  {
   "cell_type": "code",
   "execution_count": 3,
   "metadata": {
    "collapsed": true
   },
   "outputs": [],
   "source": [
    "def verlet(h,F,N,r):\n",
    "    # supongo U(r=0) = 0, dU(r=0) = 1, F(r=0) = 0\n",
    "    U = np.zeros(N)\n",
    "    dU = np.zeros(N)\n",
    "    U[0] = h\n",
    "    dU[0] = 1 + h/2*F[0]\n",
    "    for i in range(N-1):\n",
    "        U[i+1] = U[i] + h*dU[i] + h**2/2*F[i]\n",
    "        dU[i+1] = dU[i] + h/2*(F[i+1]+F[i])\n",
    "    #alpha = dU[-1]-2*U[-1]/r[-1]\n",
    "    alpha = -dU[-1]\n",
    "    U = U + alpha*r\n",
    "    return U"
   ]
  },
  {
   "cell_type": "markdown",
   "metadata": {},
   "source": [
    "# Potencial de Ceperley-Alder en un punto"
   ]
  },
  {
   "cell_type": "code",
   "execution_count": 133,
   "metadata": {
    "collapsed": true
   },
   "outputs": [],
   "source": [
    "def V_Cep_Ald(r):\n",
    "    A = 0.0311\n",
    "    B = -0.048\n",
    "    C = 0.002\n",
    "    D = -0.0116\n",
    "    gamma = -0.1423\n",
    "    beta1 = 1.0529\n",
    "    beta2 = 0.3334\n",
    "    if r < 1:\n",
    "        Ec = A*np.log(r)+B+C*r*np.log(r)+D*r\n",
    "        Vc = A*np.log(r)+B-A/3+2/3*C*r*np.log(r)+(2*D-C)*r/3\n",
    "    else:\n",
    "        Ec = gamma/(1+beta1*r**0.5+beta2*r)\n",
    "        Vc = Ec*(1+7/6*beta1*r**0.5+beta2*r)/(1+beta1*r**0.5+beta2*r)\n",
    "    return Ec, Vc"
   ]
  },
  {
   "cell_type": "markdown",
   "metadata": {},
   "source": [
    "# Rutina para el calculo de la energia y el potencial de Ceperley-Alder"
   ]
  },
  {
   "cell_type": "code",
   "execution_count": 134,
   "metadata": {
    "collapsed": true
   },
   "outputs": [],
   "source": [
    "def Corr_Cep_Ald(u,r):\n",
    "    N = len(r)\n",
    "    ec = np.zeros(N)\n",
    "    vc = np.zeros(N)\n",
    "    rs = (3*r**2/(2*u**2))**(1/3) # Radio de Seitz en funcion de la densidad\n",
    "    for i in range(N):\n",
    "        ec[i],vc[i] = V_Cep_Ald(rs[i])\n",
    "    Ec = np.trapz(u**4*ec/(np.pi*r**2),r)\n",
    "    return Ec,vc"
   ]
  },
  {
   "cell_type": "markdown",
   "metadata": {},
   "source": [
    "# Inicio de Loop"
   ]
  },
  {
   "cell_type": "code",
   "execution_count": 396,
   "metadata": {},
   "outputs": [
    {
     "name": "stdout",
     "output_type": "stream",
     "text": [
      "7.5\n"
     ]
    }
   ],
   "source": [
    "# inicialmente\n",
    "N = 1000\n",
    "Z = 2\n",
    "l = 0\n",
    "h = 0.0075\n",
    "\n",
    "H, r = H_matriz(h,N,Z,l)\n",
    "Etot = []\n",
    "EHartree = []\n",
    "Ex = []\n",
    "Eks = []\n",
    "Ec = []\n",
    "print r[-1]\n",
    "u = np.zeros(N)\n",
    "ns = np.zeros(N)\n",
    "it = 0"
   ]
  },
  {
   "cell_type": "code",
   "execution_count": 461,
   "metadata": {},
   "outputs": [],
   "source": [
    "# Calculo el potencial de Hartree\n",
    "F = -u**2/r\n",
    "VHartree = 2*verlet(h,F,N,r)/r\n",
    "EHartree.append(np.trapz(VHartree*u**2,r))\n",
    "\n",
    "# Calculo el potencial de exchange\n",
    "Vx = -((3*u**2)/(2*np.pi**2*r**2))**(1/3)\n",
    "Ex.append(np.trapz(Vx*u**2,r))\n",
    "\n",
    "# Calculo la correlacion de Ceperley-Alder\n",
    "if it > 0:\n",
    "    CCA = Corr_Cep_Ald(u,r)\n",
    "    Ec.append(CCA[0])\n",
    "    Vc = CCA[1]\n",
    "else:\n",
    "    Vc = np.zeros(N)\n",
    "    Ec.append(0)\n",
    "\n",
    "H = H_matriz(h,N,Z,l)[0] + np.diag(VHartree+Vx+Vc)"
   ]
  },
  {
   "cell_type": "code",
   "execution_count": 462,
   "metadata": {},
   "outputs": [
    {
     "name": "stdout",
     "output_type": "stream",
     "text": [
      "[-0.56774994  0.08571536  0.43032769  0.98224469  1.72334931  2.64759395\n",
      "  3.75227269  5.03592045  6.49763199  8.13679518]\n"
     ]
    }
   ],
   "source": [
    "# E son las energias, v las respectivas funciones de onda \n",
    "# sin normalizar como columnas de una matriz v de autovectores\n",
    "E, psis = eigh(H)\n",
    "print E[:10]"
   ]
  },
  {
   "cell_type": "code",
   "execution_count": 463,
   "metadata": {
    "collapsed": true,
    "scrolled": true
   },
   "outputs": [],
   "source": [
    "j = 0\n",
    "Eks.append(E[j])\n",
    "norm = np.trapz(psis[:,j]**2,r)\n",
    "u = psis[:,j]/norm**0.5\n",
    "ns = (u/r)**2/(4*np.pi)*2"
   ]
  },
  {
   "cell_type": "code",
   "execution_count": 464,
   "metadata": {},
   "outputs": [
    {
     "name": "stdout",
     "output_type": "stream",
     "text": [
      "Iteracion  16 : -2.894198921821672 -0.5677499397582768 1.9967819052141866 -0.5747445652624197 -0.049289419722141806\n"
     ]
    }
   ],
   "source": [
    "Etot.append(2*Eks[-1] - EHartree[-1] - 0.5*Ex[-1] + Ec[-1])\n",
    "print \"Iteracion \",it, \":\", Etot[-1], Eks[-1], EHartree[-1], Ex[-1], Ec[-1]\n",
    "it += 1"
   ]
  },
  {
   "cell_type": "code",
   "execution_count": 386,
   "metadata": {
    "collapsed": true
   },
   "outputs": [],
   "source": [
    "# plt.plot(Eks,'ro-',mec='k',label='KS')\n",
    "# plt.plot(EHartree,'mo-',mec='k',label='Hartree')\n",
    "# plt.plot(Ex,'bo-',mec='k',label='Exchange')\n",
    "# plt.plot(Etot, 'go-', mec='k',label='Total')\n",
    "# plt.legend(loc='best')\n"
   ]
  },
  {
   "cell_type": "markdown",
   "metadata": {
    "collapsed": true
   },
   "source": [
    "# Prueba de verlet"
   ]
  },
  {
   "cell_type": "code",
   "execution_count": null,
   "metadata": {
    "collapsed": true
   },
   "outputs": [],
   "source": [
    "N = 2000\n",
    "h = 0.01\n",
    "r = np.arange(h,h*(N+1),h)\n",
    "F = -4*r*np.exp(-2*r)\n",
    "U = verlet(h,F,N,r)\n",
    "plt.plot(r,U,'b')\n",
    "plt.plot(r,-(r+1)*np.exp(-2*r)+1,'r')"
   ]
  },
  {
   "cell_type": "markdown",
   "metadata": {},
   "source": [
    "# Pseudo Potencial"
   ]
  },
  {
   "cell_type": "code",
   "execution_count": null,
   "metadata": {
    "collapsed": true
   },
   "outputs": [],
   "source": [
    "r, v3s = np.loadtxt(\"Na_wave.3s\",unpack = True)\n",
    "plt.plot(r,v3s,'ro-',mec='k')\n",
    "plt.xlim([0,8])\n",
    "\n",
    "idxMax = np.where(v3s == np.max(v3s))\n",
    "rMax = r[idxMax]\n",
    "plt.plot(rMax,v3s[idxMax],'go')"
   ]
  },
  {
   "cell_type": "code",
   "execution_count": null,
   "metadata": {
    "collapsed": true
   },
   "outputs": [],
   "source": [
    "x = np.arange(0.001,10,0.001)\n",
    "plt.plot(x,np.log(x))"
   ]
  },
  {
   "cell_type": "markdown",
   "metadata": {},
   "source": [
    "# Adams"
   ]
  },
  {
   "cell_type": "code",
   "execution_count": null,
   "metadata": {
    "collapsed": true
   },
   "outputs": [],
   "source": [
    "def adams(Z,l,E,na,nb):\n",
    "    r0 = 0.0005\n",
    "    h = 0.02\n",
    "    N = 500\n",
    "    t = np.arange(N)*h\n",
    "    r = r0*(np.exp(t)-1)\n",
    "    y = np.zeros((2,N))\n",
    "    y[:,0] = yInit \n",
    "    a = np.array([27,-173,482,-798,1427])\n",
    "    k = len(a)\n",
    "    ak1 = 475\n",
    "    D = 1440\n",
    "    # me construyo el f\n",
    "    f = np.zeros((2,N)) # [P,Q]\n",
    "    f[0,0] = y[1,0]\n",
    "    f[1,0] = -2*(E+Z/r[0]-l*(l+1)/2*r[0]**2)*y[0,0]\n",
    "    f[:,0] = r0*np.exp(t[0])*f[:,0]\n",
    "    \n",
    "    for n in range(N-1):\n",
    "        # me armo el f\n",
    "        f[0,n] = y[1,n]\n",
    "        f[1,n] = -2*(E+Z/r[n]-l*(l+1)/2*r[n]**2)*y[0,n]\n",
    "        f[:,n] = r0*np.exp(t[n])*f[:,n]\n",
    "        #me armo matriz M^-1\n",
    "        bn1 = r0*np.exp(t[n+1])\n",
    "        cn1 = r0*np.exp(t[n+1])\n",
    "        lamb = h/D*ak1\n",
    "        deltan1 = 1-lamb**2*bn1*cn1\n",
    "        Mmin1 = 1/deltan1*np.array([[1,lamb*bn1],[lamb*cn1,1]])\n",
    "        suma = np.zeros((2,1))\n",
    "        \n",
    "        for j in range(k):\n",
    "            if n-k+j < 0:\n",
    "                suma = suma + a[j]*fInit[:,n-k+j]\n",
    "            else:\n",
    "                suma = suma + a[j]*f[:,n-k+j]\n",
    "        res = np.zeros((2,1))\n",
    "        res[0,0] = np.sum(suma[0,:])\n",
    "        res[0,1] = np.sum(suma[1,:])\n",
    "        \n",
    "        y[:,n+1] = Mmin1.dot(y[:,n] + h/D * np.sum(suma))\n",
    "        \n",
    "    return y"
   ]
  },
  {
   "cell_type": "code",
   "execution_count": null,
   "metadata": {
    "collapsed": true
   },
   "outputs": [],
   "source": [
    "np.sum(np.array([[1,2],[3,4]]),axis=1)"
   ]
  },
  {
   "cell_type": "code",
   "execution_count": null,
   "metadata": {
    "collapsed": true
   },
   "outputs": [],
   "source": [
    "r0 = 0.0005\n",
    "h = 0.02\n",
    "N = 500\n",
    "t = np.arange(N)*h\n",
    "r = r0*(np.exp(t)-1)\n",
    "plt.plot(t,r)\n",
    "plt.yscale('log')"
   ]
  },
  {
   "cell_type": "code",
   "execution_count": null,
   "metadata": {
    "collapsed": true
   },
   "outputs": [],
   "source": []
  }
 ],
 "metadata": {
  "kernelspec": {
   "display_name": "Python 2",
   "language": "python",
   "name": "python2"
  },
  "language_info": {
   "codemirror_mode": {
    "name": "ipython",
    "version": 2
   },
   "file_extension": ".py",
   "mimetype": "text/x-python",
   "name": "python",
   "nbconvert_exporter": "python",
   "pygments_lexer": "ipython2",
   "version": "2.7.12"
  }
 },
 "nbformat": 4,
 "nbformat_minor": 2
}
