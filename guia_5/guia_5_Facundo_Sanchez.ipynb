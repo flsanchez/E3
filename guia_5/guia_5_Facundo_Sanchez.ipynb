{
 "cells": [
  {
   "cell_type": "markdown",
   "metadata": {},
   "source": [
    "# GUIA 5 (DFT)\n",
    "## Por Facundo L. Sanchez"
   ]
  },
  {
   "cell_type": "code",
   "execution_count": 2,
   "metadata": {
    "collapsed": true
   },
   "outputs": [],
   "source": [
    "import numpy as np\n",
    "import matplotlib.pyplot as plt\n",
    "from scipy.linalg import eigh\n",
    "from scipy import interpolate\n",
    "from scipy import integrate\n",
    "%matplotlib inline\n",
    "from __future__ import division"
   ]
  },
  {
   "cell_type": "markdown",
   "metadata": {},
   "source": [
    "# Hamiltoniano matricial con potencial coulombiano"
   ]
  },
  {
   "cell_type": "code",
   "execution_count": 3,
   "metadata": {
    "collapsed": true
   },
   "outputs": [],
   "source": [
    "def H_matriz(h,N,Z,l):\n",
    "    r = np.arange(h,h*(N+1),h)\n",
    "    \n",
    "    offDiag_der2 = np.ones(len(r)-1)\n",
    "    diag_cent = l*(l+1)/(2*r**2)\n",
    "    T_matriz = (np.diag(offDiag_der2,-1) - 2*np.eye(N,dtype=float) + np.diag(offDiag_der2,1))/(-2*h**2) \\\n",
    "                + np.diag(diag_cent)\n",
    "    \n",
    "    diag_V = -Z/r\n",
    "    V_matriz = np.diag(diag_V)\n",
    "    \n",
    "    return T_matriz+V_matriz, r"
   ]
  },
  {
   "cell_type": "markdown",
   "metadata": {},
   "source": [
    "# Algoritmo de Verlet"
   ]
  },
  {
   "cell_type": "code",
   "execution_count": 4,
   "metadata": {
    "collapsed": true
   },
   "outputs": [],
   "source": [
    "def verlet(h,F,N,r):\n",
    "    # supongo U(r=0) = 0, dU(r=0) = 1, F(r=0) = 0\n",
    "    U = np.zeros(N)\n",
    "    dU = np.zeros(N)\n",
    "    U[0] = h\n",
    "    dU[0] = 1 + h/2*F[0]\n",
    "    for i in range(N-1):\n",
    "        U[i+1] = U[i] + h*dU[i] + h**2/2*F[i]\n",
    "        dU[i+1] = dU[i] + h/2*(F[i+1]+F[i])\n",
    "    #alpha = dU[-1]-2*U[-1]/r[-1]\n",
    "    alpha = -dU[-1]\n",
    "    U = U + alpha*r\n",
    "    return U"
   ]
  },
  {
   "cell_type": "markdown",
   "metadata": {},
   "source": [
    "# Potencial de Ceperley-Alder en un punto"
   ]
  },
  {
   "cell_type": "code",
   "execution_count": 5,
   "metadata": {
    "collapsed": true
   },
   "outputs": [],
   "source": [
    "def V_Cep_Ald(r):\n",
    "    A = 0.0311\n",
    "    B = -0.048\n",
    "    C = 0.002\n",
    "    D = -0.0116\n",
    "    gamma = -0.1423\n",
    "    beta1 = 1.0529\n",
    "    beta2 = 0.3334\n",
    "    if r < 1:\n",
    "        Ec = A*np.log(r)+B+C*r*np.log(r)+D*r\n",
    "        Vc = A*np.log(r)+B-A/3+2/3*C*r*np.log(r)+(2*D-C)*r/3\n",
    "    else:\n",
    "        Ec = gamma/(1+beta1*r**0.5+beta2*r)\n",
    "        Vc = Ec*(1+7/6*beta1*r**0.5+beta2*r)/(1+beta1*r**0.5+beta2*r)\n",
    "    return Ec, Vc"
   ]
  },
  {
   "cell_type": "markdown",
   "metadata": {},
   "source": [
    "# Rutina para el calculo de la energia y el potencial de Ceperley-Alder"
   ]
  },
  {
   "cell_type": "code",
   "execution_count": 6,
   "metadata": {
    "collapsed": true
   },
   "outputs": [],
   "source": [
    "def Corr_Cep_Ald(u,r):\n",
    "    N = len(r)\n",
    "    ec = np.zeros(N)\n",
    "    vc = np.zeros(N)\n",
    "    rs = (3*r**2/(2*u**2))**(1/3) # Radio de Seitz en funcion de la densidad\n",
    "    for i in range(N):\n",
    "        ec[i],vc[i] = V_Cep_Ald(rs[i])\n",
    "    Ec = np.trapz(u**4*ec/(np.pi*r**2),r)\n",
    "    return Ec,vc"
   ]
  },
  {
   "cell_type": "markdown",
   "metadata": {},
   "source": [
    "# Primero considero solo el potencial de Hartree"
   ]
  },
  {
   "cell_type": "markdown",
   "metadata": {},
   "source": [
    "### Inicializo las variables para el loop"
   ]
  },
  {
   "cell_type": "code",
   "execution_count": 219,
   "metadata": {},
   "outputs": [
    {
     "name": "stdout",
     "output_type": "stream",
     "text": [
      " 8.4\n"
     ]
    }
   ],
   "source": [
    "# inicialmente\n",
    "N = 1200 # cantidad de puntos\n",
    "Z = 2\n",
    "l = 0\n",
    "h = 0.007 # resolucion espacial\n",
    "\n",
    "H, r = H_matriz(h,N,Z,l)\n",
    "Etot = []\n",
    "EHartree = []\n",
    "Eks = []\n",
    "print r[-1]\n",
    "u = np.zeros(N)\n",
    "it = 0 # contador de iteraciones"
   ]
  },
  {
   "cell_type": "markdown",
   "metadata": {},
   "source": [
    "### Aca inicia el loop\n",
    "### Calculo los potenciales"
   ]
  },
  {
   "cell_type": "code",
   "execution_count": 245,
   "metadata": {},
   "outputs": [],
   "source": [
    "# Calculo el potencial de Hartree\n",
    "F = -u**2/r\n",
    "VHartree = verlet(h,F,N,r)/r\n",
    "EHartree.append(np.trapz(VHartree*u**2,r))\n",
    "\n",
    "H = H_matriz(h,N,Z,l)[0] + np.diag(VHartree)"
   ]
  },
  {
   "cell_type": "markdown",
   "metadata": {},
   "source": [
    "### Calculo las energias de los orbitales de KS"
   ]
  },
  {
   "cell_type": "code",
   "execution_count": 246,
   "metadata": {},
   "outputs": [
    {
     "name": "stdout",
     "output_type": "stream",
     "text": [
      "[-0.91812662 -0.14478323  0.12758168  0.55584024  1.13903471  1.87056265\n",
      "  2.74730322  3.76759121  4.93043582  6.23519421]\n"
     ]
    }
   ],
   "source": [
    "# E son las energias, v las respectivas funciones de onda \n",
    "# sin normalizar como columnas de una matriz v de autovectores\n",
    "E, psis = eigh(H)\n",
    "print E[:10]"
   ]
  },
  {
   "cell_type": "markdown",
   "metadata": {},
   "source": [
    "### Elijo con el indice j con que autovalor y autovector me quedo de los que obtuve mediante la diagonalizacion, y normalizo la funcion de onda"
   ]
  },
  {
   "cell_type": "code",
   "execution_count": 247,
   "metadata": {
    "collapsed": true,
    "scrolled": true
   },
   "outputs": [],
   "source": [
    "j = 0\n",
    "Eks.append(E[j])\n",
    "norm = np.trapz(psis[:,j]**2,r)\n",
    "u = psis[:,j]/norm**0.5"
   ]
  },
  {
   "cell_type": "markdown",
   "metadata": {},
   "source": [
    "### Calculo la energia total"
   ]
  },
  {
   "cell_type": "code",
   "execution_count": 248,
   "metadata": {},
   "outputs": [
    {
     "name": "stdout",
     "output_type": "stream",
     "text": [
      "Iteracion  0 :\n",
      "\t*) Energia Total: -3.9998040191807314\n",
      "\t*) Energia Kohn-Sham: -1.9999020095903657\n",
      "\t*) Correccion de Hartree 0.0\n",
      "Iteracion  1 :\n",
      "\t*) Energia Total: -2.8912339761213195\n",
      "\t*) Energia Kohn-Sham: -0.8206279041980038\n",
      "\t*) Correccion de Hartree 1.2499781677253121\n",
      "Iteracion  2 :\n",
      "\t*) Energia Total: -2.864279060801387\n",
      "\t*) Energia Kohn-Sham: -0.9508146117819887\n",
      "\t*) Correccion de Hartree 0.9626498372374093\n",
      "Iteracion  3 :\n",
      "\t*) Energia Total: -2.861742623460513\n",
      "\t*) Energia Kohn-Sham: -0.9086429100363436\n",
      "\t*) Correccion de Hartree 1.0444568033878259\n",
      "Iteracion  4 :\n",
      "\t*) Energia Total: -2.861530707811638\n",
      "\t*) Energia Kohn-Sham: -0.9206420018634847\n",
      "\t*) Correccion de Hartree 1.0202467040846688\n",
      "Iteracion  5 :\n",
      "\t*) Energia Total: -2.861512133746219\n",
      "\t*) Energia Kohn-Sham: -0.9170840401346965\n",
      "\t*) Correccion de Hartree 1.0273440534768261\n",
      "Iteracion  6 :\n",
      "\t*) Energia Total: -2.8615105704075283\n",
      "\t*) Energia Kohn-Sham: -0.9181266150757794\n",
      "\t*) Correccion de Hartree 1.0252573402559693\n"
     ]
    }
   ],
   "source": [
    "Etot.append(2*Eks[-1] - EHartree[-1])\n",
    "it += 1\n",
    "for i in range(it):\n",
    "    print \"Iteracion \",i, \":\"\n",
    "    print \"\\t*) Energia Total:\", Etot[i]\n",
    "    print \"\\t*) Energia Kohn-Sham:\", Eks[i]\n",
    "    print \"\\t*) Correccion de Hartree\", EHartree[i]\n"
   ]
  },
  {
   "cell_type": "code",
   "execution_count": 250,
   "metadata": {},
   "outputs": [
    {
     "data": {
      "text/plain": [
       "Text(0,0.5,u'Energia Total [a.u.]')"
      ]
     },
     "execution_count": 250,
     "metadata": {},
     "output_type": "execute_result"
    },
    {
     "data": {
      "image/png": "[encoded data removed]",
      "text/plain": [
       "<matplotlib.figure.Figure at 0x7f5eeef442d0>"
      ]
     },
     "metadata": {},
     "output_type": "display_data"
    }
   ],
   "source": [
    "# plt.plot(Eks,'ro-',mec='k',label='KS')\n",
    "# plt.plot(EHartree,'mo-',mec='k',label='Hartree')\n",
    "# plt.plot(Ex,'bo-',mec='k',label='Exchange')\n",
    "plt.plot(Etot, 'bo-', mec='k',label='Total')\n",
    "plt.xlabel('Numero de iteracion')\n",
    "plt.ylabel(\"Energia Total [a.u.]\")\n",
    "#plt.legend(loc='best')\n"
   ]
  },
  {
   "cell_type": "markdown",
   "metadata": {},
   "source": [
    "- Puedo ver que estoy un poco alejado de la energia exacta ($E_{exacta} = 2.091 a.u.$), y yo obtengo $E = 2.861 a.u.$, voy a empezar a agregar correcciones a ver si mejora"
   ]
  },
  {
   "cell_type": "markdown",
   "metadata": {},
   "source": [
    "# Agrego ahora el exchange"
   ]
  },
  {
   "cell_type": "markdown",
   "metadata": {},
   "source": [
    "### Inicializo las variables para el loop"
   ]
  },
  {
   "cell_type": "code",
   "execution_count": 251,
   "metadata": {},
   "outputs": [
    {
     "name": "stdout",
     "output_type": "stream",
     "text": [
      "8.4\n"
     ]
    }
   ],
   "source": [
    "# inicialmente\n",
    "N = 1200 # cantidad de puntos\n",
    "Z = 2\n",
    "l = 0\n",
    "h = 0.007 # resolucion espacial\n",
    "\n",
    "H, r = H_matriz(h,N,Z,l)\n",
    "Etot = []\n",
    "EHartree = []\n",
    "Ex = []\n",
    "Eks = []\n",
    "print r[-1]\n",
    "u = np.zeros(N)\n",
    "it = 0 # contador de iteraciones"
   ]
  },
  {
   "cell_type": "markdown",
   "metadata": {},
   "source": [
    "### Aca inicia el loop\n",
    "### Calculo los potenciales"
   ]
  },
  {
   "cell_type": "code",
   "execution_count": 268,
   "metadata": {
    "collapsed": true
   },
   "outputs": [],
   "source": [
    "# Calculo el potencial de Hartree\n",
    "F = -u**2/r\n",
    "VHartree = 2*verlet(h,F,N,r)/r\n",
    "EHartree.append(np.trapz(VHartree*u**2,r))\n",
    "\n",
    "# Calculo el potencial de exchange\n",
    "Vx = -((3*u**2)/(2*np.pi**2*r**2))**(1/3)\n",
    "Ex.append(np.trapz(Vx*u**2,r))\n",
    "\n",
    "H = H_matriz(h,N,Z,l)[0] + np.diag(VHartree+Vx)"
   ]
  },
  {
   "cell_type": "markdown",
   "metadata": {},
   "source": [
    "### Calculo las energias de los orbitales de KS"
   ]
  },
  {
   "cell_type": "code",
   "execution_count": 269,
   "metadata": {},
   "outputs": [
    {
     "name": "stdout",
     "output_type": "stream",
     "text": [
      "[-0.53885275  0.07121715  0.33936044  0.7745039   1.36174887  2.0957492\n",
      "  2.97408105  3.9954422   5.15903909  6.46434181]\n"
     ]
    }
   ],
   "source": [
    "# E son las energias, v las respectivas funciones de onda \n",
    "# sin normalizar como columnas de una matriz v de autovectores\n",
    "E, psis = eigh(H)\n",
    "print E[:10]"
   ]
  },
  {
   "cell_type": "markdown",
   "metadata": {},
   "source": [
    "### Elijo con el indice j con que autovalor y autovector me quedo de los que obtuve mediante la diagonalizacion, y normalizo la funcion de onda"
   ]
  },
  {
   "cell_type": "code",
   "execution_count": 270,
   "metadata": {
    "collapsed": true,
    "scrolled": true
   },
   "outputs": [],
   "source": [
    "j = 0\n",
    "Eks.append(E[j])\n",
    "norm = np.trapz(psis[:,j]**2,r)\n",
    "u = psis[:,j]/norm**0.5"
   ]
  },
  {
   "cell_type": "markdown",
   "metadata": {},
   "source": [
    "### Calculo la energia total"
   ]
  },
  {
   "cell_type": "code",
   "execution_count": 271,
   "metadata": {},
   "outputs": [
    {
     "name": "stdout",
     "output_type": "stream",
     "text": [
      "Iteracion  0 :\n",
      "\t*) Energia Total: -3.9998040191807314\n",
      "\t*) Energia Kohn-Sham: -1.9999020095903657\n",
      "\t*) Correccion de Hartree 0.0\n",
      "\t*) Correccion de Exchange 0.0\n",
      "Iteracion  1 :\n",
      "\t*) Energia Total: -2.7844679710416878\n",
      "\t*) Energia Kohn-Sham: -0.3209406777317491\n",
      "\t*) Correccion de Hartree 2.4999563354506242\n",
      "\t*) Correccion de Exchange -0.7147394397448696\n",
      "Iteracion  2 :\n",
      "\t*) Energia Total: -2.7389425713047135\n",
      "\t*) Energia Kohn-Sham: -0.6280636765687111\n",
      "\t*) Correccion de Hartree 1.7333134360480742\n",
      "\t*) Correccion de Exchange -0.5009964357615663\n",
      "Iteracion  3 :\n",
      "\t*) Energia Total: -2.7264106404059034\n",
      "\t*) Energia Kohn-Sham: -0.4714920653312456\n",
      "\t*) Correccion de Hartree 2.0829179164844396\n",
      "\t*) Correccion de Exchange -0.5989828134820546\n",
      "Iteracion  4 :\n",
      "\t*) Energia Total: -2.7241142367439277\n",
      "\t*) Energia Kohn-Sham: -0.5388527533187168\n",
      "\t*) Correccion de Hartree 1.9236132620556543\n",
      "\t*) Correccion de Exchange -0.5544090638983206\n"
     ]
    }
   ],
   "source": [
    "Etot.append(2*Eks[-1] - EHartree[-1] - 0.5*Ex[-1])\n",
    "it += 1\n",
    "for i in range(it):\n",
    "    print \"Iteracion \",i, \":\"\n",
    "    print \"\\t*) Energia Total:\", Etot[i]\n",
    "    print \"\\t*) Energia Kohn-Sham:\", Eks[i]\n",
    "    print \"\\t*) Correccion de Hartree\", EHartree[i]\n",
    "    print \"\\t*) Correccion de Exchange\", Ex[i]\n"
   ]
  },
  {
   "cell_type": "code",
   "execution_count": 272,
   "metadata": {},
   "outputs": [
    {
     "data": {
      "text/plain": [
       "Text(0,0.5,u'Energia Total [a.u.]')"
      ]
     },
     "execution_count": 272,
     "metadata": {},
     "output_type": "execute_result"
    },
    {
     "data": {
      "image/png": "[encoded data removed]",
      "text/plain": [
       "<matplotlib.figure.Figure at 0x7f5eeef69e50>"
      ]
     },
     "metadata": {},
     "output_type": "display_data"
    }
   ],
   "source": [
    "# plt.plot(Eks,'ro-',mec='k',label='KS')\n",
    "# plt.plot(EHartree,'mo-',mec='k',label='Hartree')\n",
    "# plt.plot(Ex,'bo-',mec='k',label='Exchange')\n",
    "plt.plot(Etot, 'bo-', mec='k',label='Total')\n",
    "plt.xlabel('Numero de iteracion')\n",
    "plt.ylabel(\"Energia Total [a.u.]\")\n",
    "#plt.legend(loc='best')\n"
   ]
  },
  {
   "cell_type": "markdown",
   "metadata": {},
   "source": [
    "- Me aleje aun mas de la energia exacta, yo obtengo $E = 2.724 a.u.$ ahora, esto es debido a que estoy agregando exchange con 2 electrones. Voy a agregar una correccion mas de correlacion a ver si mejora"
   ]
  },
  {
   "cell_type": "markdown",
   "metadata": {},
   "source": [
    "# Agrego ahora la correlacion de Ceperley-Alder"
   ]
  },
  {
   "cell_type": "markdown",
   "metadata": {},
   "source": [
    "### Inicializo las variables para el loop"
   ]
  },
  {
   "cell_type": "code",
   "execution_count": 273,
   "metadata": {},
   "outputs": [
    {
     "name": "stdout",
     "output_type": "stream",
     "text": [
      "8.4\n"
     ]
    }
   ],
   "source": [
    "# inicialmente\n",
    "N = 1200 # cantidad de puntos\n",
    "Z = 2\n",
    "l = 0\n",
    "h = 0.007 # resolucion espacial\n",
    "\n",
    "H, r = H_matriz(h,N,Z,l)\n",
    "Etot = []\n",
    "EHartree = []\n",
    "Ex = []\n",
    "Eks = []\n",
    "Ec = []\n",
    "print r[-1]\n",
    "u = np.zeros(N)\n",
    "it = 0 # contador de iteraciones"
   ]
  },
  {
   "cell_type": "markdown",
   "metadata": {},
   "source": [
    "### Aca inicia el loop\n",
    "### Calculo los potenciales"
   ]
  },
  {
   "cell_type": "code",
   "execution_count": 299,
   "metadata": {
    "collapsed": true
   },
   "outputs": [],
   "source": [
    "# Calculo el potencial de Hartree\n",
    "F = -u**2/r\n",
    "VHartree = 2*verlet(h,F,N,r)/r\n",
    "EHartree.append(np.trapz(VHartree*u**2,r))\n",
    "\n",
    "# Calculo el potencial de exchange\n",
    "Vx = -((3*u**2)/(2*np.pi**2*r**2))**(1/3)\n",
    "Ex.append(np.trapz(Vx*u**2,r))\n",
    "\n",
    "# Calculo la correlacion de Ceperley-Alder\n",
    "if it > 0: # para la primer iteracion, lo hago nulo\n",
    "    CCA = Corr_Cep_Ald(u,r)\n",
    "    Ec.append(CCA[0])\n",
    "    Vc = CCA[1]\n",
    "else:\n",
    "    Vc = np.zeros(N)\n",
    "    Ec.append(0)\n",
    "\n",
    "H = H_matriz(h,N,Z,l)[0] + np.diag(VHartree+Vx+Vc)"
   ]
  },
  {
   "cell_type": "markdown",
   "metadata": {},
   "source": [
    "### Calculo las energias de los orbitales de KS"
   ]
  },
  {
   "cell_type": "code",
   "execution_count": 300,
   "metadata": {},
   "outputs": [
    {
     "name": "stdout",
     "output_type": "stream",
     "text": [
      "[-0.57085365  0.06352495  0.32955219  0.76372118  1.35041134  2.08408338\n",
      "  2.9622124   3.98344266  5.14695026  6.45218705]\n"
     ]
    }
   ],
   "source": [
    "# E son las energias, v las respectivas funciones de onda \n",
    "# sin normalizar como columnas de una matriz v de autovectores\n",
    "E, psis = eigh(H)\n",
    "print E[:10]"
   ]
  },
  {
   "cell_type": "markdown",
   "metadata": {},
   "source": [
    "### Elijo con el indice j con que autovalor y autovector me quedo de los que obtuve mediante la diagonalizacion, y normalizo la funcion de onda"
   ]
  },
  {
   "cell_type": "code",
   "execution_count": 301,
   "metadata": {
    "collapsed": true,
    "scrolled": true
   },
   "outputs": [],
   "source": [
    "j = 0\n",
    "Eks.append(E[j])\n",
    "norm = np.trapz(psis[:,j]**2,r)\n",
    "u = psis[:,j]/norm**0.5"
   ]
  },
  {
   "cell_type": "markdown",
   "metadata": {},
   "source": [
    "### Calculo la energia total"
   ]
  },
  {
   "cell_type": "code",
   "execution_count": 302,
   "metadata": {},
   "outputs": [
    {
     "name": "stdout",
     "output_type": "stream",
     "text": [
      "Iteracion  0 :\n",
      "\t*) Energia Total: -3.9998040191807314\n",
      "\t*) Energia Kohn-Sham: -1.9999020095903657\n",
      "\t*) Correccion de Hartree 0.0\n",
      "\t*) Correccion de Exchange 0.0\n",
      "\t*) Correccion de Ceperley-Alder 0\n",
      "Iteracion  1 :\n",
      "\t*) Energia Total: -2.9898717371400783\n",
      "\t*) Energia Kohn-Sham: -0.3778713498212417\n",
      "\t*) Correccion de Hartree 2.4999563354506242\n",
      "\t*) Correccion de Exchange -0.7147394397448696\n",
      "\t*) Correccion de Ceperley-Alder -0.09154242191940531\n",
      "Iteracion  2 :\n",
      "\t*) Energia Total: -2.8913492965418928\n",
      "\t*) Energia Kohn-Sham: -0.6635526758767324\n",
      "\t*) Correccion de Hartree 1.7864094047600854\n",
      "\t*) Correccion de Exchange -0.5155823116265174\n",
      "\t*) Correccion de Ceperley-Alder -0.03562569584160173\n",
      "Iteracion  3 :\n",
      "\t*) Energia Total: -2.9029733625481757\n",
      "\t*) Energia Kohn-Sham: -0.5300322388571702\n",
      "\t*) Correccion de Hartree 2.086970312210529\n",
      "\t*) Correccion de Exchange -0.6000187308176569\n",
      "\t*) Correccion de Ceperley-Alder -0.0559479380321347\n",
      "Iteracion  4 :\n",
      "\t*) Energia Total: -2.8917941170932737\n",
      "\t*) Energia Kohn-Sham: -0.5846032002748455\n",
      "\t*) Correccion de Hartree 1.9579378965100156\n",
      "\t*) Correccion de Exchange -0.5638466077324117\n",
      "\t*) Correccion de Ceperley-Alder -0.04657312389977287\n",
      "Iteracion  5 :\n",
      "\t*) Energia Total: -2.8955189501746106\n",
      "\t*) Energia Kohn-Sham: -0.5606361310489287\n",
      "\t*) Correccion de Hartree 2.0134738860833523\n",
      "\t*) Correccion de Exchange -0.5794292176178021\n",
      "\t*) Correccion de Ceperley-Alder -0.050487410802301846\n",
      "Iteracion  6 :\n",
      "\t*) Energia Total: -2.8936915011900037\n",
      "\t*) Energia Kohn-Sham: -0.570853653837541\n",
      "\t*) Correccion de Hartree 1.9895660077960382\n",
      "\t*) Correccion de Exchange -0.5727235615922498\n",
      "\t*) Correccion de Ceperley-Alder -0.04877996651500824\n"
     ]
    }
   ],
   "source": [
    "Etot.append(2*Eks[-1] - EHartree[-1] - 0.5*Ex[-1] + Ec[-1])\n",
    "it += 1\n",
    "for i in range(it):\n",
    "    print \"Iteracion \",i, \":\"\n",
    "    print \"\\t*) Energia Total:\", Etot[i]\n",
    "    print \"\\t*) Energia Kohn-Sham:\", Eks[i]\n",
    "    print \"\\t*) Correccion de Hartree\", EHartree[i]\n",
    "    print \"\\t*) Correccion de Exchange\", Ex[i]\n",
    "    print \"\\t*) Correccion de Ceperley-Alder\", Ec[i]\n"
   ]
  },
  {
   "cell_type": "code",
   "execution_count": 303,
   "metadata": {},
   "outputs": [
    {
     "data": {
      "text/plain": [
       "Text(0,0.5,u'Energia Total [a.u.]')"
      ]
     },
     "execution_count": 303,
     "metadata": {},
     "output_type": "execute_result"
    },
    {
     "data": {
      "image/png": "[encoded data removed]",
      "text/plain": [
       "<matplotlib.figure.Figure at 0x7f5eeee3ea50>"
      ]
     },
     "metadata": {},
     "output_type": "display_data"
    }
   ],
   "source": [
    "# plt.plot(Eks,'ro-',mec='k',label='KS')\n",
    "# plt.plot(EHartree,'mo-',mec='k',label='Hartree')\n",
    "# plt.plot(Ex,'bo-',mec='k',label='Exchange')\n",
    "plt.plot(Etot, 'bo-', mec='k',label='Total')\n",
    "plt.xlabel('Numero de iteracion')\n",
    "plt.ylabel(\"Energia Total [a.u.]\")\n",
    "#plt.legend(loc='best')\n"
   ]
  },
  {
   "cell_type": "markdown",
   "metadata": {},
   "source": [
    "- Evidentemente el resultado ahora es mucho mejor $E = 2.894$, aunque todavia estoy teniendo una diferencia de $0.01 a.u.$ con respecto a la solucion exacta. Yo creo que esto podria mejorar bastante teniendo un mejor metodo para hallar los orbitales de Kohn-Sham, ya sea diagonilizando con mas puntos o haciendo Numerov con predictor-corrector."
   ]
  },
  {
   "cell_type": "markdown",
   "metadata": {},
   "source": [
    "# Pseudo Potencial"
   ]
  },
  {
   "cell_type": "code",
   "execution_count": null,
   "metadata": {
    "collapsed": true
   },
   "outputs": [],
   "source": [
    "r, v3s = np.loadtxt(\"Na_wave.3s\",unpack = True)\n",
    "plt.plot(r,v3s,'ro-',mec='k')\n",
    "plt.xlim([0,8])\n",
    "\n",
    "idxMax = np.where(v3s == np.max(v3s))\n",
    "rMax = r[idxMax]\n",
    "plt.plot(rMax,v3s[idxMax],'go')"
   ]
  },
  {
   "cell_type": "code",
   "execution_count": null,
   "metadata": {
    "collapsed": true
   },
   "outputs": [],
   "source": [
    "x = np.arange(0.001,10,0.001)\n",
    "plt.plot(x,np.log(x))"
   ]
  }
 ],
 "metadata": {
  "kernelspec": {
   "display_name": "Python 2",
   "language": "python",
   "name": "python2"
  },
  "language_info": {
   "codemirror_mode": {
    "name": "ipython",
    "version": 2
   },
   "file_extension": ".py",
   "mimetype": "text/x-python",
   "name": "python",
   "nbconvert_exporter": "python",
   "pygments_lexer": "ipython2",
   "version": "2.7.12"
  }
 },
 "nbformat": 4,
 "nbformat_minor": 2
}
