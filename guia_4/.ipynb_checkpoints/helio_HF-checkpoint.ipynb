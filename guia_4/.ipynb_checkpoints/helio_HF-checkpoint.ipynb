{
 "cells": [
  {
   "cell_type": "code",
   "execution_count": 599,
   "metadata": {
    "collapsed": true
   },
   "outputs": [],
   "source": [
    "import numpy as np\n",
    "import matplotlib.pyplot as plt\n",
    "from scipy.linalg import eigh\n",
    "%matplotlib inline\n",
    "from __future__ import division"
   ]
  },
  {
   "cell_type": "code",
   "execution_count": 600,
   "metadata": {
    "collapsed": true
   },
   "outputs": [],
   "source": [
    "def Overlap_ij(alpha,i,j):\n",
    "    Sij = ( np.pi / (alpha[i] + alpha[j]) )**(1.5)\n",
    "    return Sij\n",
    "\n",
    "def Matriz_Overlap(alpha):\n",
    "    nsize = len(alpha)\n",
    "    S = np.zeros((nsize,nsize))\n",
    "    for i in range(0,nsize):\n",
    "        for j in range(i,nsize):        \n",
    "            S[i,j]=Overlap_ij(alpha,i,j)\n",
    "            S[j,i]=S[i,j]\n",
    "    return S"
   ]
  },
  {
   "cell_type": "code",
   "execution_count": 1000,
   "metadata": {},
   "outputs": [],
   "source": [
    "# Elemento de matriz de cinetica\n",
    "def Tij(alpha,l,i,j):\n",
    "    rnum = 3 * np.pi**(1.5) * alpha[i] * alpha[j]\n",
    "    rden = (alpha[i] + alpha[j])**(2.5)    \n",
    "    Tij = rnum/rden + l*(l+1)*np.pi**(3/2)/(alpha[i]+alpha[j])**0.5\n",
    "    return Tij\n",
    "\n",
    "\n",
    "# Elemento de matriz de potencial\n",
    "def Vij(alpha,Z,i,j):\n",
    "    Vij =  Z*( -2*np.pi )  /  (alpha[i] + alpha[j])    \n",
    "    return Vij\n",
    "\n",
    "# Matriz del Hamiltoniano en la base\n",
    "def Matriz_H(alpha,l,Z):\n",
    "    nsize = len(alpha)\n",
    "    H = np.zeros((nsize,nsize))\n",
    "    for i in range(nsize):\n",
    "        for j in range(i,nsize): \n",
    "            H[i,j] = Tij(alpha,l,i,j) + Vij(alpha,Z,i,j)\n",
    "            H[j,i] = H[i,j]\n",
    "    return H\n",
    "\n",
    "def Qprqs(alpha,p,r,q,s):\n",
    "    num = 2*np.pi**2.5 \n",
    "    den = (alpha[p]+alpha[q])*(alpha[r]+alpha[s])*(alpha[p]+alpha[q]+alpha[r]+alpha[s])**0.5\n",
    "    return num/den\n",
    "\n",
    "def Tensor_Q(alpha):\n",
    "    Iter = range(len(alpha))\n",
    "    Q = np.array([[[[Qprqs(alpha,p,r,q,s) for p in Iter] for r in Iter] for q in Iter] for s in Iter])\n",
    "    return Q\n",
    "\n",
    "def F_Matriz(H,Q,Ci):\n",
    "    size = H.shape[0]\n",
    "    F = np.zeros(H.shape)\n",
    "    for i in range(size):\n",
    "        for j in range(i,size):\n",
    "            F[i,j] = H[i,j] + Ci.dot(Q[i,:,j,:].dot(Ci))\n",
    "            F[j,i] = F[i,j]\n",
    "    return F\n",
    "\n",
    "def C_Norm(C,S):\n",
    "    size = C.shape[0]\n",
    "    for i in range(size):\n",
    "        Ci = C[:,i]\n",
    "        norm = Ci.T.dot(S.dot(Ci))**0.5\n",
    "        C[:,i] = C[:,i]/norm\n",
    "\n",
    "def Energy_Calc(Ci,H,Q):\n",
    "    Iter = range(Ci.shape[0])\n",
    "    cumres = 2*Ci.T.dot(H.dot(Ci))\n",
    "    for p in Iter:\n",
    "        for r in Iter:\n",
    "            for q in Iter:\n",
    "                for s in Iter:\n",
    "                    cumres = cumres + Ci[p]*Ci[r]*Ci[q]*Ci[s]*Q[p,r,q,s]\n",
    "    return cumres"
   ]
  },
  {
   "cell_type": "code",
   "execution_count": 1001,
   "metadata": {},
   "outputs": [],
   "source": [
    "alpha = np.array([0.298073,1.242567,5.782948,38.474970])\n",
    "Z = 2\n",
    "l = 1\n",
    "\n",
    "C_new = np.ones((4,4)) # np.random.rand(4,4)\n",
    "C_Norm(C_new,S)\n",
    "\n",
    "H = Matriz_H(alpha,l,Z)\n",
    "Q = Tensor_Q(alpha)\n",
    "S = Matriz_Overlap(alpha)\n",
    "cont = 0"
   ]
  },
  {
   "cell_type": "code",
   "execution_count": 1007,
   "metadata": {},
   "outputs": [
    {
     "name": "stdout",
     "output_type": "stream",
     "text": [
      "Iteracion Nro: 5\n",
      "-) Energia Total: -0.18314058913957496\n",
      "-) Energia Ionizacion: 0.17817109144611457\n"
     ]
    }
   ],
   "source": [
    "C = C_new\n",
    "F = F_Matriz(H,Q,C[:,0])\n",
    "E, C_new = eigh(F,S,type=1)\n",
    "C_Norm(C_new,S)\n",
    "print \"Iteracion Nro:\", cont\n",
    "print \"-) Energia Total:\", Energy_Calc(C_new[:,0],H,Q)\n",
    "print \"-) Energia Ionizacion:\", E[0]\n",
    "cont += 1"
   ]
  },
  {
   "cell_type": "code",
   "execution_count": null,
   "metadata": {},
   "outputs": [],
   "source": []
  },
  {
   "cell_type": "code",
   "execution_count": null,
   "metadata": {
    "collapsed": true
   },
   "outputs": [],
   "source": []
  },
  {
   "cell_type": "code",
   "execution_count": null,
   "metadata": {
    "collapsed": true
   },
   "outputs": [],
   "source": []
  },
  {
   "cell_type": "code",
   "execution_count": null,
   "metadata": {
    "collapsed": true
   },
   "outputs": [],
   "source": []
  }
 ],
 "metadata": {
  "kernelspec": {
   "display_name": "Python 2",
   "language": "python",
   "name": "python2"
  },
  "language_info": {
   "codemirror_mode": {
    "name": "ipython",
    "version": 2
   },
   "file_extension": ".py",
   "mimetype": "text/x-python",
   "name": "python",
   "nbconvert_exporter": "python",
   "pygments_lexer": "ipython2",
   "version": "2.7.12"
  }
 },
 "nbformat": 4,
 "nbformat_minor": 2
}
