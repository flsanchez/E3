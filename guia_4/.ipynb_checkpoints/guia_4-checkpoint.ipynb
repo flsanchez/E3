{
 "cells": [
  {
   "cell_type": "code",
   "execution_count": 416,
   "metadata": {
    "collapsed": true
   },
   "outputs": [],
   "source": [
    "import numpy as np\n",
    "import matplotlib.pyplot as plt\n",
    "from scipy.linalg import eigh\n",
    "from scipy import interpolate\n",
    "from scipy import integrate\n",
    "%matplotlib inline\n",
    "from __future__ import division"
   ]
  },
  {
   "cell_type": "markdown",
   "metadata": {},
   "source": [
    "## Matriz de Overlap"
   ]
  },
  {
   "cell_type": "code",
   "execution_count": 186,
   "metadata": {
    "collapsed": true
   },
   "outputs": [],
   "source": [
    "# Elemento de matriz de overlap\n",
    "def Overlap_ij(alpha,i,j):\n",
    "    Sij = ( np.pi / (alpha[i] + alpha[j]) )**(1.5)\n",
    "    return Sij\n",
    "\n",
    "# Matriz de overlap\n",
    "def Matriz_Overlap(alpha):\n",
    "    nsize = len(alpha)\n",
    "    S = np.zeros((nsize,nsize))\n",
    "    for i in range(0,nsize):\n",
    "        for j in range(i,nsize):        \n",
    "            S[i,j]=Overlap_ij(alpha,i,j)\n",
    "            S[j,i]=S[i,j]\n",
    "    return S"
   ]
  },
  {
   "cell_type": "markdown",
   "metadata": {},
   "source": [
    "## Matriz del Hamiltoniano"
   ]
  },
  {
   "cell_type": "code",
   "execution_count": 187,
   "metadata": {
    "collapsed": true
   },
   "outputs": [],
   "source": [
    "# Elemento de matriz de cinetica\n",
    "def Tij(alpha,l,i,j):\n",
    "    rnum = 3 * np.pi**(1.5) * alpha[i] * alpha[j]\n",
    "    rden = (alpha[i] + alpha[j])**(2.5)    \n",
    "    Tij = rnum/rden + l*(l+1)*np.pi**(3/2)/(alpha[i]+alpha[j])**0.5\n",
    "    return Tij\n",
    "\n",
    " \n",
    "# Elemento de matriz de potencial\n",
    "def Vij(alpha,Z,i,j):\n",
    "    Vij =  Z*( -2*np.pi )  /  (alpha[i] + alpha[j])    \n",
    "    return Vij\n",
    "\n",
    "# Matriz del Hamiltoniano en la base elegida (gaussianos en este caso)\n",
    "def Matriz_H(alpha,l,Z):\n",
    "    nsize = len(alpha)\n",
    "    H = np.zeros((nsize,nsize))\n",
    "    for i in range(nsize):\n",
    "        for j in range(i,nsize): \n",
    "            H[i,j] = Tij(alpha,l,i,j) + Vij(alpha,Z,i,j)\n",
    "            H[j,i] = H[i,j]\n",
    "    return H"
   ]
  },
  {
   "cell_type": "markdown",
   "metadata": {},
   "source": [
    "## Tensor Q (integrales de 4 gaussianas con diferentes exponentes)"
   ]
  },
  {
   "cell_type": "code",
   "execution_count": 188,
   "metadata": {
    "collapsed": true
   },
   "outputs": [],
   "source": [
    "# Elemento de matriz del tensor Q, donde p,r,q,s son las combinaciones de los alphas\n",
    "def Qprqs(alpha,p,r,q,s):\n",
    "    num = 2*np.pi**2.5 \n",
    "    den = (alpha[p]+alpha[q])*(alpha[r]+alpha[s])*(alpha[p]+alpha[q]+alpha[r]+alpha[s])**0.5\n",
    "    return num/den\n",
    "\n",
    "# Tensor Q\n",
    "def Tensor_Q(alpha):\n",
    "    Iter = range(len(alpha))\n",
    "    Q = np.array([[[[Qprqs(alpha,p,r,q,s) for p in Iter] for r in Iter] for q in Iter] for s in Iter])\n",
    "    return Q"
   ]
  },
  {
   "cell_type": "markdown",
   "metadata": {},
   "source": [
    "## Matriz del operador de Fock"
   ]
  },
  {
   "cell_type": "code",
   "execution_count": 189,
   "metadata": {
    "collapsed": true
   },
   "outputs": [],
   "source": [
    "# Construccion del operador de Fock en forma matricial\n",
    "def F_Matriz(H,Q,Ci):\n",
    "    size = H.shape[0]\n",
    "    F = np.zeros(H.shape)\n",
    "    for i in range(size):\n",
    "        for j in range(i,size):\n",
    "            F[i,j] = H[i,j] + Ci.dot(Q[i,:,j,:].dot(Ci))\n",
    "            F[j,i] = F[i,j]\n",
    "    return F"
   ]
  },
  {
   "cell_type": "markdown",
   "metadata": {},
   "source": [
    "## Normalizacion de los coeficientes (via matriz de overlap)"
   ]
  },
  {
   "cell_type": "code",
   "execution_count": 190,
   "metadata": {
    "collapsed": true
   },
   "outputs": [],
   "source": [
    "def C_Norm(C,S):\n",
    "    size = C.shape[0]\n",
    "    for i in range(size):\n",
    "        Ci = C[:,i]\n",
    "        norm = Ci.T.dot(S.dot(Ci))**0.5\n",
    "        C[:,i] = C[:,i]/norm"
   ]
  },
  {
   "cell_type": "markdown",
   "metadata": {},
   "source": [
    "## Calculo de la energia de Hartree-Fock"
   ]
  },
  {
   "cell_type": "code",
   "execution_count": 191,
   "metadata": {
    "collapsed": true
   },
   "outputs": [],
   "source": [
    "def Energy_Calc(Ci,H,Q):\n",
    "    Iter = range(Ci.shape[0])\n",
    "    cumres = 2*Ci.T.dot(H.dot(Ci))\n",
    "    for p in Iter:\n",
    "        for r in Iter:\n",
    "            for q in Iter:\n",
    "                for s in Iter:\n",
    "                    cumres = cumres + Ci[p]*Ci[r]*Ci[q]*Ci[s]*Q[p,r,q,s]\n",
    "    return cumres"
   ]
  },
  {
   "cell_type": "markdown",
   "metadata": {},
   "source": [
    "## Calculo de la funcion de onda de HF a partir de los coeficientes"
   ]
  },
  {
   "cell_type": "code",
   "execution_count": 192,
   "metadata": {
    "collapsed": true
   },
   "outputs": [],
   "source": [
    "def psi(Ci,Alpha,x):\n",
    "    nsize = len(Ci) \n",
    "    res = 0\n",
    "    for i in range(0,nsize):\n",
    "        res = res + Ci[i]*np.exp(-Alpha[i]*x**2)\n",
    "    return res"
   ]
  },
  {
   "cell_type": "markdown",
   "metadata": {},
   "source": [
    "# He $1s^2$"
   ]
  },
  {
   "cell_type": "code",
   "execution_count": 451,
   "metadata": {
    "collapsed": true
   },
   "outputs": [],
   "source": [
    "# H\n",
    "#alpha = np.array([0.1219492,0.444529,1.962079,13.00773])\n",
    "\n",
    "# H- \n",
    "#alpha = 0.15*np.array([0.298073,1.242567,5.782948,38.474970])\n",
    "\n",
    "# He\n",
    "#1s2\n",
    "alpha = np.array([0.298073,1.242567,5.782948,38.474970])\n",
    "#2s2\n",
    "#alpha = np.array([0.006,0.05, 0.1, 0.298073,1.242567,5.782948,38.474970])\n",
    "\n",
    "# Li+\n",
    "#alpha = 3*np.array([0.298073,1.242567,5.782948,38.474970])\n",
    "\n",
    "\n",
    "Z = 2\n",
    "l = 0\n",
    "\n",
    "S = Matriz_Overlap(alpha)\n",
    "C_new = np.random.rand(len(alpha),len(alpha)) #np.ones((len(alpha),len(alpha)))\n",
    "C_Norm(C_new,S)\n",
    "\n",
    "H = Matriz_H(alpha,l,Z)\n",
    "Q = Tensor_Q(alpha)\n",
    "\n",
    "cont = 0"
   ]
  },
  {
   "cell_type": "code",
   "execution_count": 458,
   "metadata": {
    "scrolled": true
   },
   "outputs": [
    {
     "name": "stdout",
     "output_type": "stream",
     "text": [
      "Iteracion Nro: 4\n",
      "-) Energia Total: -2.855160379963242\n",
      "-) Energia Ionizacion: -0.9140678141374324\n"
     ]
    }
   ],
   "source": [
    "C = C_new\n",
    "F = F_Matriz(H,Q,C[:,0])\n",
    "E, C_new = eigh(F,S,type=1)\n",
    "C_Norm(C_new,S)\n",
    "print \"Iteracion Nro:\", cont\n",
    "print \"-) Energia Total:\", Energy_Calc(C_new[:,0],H,Q)\n",
    "print \"-) Energia Ionizacion:\", E[0]\n",
    "cont += 1"
   ]
  },
  {
   "cell_type": "markdown",
   "metadata": {},
   "source": [
    "- La energia total y la de ionizacion dan razonable con lo que se ve en las tablas de Bunge y Johnson"
   ]
  },
  {
   "cell_type": "code",
   "execution_count": 459,
   "metadata": {
    "collapsed": true
   },
   "outputs": [],
   "source": [
    "r,psiFunc = np.loadtxt(\"He_wave.1s\",unpack=True)\n",
    "rmin, rmax = 0, 10\n",
    "r = r[np.where(r<=rmax)]\n",
    "psi_johnson = psiFunc[:len(r)]\n",
    "psi_calc = np.zeros(len(r))\n",
    "psi_calc = psi(C_new[:,0],alpha,r)\n",
    "\n",
    "# Normalizo ambas funciones en el intervalo deseado\n",
    "psi_johnson = psi_johnson/np.trapz((psi_johnson)**2,x=r)**0.5\n",
    "psi_calc = psi_calc/np.trapz((r*psi_calc)**2,x=r)**0.5"
   ]
  },
  {
   "cell_type": "code",
   "execution_count": 460,
   "metadata": {
    "scrolled": false
   },
   "outputs": [
    {
     "data": {
      "text/plain": [
       "<matplotlib.legend.Legend at 0x7f86b0359a90>"
      ]
     },
     "execution_count": 460,
     "metadata": {},
     "output_type": "execute_result"
    },
    {
     "data": {
      "image/png": "[encoded data removed]",
      "text/plain": [
       "<matplotlib.figure.Figure at 0x7f86b048e4d0>"
      ]
     },
     "metadata": {},
     "output_type": "display_data"
    }
   ],
   "source": [
    "plt.figure(figsize=(12,8))\n",
    "plt.plot(r,psi_johnson, label = \"Johnson\")\n",
    "plt.plot(r,r*psi_calc ,'r--', label = \"Calculada\")\n",
    "plt.xlim(rmin,rmax)\n",
    "plt.title(\"$He$ $u_{1s^2}$\", size=25)\n",
    "plt.legend(loc='best')"
   ]
  },
  {
   "cell_type": "markdown",
   "metadata": {},
   "source": [
    "## Valores medios de r"
   ]
  },
  {
   "cell_type": "code",
   "execution_count": 467,
   "metadata": {},
   "outputs": [
    {
     "name": "stdout",
     "output_type": "stream",
     "text": [
      "<r^2> = 1.1625384921523685\n",
      "<r> = 0.9233115871430844\n",
      "<r^(-1)> = 1.6843127314813695\n",
      "<r^(-2)> = 5.862649328469004\n"
     ]
    }
   ],
   "source": [
    "r_2Mean = np.trapz(psi_calc**2*r**4,r)\n",
    "r_Mean = np.trapz(psi_calc**2*r**3,r)\n",
    "r_m1Mean = np.trapz(psi_calc**2*r,r)\n",
    "r_m2Mean = np.trapz(psi_calc**2,r)\n",
    "print \"<r^2> =\",r_2Mean\n",
    "print \"<r> =\",r_Mean\n",
    "print \"<r^(-1)> =\",r_m1Mean\n",
    "print \"<r^(-2)> =\",r_m2Mean"
   ]
  },
  {
   "cell_type": "markdown",
   "metadata": {},
   "source": [
    "- OK con tablas de Bunge, aunque se ven diferencias en la primera cifra significativa en $r^2$ y en $\\frac{1}{r^2}$, pero me parecieron razonables considerando que la funcion de onda que obtuve no solapa completamente con la de Johnson. Probe hacer Simpson para mejorar el metodo de integracion, pero no mejora mucho el resultado."
   ]
  },
  {
   "cell_type": "markdown",
   "metadata": {},
   "source": [
    "## Virial"
   ]
  },
  {
   "cell_type": "code",
   "execution_count": 465,
   "metadata": {},
   "outputs": [
    {
     "name": "stdout",
     "output_type": "stream",
     "text": [
      "Cinetica = 2.856551609579858\n",
      "Potencial = -5.710367967803121\n",
      "Energia Total= -2.8538163582232627\n",
      "<V>/<T> = -1.9990424638758766\n"
     ]
    }
   ],
   "source": [
    "# Calculo el potencial interelectronico\n",
    "Vinter = 0\n",
    "Ci = C_new[:,0]\n",
    "Iter = range(len(Ci))\n",
    "for p in Iter:\n",
    "    for t in Iter:\n",
    "        for q in Iter:\n",
    "            for s in Iter:\n",
    "                Vinter = Vinter + Ci[p]*Ci[t]*Ci[q]*Ci[s]*Q[p,t,q,s]\n",
    "                \n",
    "# Cinetica\n",
    "T = np.trapz(-np.gradient(np.gradient(r*psi_calc,r),r)*psi_calc*r,r)\n",
    "# Potencial\n",
    "V = np.trapz(-4*psi_calc**2*r,r) + Vinter\n",
    "print \"Cinetica =\",T\n",
    "print \"Potencial =\",V\n",
    "print \"Energia Total=\",T+V\n",
    "print \"<V>/<T> =\",V/T"
   ]
  },
  {
   "cell_type": "markdown",
   "metadata": {},
   "source": [
    "- OK con tablas de Bunge, nuevamente se observan diferencias pero parece ser razonable"
   ]
  },
  {
   "cell_type": "markdown",
   "metadata": {},
   "source": [
    "## Kato"
   ]
  },
  {
   "cell_type": "code",
   "execution_count": 440,
   "metadata": {},
   "outputs": [
    {
     "data": {
      "text/plain": [
       "-0.0001626318769780551"
      ]
     },
     "execution_count": 440,
     "metadata": {},
     "output_type": "execute_result"
    }
   ],
   "source": [
    "np.gradient(psi_calc,r)[0]/psi_calc[0]"
   ]
  },
  {
   "cell_type": "markdown",
   "metadata": {},
   "source": [
    "- No da Kato porque una base Gaussiana nunca va a dar Kato. Pero da ~ 0, que es lo que analiticamente tiene que dar la derivada en r = 0"
   ]
  },
  {
   "cell_type": "markdown",
   "metadata": {},
   "source": [
    "# He $2s^2$"
   ]
  },
  {
   "cell_type": "code",
   "execution_count": 468,
   "metadata": {},
   "outputs": [],
   "source": [
    "# H\n",
    "#alpha = np.array([0.1219492,0.444529,1.962079,13.00773])\n",
    "\n",
    "# H- \n",
    "#alpha = 0.15*np.array([0.298073,1.242567,5.782948,38.474970])\n",
    "\n",
    "# He\n",
    "#1s2\n",
    "#alpha = np.array([0.298073,1.242567,5.782948,38.474970])\n",
    "#2s2\n",
    "alpha = np.array([0.006,0.05, 0.298073, 0.35 ,1.242567,5.782948,38.474970])\n",
    "\n",
    "# Li+\n",
    "#alpha = 3*np.array([0.298073,1.242567,5.782948,38.474970])\n",
    "\n",
    "\n",
    "Z = 2\n",
    "l = 0\n",
    "\n",
    "S = Matriz_Overlap(alpha)\n",
    "C_new = np.random.rand(len(alpha),len(alpha)) #np.ones((len(alpha),len(alpha)))\n",
    "C_Norm(C_new,S)\n",
    "\n",
    "H = Matriz_H(alpha,l,Z)\n",
    "Q = Tensor_Q(alpha)\n",
    "\n",
    "cont = 0"
   ]
  },
  {
   "cell_type": "code",
   "execution_count": 484,
   "metadata": {
    "scrolled": true
   },
   "outputs": [
    {
     "name": "stdout",
     "output_type": "stream",
     "text": [
      "Iteracion Nro: 12\n",
      "-) Energia Total: -0.7175983488447625\n",
      "-) Energia Ionizacion: -0.23058124009058206\n"
     ]
    }
   ],
   "source": [
    "C = C_new\n",
    "F = F_Matriz(H,Q,C[:,1])\n",
    "E, C_new = eigh(F,S,type=1)\n",
    "C_Norm(C_new,S)\n",
    "print \"Iteracion Nro:\", cont\n",
    "print \"-) Energia Total:\", Energy_Calc(C_new[:,1],H,Q)\n",
    "print \"-) Energia Ionizacion:\", E[1]\n",
    "cont += 1"
   ]
  },
  {
   "cell_type": "markdown",
   "metadata": {},
   "source": [
    "- La energia total y la de ionizacion dan razonable con lo que se ve en Johnson"
   ]
  },
  {
   "cell_type": "code",
   "execution_count": 487,
   "metadata": {
    "collapsed": true
   },
   "outputs": [],
   "source": [
    "r,psiFunc = np.loadtxt(\"He_wave.2s\",unpack=True)\n",
    "rmin, rmax = 0, 20\n",
    "r = r[np.where(r<=rmax)]\n",
    "psi_johnson = psiFunc[:len(r)]\n",
    "psi_calc = np.zeros(len(r))\n",
    "psi_calc = psi(C_new[:,1],alpha,r)\n",
    "\n",
    "# Normalizo ambas funciones en el intervalo deseado\n",
    "psi_johnson = psi_johnson/np.trapz((psi_johnson)**2,r)**0.5\n",
    "psi_calc = psi_calc/np.trapz((r*psi_calc)**2,r)**0.5"
   ]
  },
  {
   "cell_type": "code",
   "execution_count": 488,
   "metadata": {},
   "outputs": [
    {
     "data": {
      "text/plain": [
       "<matplotlib.legend.Legend at 0x7f86b016fc90>"
      ]
     },
     "execution_count": 488,
     "metadata": {},
     "output_type": "execute_result"
    },
    {
     "data": {
      "image/png": "[encoded data removed]",
      "text/plain": [
       "<matplotlib.figure.Figure at 0x7f86b024d710>"
      ]
     },
     "metadata": {},
     "output_type": "display_data"
    }
   ],
   "source": [
    "plt.figure(figsize=(12,8))\n",
    "plt.plot(r,psi_johnson, label = \"Johnson\")\n",
    "plt.plot(r,r*psi_calc ,'r--', label = \"Calculada\")\n",
    "plt.xlim(rmin,rmax)\n",
    "plt.title(\"$He$ $u_{2s^2}$\", size=25)\n",
    "plt.legend(loc='best')"
   ]
  },
  {
   "cell_type": "markdown",
   "metadata": {},
   "source": [
    "# $H^-$ $1s^2$"
   ]
  },
  {
   "cell_type": "code",
   "execution_count": 489,
   "metadata": {},
   "outputs": [],
   "source": [
    "# H\n",
    "#alpha = np.array([0.1219492,0.444529,1.962079,13.00773])\n",
    "\n",
    "# H- \n",
    "alpha = 0.15*np.array([0.298073,1.242567,5.782948,38.474970])\n",
    "\n",
    "# He\n",
    "#1s2\n",
    "#alpha = np.array([0.298073,1.242567,5.782948,38.474970])\n",
    "#2s2\n",
    "#alpha = np.array([0.006,0.05, 0.298073, 0.35 ,1.242567,5.782948,38.474970])\n",
    "\n",
    "# Li+\n",
    "#alpha = 3*np.array([0.298073,1.242567,5.782948,38.474970])\n",
    "\n",
    "\n",
    "Z = 1\n",
    "l = 0\n",
    "\n",
    "S = Matriz_Overlap(alpha)\n",
    "C_new = np.random.rand(len(alpha),len(alpha)) #np.ones((len(alpha),len(alpha)))\n",
    "C_Norm(C_new,S)\n",
    "\n",
    "H = Matriz_H(alpha,l,Z)\n",
    "Q = Tensor_Q(alpha)\n",
    "\n",
    "cont = 0"
   ]
  },
  {
   "cell_type": "code",
   "execution_count": 515,
   "metadata": {
    "scrolled": true
   },
   "outputs": [
    {
     "name": "stdout",
     "output_type": "stream",
     "text": [
      "Iteracion Nro: 25\n",
      "-) Energia Total: -0.48480198067427677\n",
      "-) Energia Ionizacion: -0.037493188508942635\n"
     ]
    }
   ],
   "source": [
    "C = C_new\n",
    "F = F_Matriz(H,Q,C[:,0])\n",
    "E, C_new = eigh(F,S,type=1)\n",
    "C_Norm(C_new,S)\n",
    "print \"Iteracion Nro:\", cont\n",
    "print \"-) Energia Total:\", Energy_Calc(C_new[:,0],H,Q)\n",
    "print \"-) Energia Ionizacion:\", E[0]\n",
    "cont += 1"
   ]
  },
  {
   "cell_type": "code",
   "execution_count": 516,
   "metadata": {
    "collapsed": true
   },
   "outputs": [],
   "source": [
    "r,psiFunc = np.loadtxt(\"H_minus_wave.1s\",unpack=True)\n",
    "rmin, rmax = 0, 25\n",
    "r = r[np.where(r<=rmax)]\n",
    "psi_johnson = psiFunc[:len(r)]\n",
    "psi_calc = np.zeros(len(r))\n",
    "psi_calc = psi(C_new[:,0],alpha,r)\n",
    "\n",
    "# Normalizo ambas funciones en el intervalo deseado\n",
    "psi_johnson = psi_johnson/np.trapz((psi_johnson)**2,r)**0.5\n",
    "psi_calc = psi_calc/np.trapz((r*psi_calc)**2,r)**0.5"
   ]
  },
  {
   "cell_type": "code",
   "execution_count": 517,
   "metadata": {},
   "outputs": [
    {
     "data": {
      "text/plain": [
       "<matplotlib.legend.Legend at 0x7f86b00f59d0>"
      ]
     },
     "execution_count": 517,
     "metadata": {},
     "output_type": "execute_result"
    },
    {
     "data": {
      "image/png": "[encoded data removed]",
      "text/plain": [
       "<matplotlib.figure.Figure at 0x7f86b018f390>"
      ]
     },
     "metadata": {},
     "output_type": "display_data"
    }
   ],
   "source": [
    "plt.figure(figsize=(12,8))\n",
    "plt.plot(r,psi_johnson, label = \"Johnson\")\n",
    "plt.plot(r,r*psi_calc ,'r--', label = \"Calculada\")\n",
    "plt.xlim(rmin,rmax)\n",
    "plt.title(\"$H^-$ $u_{1s^2}$\", size=25)\n",
    "plt.legend(loc='best')"
   ]
  },
  {
   "cell_type": "markdown",
   "metadata": {},
   "source": [
    "- En el caso del $H^-$ podemos ver que el estado no es ligado ya que tenemos energia mayor que la del H, por lo que HF no puede obtener estados ligados para el $H^-$. Esto es asi porque en el calculo del $H^-$ es muy importante tener en cuenta la correlacion que HF no posee."
   ]
  },
  {
   "cell_type": "markdown",
   "metadata": {},
   "source": [
    "# Calculo de propiedades quimicas del Na"
   ]
  },
  {
   "cell_type": "code",
   "execution_count": 519,
   "metadata": {},
   "outputs": [
    {
     "name": "stdout",
     "output_type": "stream",
     "text": [
      "-0.00378563000001\n",
      "0.17662896\n"
     ]
    }
   ],
   "source": [
    "E_Na0 = -161.85891157\n",
    "E_NaMenos = -161.85512594\n",
    "E_NaMas = -161.68228261\n",
    "\n",
    "Eaff = E_Na0 - E_NaMenos\n",
    "print aff\n",
    "Eion = E_NaMas - E_Na0\n",
    "print Eion"
   ]
  },
  {
   "cell_type": "markdown",
   "metadata": {},
   "source": [
    "- Me estan dando los signos al reves y no entiendo porque. La energia del orbital en Johnson da -0.181801 y en Fischer 0.3642, asi que seguro estoy metiendo la pata con algo."
   ]
  },
  {
   "cell_type": "code",
   "execution_count": null,
   "metadata": {
    "collapsed": true
   },
   "outputs": [],
   "source": []
  }
 ],
 "metadata": {
  "kernelspec": {
   "display_name": "Python 2",
   "language": "python",
   "name": "python2"
  },
  "language_info": {
   "codemirror_mode": {
    "name": "ipython",
    "version": 2
   },
   "file_extension": ".py",
   "mimetype": "text/x-python",
   "name": "python",
   "nbconvert_exporter": "python",
   "pygments_lexer": "ipython2",
   "version": "2.7.12"
  }
 },
 "nbformat": 4,
 "nbformat_minor": 2
}
