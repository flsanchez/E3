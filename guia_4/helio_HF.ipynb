{
 "cells": [
  {
   "cell_type": "code",
   "execution_count": 2,
   "metadata": {
    "collapsed": true
   },
   "outputs": [],
   "source": [
    "import numpy as np\n",
    "import matplotlib.pyplot as plt\n",
    "from scipy.linalg import eigh\n",
    "%matplotlib inline\n",
    "from __future__ import division"
   ]
  },
  {
   "cell_type": "code",
   "execution_count": 3,
   "metadata": {
    "collapsed": true
   },
   "outputs": [],
   "source": [
    "def Overlap_ij(alpha,i,j):\n",
    "    Sij = ( np.pi / (alpha[i] + alpha[j]) )**(1.5)\n",
    "    return Sij\n",
    "\n",
    "def Matriz_Overlap(alpha):\n",
    "    nsize = len(alpha)\n",
    "    S = np.zeros((nsize,nsize))\n",
    "    for i in range(0,nsize):\n",
    "        for j in range(i,nsize):        \n",
    "            S[i,j]=Overlap_ij(alpha,i,j)\n",
    "            S[j,i]=S[i,j]\n",
    "    return S"
   ]
  },
  {
   "cell_type": "code",
   "execution_count": 175,
   "metadata": {
    "collapsed": true
   },
   "outputs": [],
   "source": [
    "# Elemento de matriz de cinetica\n",
    "def Tij(alpha,l,i,j):\n",
    "    rnum = 3 * np.pi**(1.5) * alpha[i] * alpha[j]\n",
    "    rden = (alpha[i] + alpha[j])**(2.5)    \n",
    "    Tij = rnum/rden + l*(l+1)*np.pi**(3/2)/(alpha[i]+alpha[j])**0.5\n",
    "    return Tij\n",
    "\n",
    " \n",
    "# Elemento de matriz de potencial\n",
    "def Vij(alpha,Z,i,j):\n",
    "    Vij =  Z*( -2*np.pi )  /  (alpha[i] + alpha[j])    \n",
    "    return Vij\n",
    "\n",
    "# Matriz del Hamiltoniano en la base\n",
    "def Matriz_H(alpha,l,Z):\n",
    "    nsize = len(alpha)\n",
    "    H = np.zeros((nsize,nsize))\n",
    "    for i in range(nsize):\n",
    "        for j in range(i,nsize): \n",
    "            H[i,j] = Tij(alpha,l,i,j) + Vij(alpha,Z,i,j)\n",
    "            H[j,i] = H[i,j]\n",
    "    return H\n",
    "\n",
    "def Qprqs(alpha,p,r,q,s):\n",
    "    num = 2*np.pi**2.5 \n",
    "    den = (alpha[p]+alpha[q])*(alpha[r]+alpha[s])*(alpha[p]+alpha[q]+alpha[r]+alpha[s])**0.5\n",
    "    return num/den\n",
    "\n",
    "def Tensor_Q(alpha):\n",
    "    Iter = range(len(alpha))\n",
    "    Q = np.array([[[[Qprqs(alpha,p,r,q,s) for p in Iter] for r in Iter] for q in Iter] for s in Iter])\n",
    "    return Q\n",
    "\n",
    "def F_Matriz(H,Q,Ci):\n",
    "    size = H.shape[0]\n",
    "    F = np.zeros(H.shape)\n",
    "    for i in range(size):\n",
    "        for j in range(i,size):\n",
    "            F[i,j] = H[i,j] + Ci.dot(Q[i,:,j,:].dot(Ci)) #- Ci.dot(Q[:,i,j,:].dot(Ci))\n",
    "            F[j,i] = F[i,j]\n",
    "    return F\n",
    "\n",
    "def C_Norm(C,S):\n",
    "    size = C.shape[0]\n",
    "    for i in range(size):\n",
    "        Ci = C[:,i]\n",
    "        norm = Ci.T.dot(S.dot(Ci))**0.5\n",
    "        C[:,i] = C[:,i]/norm\n",
    "\n",
    "def Energy_Calc(Ci,H,Q):\n",
    "    Iter = range(Ci.shape[0])\n",
    "    cumres = 2*Ci.T.dot(H.dot(Ci))\n",
    "    for p in Iter:\n",
    "        for r in Iter:\n",
    "            for q in Iter:\n",
    "                for s in Iter:\n",
    "                    cumres = cumres + Ci[p]*Ci[r]*Ci[q]*Ci[s]*Q[p,r,q,s]\n",
    "    return cumres"
   ]
  },
  {
   "cell_type": "code",
   "execution_count": 445,
   "metadata": {},
   "outputs": [],
   "source": [
    "# H\n",
    "#alpha = np.array([0.1219492,0.444529,1.962079,13.00773])\n",
    "\n",
    "# H- \n",
    "#alpha = 0.15*np.array([0.298073,1.242567,5.782948,38.474970])\n",
    "\n",
    "# He\n",
    "#1s2\n",
    "#alpha = np.array([0.298073,1.242567,5.782948,38.474970])\n",
    "#2s2\n",
    "alpha = np.array([0.006,0.05, 0.1, 0.298073,1.242567,5.782948,38.474970])\n",
    "\n",
    "# Li+\n",
    "#alpha = 3*np.array([0.298073,1.242567,5.782948,38.474970])\n",
    "\n",
    "\n",
    "Z = 2\n",
    "l = 0\n",
    "\n",
    "S = Matriz_Overlap(alpha)\n",
    "C_new = np.ones((len(alpha),len(alpha))) # np.random.rand(4,4)\n",
    "C_Norm(C_new,S)\n",
    "\n",
    "H = Matriz_H(alpha,l,Z)\n",
    "Q = Tensor_Q(alpha)\n",
    "\n",
    "cont = 0"
   ]
  },
  {
   "cell_type": "code",
   "execution_count": 452,
   "metadata": {
    "scrolled": true
   },
   "outputs": [
    {
     "name": "stdout",
     "output_type": "stream",
     "text": [
      "Iteracion Nro: 6\n",
      "-) Energia Total: -0.7171554201733371\n",
      "-) Energia Ionizacion: [-1.62860287e+00 -2.28214829e-01 -7.65142344e-02  4.60200452e-02\n",
      "  8.57145872e-01  7.23084267e+00  6.02790414e+01]\n"
     ]
    }
   ],
   "source": [
    "C = C_new\n",
    "F = F_Matriz(H,Q,C[:,1])\n",
    "E, C_new = eigh(F,S,type=1)\n",
    "C_Norm(C_new,S)\n",
    "print \"Iteracion Nro:\", cont\n",
    "print \"-) Energia Total:\", Energy_Calc(C_new[:,1],H,Q)\n",
    "print \"-) Energia Ionizacion:\", E\n",
    "cont += 1"
   ]
  },
  {
   "cell_type": "code",
   "execution_count": 482,
   "metadata": {
    "collapsed": true
   },
   "outputs": [],
   "source": [
    "def psi(Ci,Alpha,x):\n",
    "    from math import  exp\n",
    "    nsize = len(Ci) \n",
    "    res = 0.0\n",
    "    for i in range(0,nsize):\n",
    "        res = res + Ci[i]*exp(-Alpha[i]*x**2)\n",
    "    return res"
   ]
  },
  {
   "cell_type": "code",
   "execution_count": 486,
   "metadata": {},
   "outputs": [],
   "source": [
    "r,psiFunc = np.loadtxt(\"He_wave.2s\",unpack=True)\n",
    "r = r[np.where(r<=20)]\n",
    "psiFunc = psiFunc[:len(r)]\n",
    "psi_calc = np.zeros(len(r))\n",
    "for i in range(len(r)):\n",
    "    psi_calc[i] = psi(C_new[:,1],alpha,r[i])\n",
    "\n",
    "psiFunc = psiFunc/np.trapz((psiFunc)**2)**0.5\n",
    "psi_calc = -r*psi_calc/np.trapz((r*psi_calc)**2)**0.5"
   ]
  },
  {
   "cell_type": "code",
   "execution_count": null,
   "metadata": {},
   "outputs": [],
   "source": []
  },
  {
   "cell_type": "code",
   "execution_count": 487,
   "metadata": {},
   "outputs": [
    {
     "data": {
      "text/plain": [
       "(0, 20)"
      ]
     },
     "execution_count": 487,
     "metadata": {},
     "output_type": "execute_result"
    },
    {
     "data": {
      "image/png": "[encoded data removed]",
      "text/plain": [
       "<matplotlib.figure.Figure at 0x7fc6aec29250>"
      ]
     },
     "metadata": {},
     "output_type": "display_data"
    }
   ],
   "source": [
    "plt.plot(r,psiFunc)\n",
    "plt.plot(r,psi_calc ,'r--')\n",
    "plt.xlim(0,20)"
   ]
  },
  {
   "cell_type": "markdown",
   "metadata": {},
   "source": [
    "# Hartree-Fock"
   ]
  },
  {
   "cell_type": "code",
   "execution_count": 160,
   "metadata": {
    "collapsed": true
   },
   "outputs": [],
   "source": [
    "def Overlap_ij(alpha,i,j):\n",
    "    Sij = ( np.pi / (alpha[i] + alpha[j]) )**(1.5)\n",
    "    return Sij\n",
    "\n",
    "def Matriz_Overlap(alpha):\n",
    "    nsize = len(alpha)\n",
    "    S = np.zeros((nsize,nsize))\n",
    "    for i in range(0,nsize):\n",
    "        for j in range(i,nsize):        \n",
    "            S[i,j]=Overlap_ij(alpha,i,j)\n",
    "            S[j,i]=S[i,j]\n",
    "    return S"
   ]
  },
  {
   "cell_type": "code",
   "execution_count": 161,
   "metadata": {},
   "outputs": [],
   "source": [
    "# Elemento de matriz de cinetica\n",
    "def Tij(alpha,l,i,j):\n",
    "    rnum = 3 * np.pi**(1.5) * alpha[i] * alpha[j]\n",
    "    rden = (alpha[i] + alpha[j])**(2.5)    \n",
    "    Tij = rnum/rden + l*(l+1)*np.pi**(3/2)/(alpha[i]+alpha[j])**0.5\n",
    "    return Tij\n",
    "\n",
    " \n",
    "# Elemento de matriz de potencial\n",
    "def Vij(alpha,Z,i,j):\n",
    "    Vij =  Z*( -2*np.pi )  /  (alpha[i] + alpha[j])    \n",
    "    return Vij\n",
    "\n",
    "# Matriz del Hamiltoniano en la base\n",
    "def H_Matriz(alpha,l,Z):\n",
    "    nsize = len(alpha)\n",
    "    H = np.zeros((nsize,nsize))\n",
    "    for i in range(nsize):\n",
    "        for j in range(i,nsize): \n",
    "            H[i,j] = Tij(alpha,l,i,j) + Vij(alpha,Z,i,j)\n",
    "            H[j,i] = H[i,j]\n",
    "    return H\n",
    "\n",
    "def Qprqs(alpha,p,r,q,s):\n",
    "    num = 2*np.pi**2.5 \n",
    "    den = (alpha[p]+alpha[q])*(alpha[r]+alpha[s])*(alpha[p]+alpha[q]+alpha[r]+alpha[s])**0.5\n",
    "    return num/den\n",
    "\n",
    "def P_Matriz(C):\n",
    "    return 2*C.dot(C.T)\n",
    "\n",
    "def Q_Tensor(alpha):\n",
    "    Iter = range(len(alpha))\n",
    "    Q = np.array([[[[Qprqs(alpha,p,r,q,s) for p in Iter] for r in Iter] for q in Iter] for s in Iter])\n",
    "    return Q\n",
    "\n",
    "def Gij(P,Q,i,j):\n",
    "    Gij = 0\n",
    "    size = P.shape[0]\n",
    "    for r in range(size):\n",
    "        for s in range(size):\n",
    "            Gij = Gij + P[r,s]*(Q[i,r,j,s] - 0.5*Q[i,r,s,j])\n",
    "    return Gij\n",
    "\n",
    "def G_Matriz(P,Q):\n",
    "    G = np.zeros(P.shape)\n",
    "    for i in range(G.shape[0]):\n",
    "        for j in range(G.shape[0]):\n",
    "            #G[i,j] = Gij(P,Q,i,j)\n",
    "            G[i,j] = 1/2*np.trace(P.dot(2*Q[i,:,j,:] - Q[i,:,:,j]))\n",
    "    return G\n",
    "\n",
    "def F_Matriz(H,G):\n",
    "    return H + G\n",
    "\n",
    "def C_Norm(C,S):\n",
    "    size = C.shape[0]\n",
    "    for i in range(size):\n",
    "        Ci = C[:,i]\n",
    "        norm = Ci.T.dot(S.dot(Ci))**0.5\n",
    "        C[:,i] = C[:,i]/norm\n",
    "\n",
    "def Energy_Calc(E,H,P):\n",
    "    #return 1/2*(np.sum(E) + np.trace(H.dot(P)))\n",
    "    e = np.trace(P.dot(H))\n",
    "    Iter = range(len(E))\n",
    "    for p in Iter:\n",
    "        for q in Iter:\n",
    "            for r in Iter:\n",
    "                for s in Iter:\n",
    "                    e = e + 0.5*P[p,q]*P[r,s]*(Q[p,r,q,s]-0.5*Q[p,r,s,q])\n",
    "    return e\n",
    "    "
   ]
  },
  {
   "cell_type": "code",
   "execution_count": 162,
   "metadata": {
    "collapsed": true
   },
   "outputs": [],
   "source": [
    "# H\n",
    "#alpha = np.array([0.1219492,0.444529,1.962079,13.00773])\n",
    "\n",
    "# H- \n",
    "#alpha = 0.15*np.array([0.298073,1.242567,5.782948,38.474970])\n",
    "\n",
    "# He\n",
    "alpha = np.array([0.298073,1.242567,5.782948,38.474970])\n",
    "\n",
    "# Li+\n",
    "#alpha = 3*np.array([0.298073,1.242567,5.782948,38.474970])\n",
    "\n",
    "\n",
    "Z = 2\n",
    "l = 0\n",
    "\n",
    "S = Matriz_Overlap(alpha)\n",
    "C_new = np.ones((len(alpha),len(alpha))) # np.random.rand(4,4)\n",
    "C_Norm(C_new,S)\n",
    "\n",
    "H = H_Matriz(alpha,l,Z)\n",
    "Q = Q_Tensor(alpha)\n",
    "\n",
    "cont = 0"
   ]
  },
  {
   "cell_type": "code",
   "execution_count": 173,
   "metadata": {},
   "outputs": [
    {
     "name": "stdout",
     "output_type": "stream",
     "text": [
      "Iteracion Nro: 10\n",
      "-) Energia Total: 166.90761867510184\n",
      "-) Energia Ionizacion: [ 3.38805009  7.22448945 17.51472412 75.12632819]\n"
     ]
    }
   ],
   "source": [
    "C = C_new\n",
    "P = P_Matriz(C)\n",
    "# Armo el operador de Fock\n",
    "F = F_Matriz(H,G_Matriz(P,Q))\n",
    "#print F\n",
    "E, C_new = eigh(F,S,type=1)\n",
    "C_Norm(C_new,S)\n",
    "print \"Iteracion Nro:\", cont\n",
    "print \"-) Energia Total:\", Energy_Calc(E,H,P)\n",
    "print \"-) Energia Ionizacion:\", E\n",
    "cont += 1"
   ]
  },
  {
   "cell_type": "code",
   "execution_count": null,
   "metadata": {
    "collapsed": true
   },
   "outputs": [],
   "source": []
  }
 ],
 "metadata": {
  "kernelspec": {
   "display_name": "Python 2",
   "language": "python",
   "name": "python2"
  },
  "language_info": {
   "codemirror_mode": {
    "name": "ipython",
    "version": 2
   },
   "file_extension": ".py",
   "mimetype": "text/x-python",
   "name": "python",
   "nbconvert_exporter": "python",
   "pygments_lexer": "ipython2",
   "version": "2.7.12"
  }
 },
 "nbformat": 4,
 "nbformat_minor": 2
}
