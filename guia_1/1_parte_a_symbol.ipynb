{
 "cells": [
  {
   "cell_type": "code",
   "execution_count": 2,
   "metadata": {
    "collapsed": true
   },
   "outputs": [],
   "source": [
    "import numpy as np\n",
    "import sympy as sp\n",
    "from scipy import integrate\n",
    "import matplotlib.pyplot as plt\n",
    "import time as tm\n",
    "\n",
    "from sympy import oo\n",
    "from __future__ import division\n",
    "\n",
    "sp.init_printing()\n",
    "%matplotlib inline\n",
    "\n",
    "r = sp.Symbol('r', positive=True)\n",
    "k = sp.Symbol('k', positive=True)\n",
    "l = sp.Symbol('l', positive=True, integer=True)\n",
    "n = sp.Symbol('n', positive=True, integer=True)\n",
    "z = sp.Symbol('z', positive=True, integer=True)"
   ]
  },
  {
   "cell_type": "markdown",
   "metadata": {},
   "source": [
    "# Defino la funcion de onda radial"
   ]
  },
  {
   "cell_type": "code",
   "execution_count": 3,
   "metadata": {
    "collapsed": true
   },
   "outputs": [],
   "source": [
    "def R_hyp(n,l,z,r):\n",
    "    rho = 2 * r * z / n\n",
    "    rnum = (2 * z / n)**3 * sp.factorial(n + l)\n",
    "    rden = (sp.factorial(2*l+1))**2 * 2*n * sp.factorial(n-l-1)\n",
    "    rnorm = sp.sqrt(rnum/rden)\n",
    "    rfunc = (rho)**l * sp.exp(-rho/2) * sp.hyper((-n+l+1,), (2*l+2,), (rho))\n",
    "    R = rnorm * rfunc\n",
    "    return R"
   ]
  },
  {
   "cell_type": "markdown",
   "metadata": {},
   "source": [
    "# Defino los vectores para el plot"
   ]
  },
  {
   "cell_type": "code",
   "execution_count": 7,
   "metadata": {
    "collapsed": true
   },
   "outputs": [],
   "source": [
    "nlen = 500\n",
    "xmax = 10.0\n",
    "xmin = 0.0\n",
    "x = np.linspace(xmin,xmax,nlen)\n",
    "psi_1 = np.zeros(nlen)\n",
    "psi_2 = np.zeros(nlen)"
   ]
  },
  {
   "cell_type": "markdown",
   "metadata": {},
   "source": [
    "# Evaluo para n = 1, l = 0, Z = 4"
   ]
  },
  {
   "cell_type": "code",
   "execution_count": 8,
   "metadata": {},
   "outputs": [],
   "source": [
    "for i in range(nlen):\n",
    "    psi_1[i] = R_hyp(1,0,4,x[i])"
   ]
  },
  {
   "cell_type": "markdown",
   "metadata": {},
   "source": [
    "# Plot para n = 1, l = 0, Z = 4"
   ]
  },
  {
   "cell_type": "code",
   "execution_count": 9,
   "metadata": {},
   "outputs": [
    {
     "data": {
      "image/png": "[encoded data removed]",
      "text/plain": [
       "<matplotlib.figure.Figure at 0x7f2dee2ba4d0>"
      ]
     },
     "metadata": {},
     "output_type": "display_data"
    }
   ],
   "source": [
    "plt.plot(x, x*psi_1,'r')\n",
    "plt.title(\"Radial Wavefunction $\\psi_{1s}$ of Hydrogen\")\n",
    "plt.xlabel(\"r (a.u.)\")\n",
    "plt.ylabel(\"$\\psi_{1s}$\")\n",
    "plt.show()"
   ]
  },
  {
   "cell_type": "markdown",
   "metadata": {},
   "source": [
    "# Evaluo para n = 2, l = 1, Z = 4"
   ]
  },
  {
   "cell_type": "code",
   "execution_count": 10,
   "metadata": {
    "collapsed": true
   },
   "outputs": [],
   "source": [
    "for i in range(nlen):\n",
    "    psi_2[i] = R_hyp(2,1,4,x[i])"
   ]
  },
  {
   "cell_type": "markdown",
   "metadata": {},
   "source": [
    "# Plot para n = 2, l = 1, Z = 4"
   ]
  },
  {
   "cell_type": "code",
   "execution_count": 11,
   "metadata": {},
   "outputs": [
    {
     "data": {
      "image/png": "[encoded data removed]",
      "text/plain": [
       "<matplotlib.figure.Figure at 0x7f2dedf2f810>"
      ]
     },
     "metadata": {},
     "output_type": "display_data"
    }
   ],
   "source": [
    "plt.plot(x, x*psi_2,'r')\n",
    "plt.title(\"Radial Wavefunction $\\psi_{3f}$ of Hydrogen\")\n",
    "plt.xlabel(\"r (a.u.)\")\n",
    "plt.ylabel(\"$\\psi_{3f}$\")\n",
    "plt.show()"
   ]
  },
  {
   "cell_type": "markdown",
   "metadata": {},
   "source": [
    "# Chequeo ortonormalidad"
   ]
  },
  {
   "cell_type": "code",
   "execution_count": 19,
   "metadata": {},
   "outputs": [
    {
     "data": {
      "image/png": "[encoded data removed]",
      "text/latex": [
       "$$0.483849825734949$$"
      ],
      "text/plain": [
       "0.483849825734949"
      ]
     },
     "execution_count": 19,
     "metadata": {},
     "output_type": "execute_result"
    }
   ],
   "source": [
    "sp.integrate( (r**2*R_hyp(2,1,4,r)*R_hyp(1,0,4,r)), (r,0,oo)).evalf()"
   ]
  },
  {
   "cell_type": "markdown",
   "metadata": {},
   "source": [
    "- La parte radial no es ortogonal porque estoy en distintos niveles de energia"
   ]
  },
  {
   "cell_type": "code",
   "execution_count": 16,
   "metadata": {},
   "outputs": [
    {
     "data": {
      "image/png": "[encoded data removed]",
      "text/latex": [
       "$$1.0$$"
      ],
      "text/plain": [
       "1.00000000000000"
      ]
     },
     "execution_count": 16,
     "metadata": {},
     "output_type": "execute_result"
    }
   ],
   "source": [
    "sp.integrate((r**2*R_hyp(2,1,4,r)**2), (r,0,oo)).evalf()"
   ]
  },
  {
   "cell_type": "code",
   "execution_count": 17,
   "metadata": {},
   "outputs": [
    {
     "data": {
      "image/png": "[encoded data removed]",
      "text/latex": [
       "$$1.0$$"
      ],
      "text/plain": [
       "1.00000000000000"
      ]
     },
     "execution_count": 17,
     "metadata": {},
     "output_type": "execute_result"
    }
   ],
   "source": [
    "sp.integrate((r**2*R_hyp(1,0,4,r)**2), (r,0,oo)).evalf()"
   ]
  },
  {
   "cell_type": "markdown",
   "metadata": {},
   "source": [
    "- Las funciones estan normalizadas"
   ]
  },
  {
   "cell_type": "markdown",
   "metadata": {},
   "source": [
    "# Calculo valores medios de r^k"
   ]
  },
  {
   "cell_type": "code",
   "execution_count": null,
   "metadata": {
    "collapsed": true
   },
   "outputs": [],
   "source": []
  }
 ],
 "metadata": {
  "kernelspec": {
   "display_name": "Python 2",
   "language": "python",
   "name": "python2"
  },
  "language_info": {
   "codemirror_mode": {
    "name": "ipython",
    "version": 2
   },
   "file_extension": ".py",
   "mimetype": "text/x-python",
   "name": "python",
   "nbconvert_exporter": "python",
   "pygments_lexer": "ipython2",
   "version": "2.7.12"
  }
 },
 "nbformat": 4,
 "nbformat_minor": 2
}
