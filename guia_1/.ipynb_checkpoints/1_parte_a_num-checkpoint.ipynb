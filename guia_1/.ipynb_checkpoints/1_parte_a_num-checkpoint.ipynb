{
 "cells": [
  {
   "cell_type": "code",
   "execution_count": 1,
   "metadata": {
    "collapsed": true
   },
   "outputs": [],
   "source": [
    "import numpy as np\n",
    "from scipy.special import hyp1f1\n",
    "from scipy import integrate\n",
    "from scipy.sparse import spdiags\n",
    "from scipy.sparse.linalg import eigs\n",
    "from numpy.linalg import eigh\n",
    "import matplotlib.pyplot as plt\n",
    "import time as tm\n",
    "from math import factorial\n",
    "\n",
    "from __future__ import division\n",
    "\n",
    "%matplotlib inline"
   ]
  },
  {
   "cell_type": "markdown",
   "metadata": {},
   "source": [
    "# Defino la funcion de onda radial"
   ]
  },
  {
   "cell_type": "code",
   "execution_count": 2,
   "metadata": {
    "collapsed": true
   },
   "outputs": [],
   "source": [
    "def R1F1(n,l,z,r):\n",
    "    rho = 2 * r * z / n\n",
    "    rnum = (2 * z / n)**3 * factorial(n + l)\n",
    "    rden = (factorial(2*l+1))**2 * 2*n * factorial(n-l-1)\n",
    "    rnorm = np.sqrt(rnum/rden)\n",
    "    rfunc = (rho)**l * np.exp(-rho/2) * hyp1f1(-n+l+1, 2*l+2, rho)\n",
    "    R = rnorm * rfunc\n",
    "    return R"
   ]
  },
  {
   "cell_type": "markdown",
   "metadata": {},
   "source": [
    "# Defino los vectores para el plot"
   ]
  },
  {
   "cell_type": "code",
   "execution_count": 4,
   "metadata": {
    "collapsed": true
   },
   "outputs": [],
   "source": [
    "nlen = 500\n",
    "rmax = 10.0\n",
    "rmin = 0.0\n",
    "r = np.linspace(rmin,rmax,nlen)"
   ]
  },
  {
   "cell_type": "markdown",
   "metadata": {},
   "source": [
    "# Plot para n = 1, l = 0, Z = 4"
   ]
  },
  {
   "cell_type": "code",
   "execution_count": 5,
   "metadata": {},
   "outputs": [
    {
     "data": {
      "image/png": "[encoded data removed]",
      "text/plain": [
       "<matplotlib.figure.Figure at 0x7f4e112c6c10>"
      ]
     },
     "metadata": {},
     "output_type": "display_data"
    }
   ],
   "source": [
    "psi_1 = R1F1(1,0,4,r)\n",
    "plt.plot(r, r*psi_1,'r')\n",
    "plt.title(\"Radial Wavefunction $\\psi_{1s}$ of Hydrogen\")\n",
    "plt.xlabel(\"r (a.u.)\")\n",
    "plt.ylabel(\"$\\psi_{1s}$\")\n",
    "plt.show()"
   ]
  },
  {
   "cell_type": "markdown",
   "metadata": {},
   "source": [
    "# Plot para n = 2, l = 1, Z = 4"
   ]
  },
  {
   "cell_type": "code",
   "execution_count": 6,
   "metadata": {},
   "outputs": [
    {
     "data": {
      "image/png": "[encoded data removed]",
      "text/plain": [
       "<matplotlib.figure.Figure at 0x7f4e0f221a10>"
      ]
     },
     "metadata": {},
     "output_type": "display_data"
    }
   ],
   "source": [
    "psi_2 = R1F1(2,1,4,r)\n",
    "plt.plot(r, r*psi_2,'r')\n",
    "plt.title(\"Radial Wavefunction $\\psi_{3f}$ of Hydrogen\")\n",
    "plt.xlabel(\"r (a.u.)\")\n",
    "plt.ylabel(\"$\\psi_{3f}$\")\n",
    "plt.show()"
   ]
  },
  {
   "cell_type": "markdown",
   "metadata": {},
   "source": [
    "# Chequeo ortonormalidad"
   ]
  },
  {
   "cell_type": "code",
   "execution_count": 7,
   "metadata": {},
   "outputs": [
    {
     "data": {
      "text/plain": [
       "(0.48384982573494933, 1.3072126370537772e-08)"
      ]
     },
     "execution_count": 7,
     "metadata": {},
     "output_type": "execute_result"
    }
   ],
   "source": [
    "integrate.quad(lambda r:(r**2*R1F1(2,1,4,r)*R1F1(1,0,4,r)), 0, float('inf'))"
   ]
  },
  {
   "cell_type": "markdown",
   "metadata": {},
   "source": [
    "- La parte radial no es ortogonal porque estoy en distintos niveles de energia"
   ]
  },
  {
   "cell_type": "code",
   "execution_count": 8,
   "metadata": {},
   "outputs": [
    {
     "data": {
      "text/plain": [
       "(0.9999999999999999, 1.3877796942138986e-08)"
      ]
     },
     "execution_count": 8,
     "metadata": {},
     "output_type": "execute_result"
    }
   ],
   "source": [
    "integrate.quad(lambda r:(r**2*R1F1(2,1,4,r)**2), 0, float('inf'))"
   ]
  },
  {
   "cell_type": "code",
   "execution_count": 9,
   "metadata": {},
   "outputs": [
    {
     "data": {
      "text/plain": [
       "(1.0, 1.2956640677365438e-08)"
      ]
     },
     "execution_count": 9,
     "metadata": {},
     "output_type": "execute_result"
    }
   ],
   "source": [
    "integrate.quad(lambda r:(r**2*R1F1(1,0,4,r)**2), 0, float('inf'))"
   ]
  },
  {
   "cell_type": "markdown",
   "metadata": {},
   "source": [
    "- Las funciones estan normalizadas"
   ]
  },
  {
   "cell_type": "markdown",
   "metadata": {},
   "source": [
    "# Calculo valores medios de r^k"
   ]
  },
  {
   "cell_type": "code",
   "execution_count": 10,
   "metadata": {},
   "outputs": [
    {
     "name": "stdout",
     "output_type": "stream",
     "text": [
      "Termino 1: (n = 2, l = 1, Z = 4)\n",
      "< r^(-3) > = 2.6667; error = 2.45e-11\n",
      "< r^(-2) > = 1.3333; error = 1.26e-09\n",
      "< r^(-1) > = 1.0000; error = 5.38e-10\n",
      "< r^(1) > = 1.2500; error = 1.52e-08\n",
      "< r^(2) > = 1.8750; error = 8.38e-10\n",
      "< r^(3) > = 3.2812; error = 5.31e-09\n",
      "Termino 2: (n = 1, l = 0, Z = 4)\n",
      "< r^(-3) > = 8988.6307; error = 1.60e+03\n",
      "< r^(-2) > = 32.0000; error = 9.02e-10\n",
      "< r^(-1) > = 4.0000; error = 1.76e-09\n",
      "< r^(1) > = 0.3750; error = 8.38e-09\n",
      "< r^(2) > = 0.1875; error = 3.69e-09\n",
      "< r^(3) > = 0.1172; error = 8.27e-10\n"
     ]
    },
    {
     "name": "stderr",
     "output_type": "stream",
     "text": [
      "/home/fakux/.local/lib/python2.7/site-packages/scipy/integrate/quadpack.py:364: IntegrationWarning: Extremely bad integrand behavior occurs at some points of the\n",
      "  integration interval.\n",
      "  warnings.warn(msg, IntegrationWarning)\n"
     ]
    }
   ],
   "source": [
    "rMean_1 = []\n",
    "rMean_2 = []\n",
    "exponents_list = [exp for exp in range(-3,4) if exp is not 0]\n",
    "\n",
    "for i in exponents_list:\n",
    "    rMean_1.append(integrate.quad(lambda r:(r**(2+i)*R1F1(2,1,4,r)**2), 0, float('inf')))\n",
    "    rMean_2.append(integrate.quad(lambda r:(r**(2+i)*R1F1(1,0,4,r)**2), 0, float('inf')))\n",
    "\n",
    "print \"Termino 1: (n = 2, l = 1, Z = 4)\"\n",
    "for i,exp in enumerate(exponents_list):\n",
    "    print \"< r^({:d}) > = {:.4f}; error = {:.2e}\".format(exp,rMean_1[i][0],rMean_1[i][1])\n",
    "\n",
    "print \"Termino 2: (n = 1, l = 0, Z = 4)\"\n",
    "for i,exp in enumerate(exponents_list):\n",
    "    print \"< r^({:d}) > = {:.4f}; error = {:.2e}\".format(exp,rMean_2[i][0],rMean_2[i][1])"
   ]
  },
  {
   "cell_type": "markdown",
   "metadata": {},
   "source": [
    "- Se puede ver que para el termino con l = 0, el valor r^-3 explota. Esto es asi porque el l = 0 neutraliza el termino de rho^l ~ r^l de la R_{nl}"
   ]
  },
  {
   "cell_type": "markdown",
   "metadata": {},
   "source": [
    "# Kato"
   ]
  },
  {
   "cell_type": "code",
   "execution_count": 3,
   "metadata": {
    "collapsed": true
   },
   "outputs": [],
   "source": [
    "from scipy.misc import derivative"
   ]
  },
  {
   "cell_type": "markdown",
   "metadata": {},
   "source": [
    "# Para el termino con l = 0"
   ]
  },
  {
   "cell_type": "code",
   "execution_count": 12,
   "metadata": {},
   "outputs": [
    {
     "data": {
      "text/plain": [
       "-4.000000330961484"
      ]
     },
     "execution_count": 12,
     "metadata": {},
     "output_type": "execute_result"
    }
   ],
   "source": [
    "derivative(lambda r: R1F1(1,0,4,r), 0, dx = 1e-10) / R1F1(1,0,4,0)"
   ]
  },
  {
   "cell_type": "markdown",
   "metadata": {},
   "source": [
    "# Para el termino con l = 1"
   ]
  },
  {
   "cell_type": "code",
   "execution_count": 13,
   "metadata": {},
   "outputs": [
    {
     "name": "stdout",
     "output_type": "stream",
     "text": [
      "inf\n"
     ]
    },
    {
     "name": "stderr",
     "output_type": "stream",
     "text": [
      "/home/fakux/.local/lib/python2.7/site-packages/ipykernel_launcher.py:1: RuntimeWarning: divide by zero encountered in double_scalars\n",
      "  \"\"\"Entry point for launching an IPython kernel.\n"
     ]
    }
   ],
   "source": [
    "print derivative(lambda r: R1F1(2,1,4,r), 0, dx = 1e-10) / R1F1(2,1,4,0)"
   ]
  },
  {
   "cell_type": "markdown",
   "metadata": {},
   "source": [
    "- La funcion con l = 1 se anula en el origen"
   ]
  },
  {
   "cell_type": "markdown",
   "metadata": {},
   "source": [
    "# Openheimmer"
   ]
  },
  {
   "cell_type": "code",
   "execution_count": 14,
   "metadata": {
    "collapsed": true
   },
   "outputs": [],
   "source": [
    "from scipy.special import sph_harm as Yml"
   ]
  },
  {
   "cell_type": "code",
   "execution_count": 15,
   "metadata": {
    "scrolled": false
   },
   "outputs": [
    {
     "data": {
      "image/png": "[encoded data removed]",
      "text/plain": [
       "<matplotlib.figure.Figure at 0x7f4e115c2c10>"
      ]
     },
     "metadata": {},
     "output_type": "display_data"
    }
   ],
   "source": [
    "ns = np.arange(1,21)\n",
    "y = np.zeros(len(ns))\n",
    "Z = 4\n",
    "\n",
    "for i,n in enumerate(ns):\n",
    "    y[i] = np.abs(R1F1(n,0,Z,0)*Yml(0,0,0,0))**2\n",
    "\n",
    "plt.plot(ns,y,'ro',mec='k',label = 'Calculado')\n",
    "plt.plot(ns,(Z/ns)**3/np.pi,'b',label = 'Teorico')\n",
    "plt.legend(loc = 'best')\n",
    "plt.show()"
   ]
  },
  {
   "cell_type": "markdown",
   "metadata": {},
   "source": [
    "- Obtuve lo esperado por Openheimmer"
   ]
  },
  {
   "cell_type": "markdown",
   "metadata": {},
   "source": [
    "# Virial"
   ]
  },
  {
   "cell_type": "code",
   "execution_count": 16,
   "metadata": {
    "collapsed": true
   },
   "outputs": [],
   "source": [
    "ur = lambda r: R1F1(1,0,Z,r)*r\n",
    "Tfunc = lambda r: -0.5*derivative(ur, r, dx=1e-5, n=2)*ur(r)\n",
    "Vfunc = lambda r: -Z/r*ur(r)**2"
   ]
  },
  {
   "cell_type": "code",
   "execution_count": 17,
   "metadata": {},
   "outputs": [
    {
     "name": "stdout",
     "output_type": "stream",
     "text": [
      "Energia = -7.99999997699\n",
      "<V>/<T> = -1.99999999425\n"
     ]
    }
   ],
   "source": [
    "T = integrate.quad(Tfunc,0,np.inf)\n",
    "V = integrate.quad(Vfunc,0,np.inf)\n",
    "E_1 = T[0]+V[0]\n",
    "print \"Energia =\",T[0]+V[0]\n",
    "print \"<V>/<T> =\",V[0]/T[0]"
   ]
  },
  {
   "cell_type": "code",
   "execution_count": 18,
   "metadata": {
    "collapsed": true
   },
   "outputs": [],
   "source": [
    "l = 1\n",
    "ur = lambda r: R1F1(2,l,Z,r)*r\n",
    "Tfunc = lambda r: (-0.5*derivative(ur, r, dx=1e-5, n=2))*ur(r)+l*(l+1)/(2*r**2)*ur(r)**2\n",
    "Vfunc = lambda r: (-Z/r)*ur(r)**2"
   ]
  },
  {
   "cell_type": "code",
   "execution_count": 19,
   "metadata": {},
   "outputs": [
    {
     "name": "stdout",
     "output_type": "stream",
     "text": [
      "Energia = -1.99999971016\n",
      "<V>/<T> = -1.99999971016\n"
     ]
    },
    {
     "name": "stderr",
     "output_type": "stream",
     "text": [
      "/home/fakux/.local/lib/python2.7/site-packages/scipy/integrate/quadpack.py:364: IntegrationWarning: The occurrence of roundoff error is detected, which prevents \n",
      "  the requested tolerance from being achieved.  The error may be \n",
      "  underestimated.\n",
      "  warnings.warn(msg, IntegrationWarning)\n"
     ]
    }
   ],
   "source": [
    "T = integrate.quad(Tfunc,0,np.inf)\n",
    "V = integrate.quad(Vfunc,0,np.inf)\n",
    "E_2 = T[0]+V[0]\n",
    "print \"Energia =\",T[0]+V[0]\n",
    "print \"<V>/<T> =\",V[0]/T[0]"
   ]
  },
  {
   "cell_type": "markdown",
   "metadata": {},
   "source": [
    "# Correcciones de estructura fina"
   ]
  },
  {
   "cell_type": "code",
   "execution_count": null,
   "metadata": {
    "collapsed": true
   },
   "outputs": [],
   "source": []
  },
  {
   "cell_type": "markdown",
   "metadata": {},
   "source": [
    "# Soluciones Numericas\n",
    "### Diferencias finitas"
   ]
  },
  {
   "cell_type": "code",
   "execution_count": 4,
   "metadata": {
    "collapsed": true
   },
   "outputs": [],
   "source": [
    "# usando matrices sparse\n",
    "def H_matriz_sp(ri,rf,N,Z,l):\n",
    "    r = np.linspace(ri,rf,N)\n",
    "    h = (rf-ri)/float(N)\n",
    "    \n",
    "    diag_der2 = np.ones((3,N))\n",
    "    diag_der2[:,1] = -2 * diag_der2[:,1]\n",
    "    diag_der2 = diag_der2/(-2*h**2)\n",
    "    diag_cent = l*(l+1)/r**2\n",
    "    T_matriz = spdiags(diag_der2,np.array([-1,0,1]),N,N) + spdiags(diag_cent,0,N,N)\n",
    "    \n",
    "    diag_V = -Z/r\n",
    "    V_matriz = spdiags(diag_V,0,N,N)\n",
    "    \n",
    "    return T_matriz+V_matriz, r"
   ]
  },
  {
   "cell_type": "code",
   "execution_count": 26,
   "metadata": {},
   "outputs": [],
   "source": [
    "# usando numpy\n",
    "def H_matriz(ri,rf,N,Z,l):\n",
    "    r = np.linspace(ri,rf,N)\n",
    "    h = (rf-ri)/float(N)\n",
    "    \n",
    "    offDiag_der2 = np.ones(len(r)-1)\n",
    "    diag_cent = l*(l+1)/(2*r**2)\n",
    "    T_matriz = (np.diag(offDiag_der2,-1) - 2*np.eye(N,dtype=float) + np.diag(offDiag_der2,1))/(-2*h**2) \\\n",
    "                + np.diag(diag_cent)\n",
    "    \n",
    "    diag_V = -Z/r\n",
    "    V_matriz = np.diag(diag_V)\n",
    "    \n",
    "    return T_matriz+V_matriz, r"
   ]
  },
  {
   "cell_type": "markdown",
   "metadata": {},
   "source": [
    "### Solucion para el 1s (n = 1, l = 0, Z = 4)\n"
   ]
  },
  {
   "cell_type": "code",
   "execution_count": 35,
   "metadata": {
    "collapsed": true
   },
   "outputs": [],
   "source": [
    "Z = 4\n",
    "rmin = 0.001\n",
    "rmax = 3.2\n",
    "npuntos = 3000\n",
    "l = 0\n",
    "H, r = H_matriz(rmin,rmax,npuntos,Z,l)"
   ]
  },
  {
   "cell_type": "code",
   "execution_count": 36,
   "metadata": {},
   "outputs": [
    {
     "data": {
      "text/plain": [
       "array([-8.00315295, -1.96523371])"
      ]
     },
     "execution_count": 36,
     "metadata": {},
     "output_type": "execute_result"
    }
   ],
   "source": [
    "# E son las energias, v las respectivas funciones de onda \n",
    "# sin normalizar como columnas de una matriz v de autovectores\n",
    "E, v = eigh(H)\n",
    "E[np.where(E<0)]"
   ]
  },
  {
   "cell_type": "code",
   "execution_count": 37,
   "metadata": {},
   "outputs": [
    {
     "data": {
      "text/plain": [
       "<matplotlib.legend.Legend at 0x7fb76233e410>"
      ]
     },
     "execution_count": 37,
     "metadata": {},
     "output_type": "execute_result"
    },
    {
     "data": {
      "image/png": "[encoded data removed]",
      "text/plain": [
       "<matplotlib.figure.Figure at 0x7fb766b89750>"
      ]
     },
     "metadata": {},
     "output_type": "display_data"
    }
   ],
   "source": [
    "j = 0 # indice que maneja la el autovector a usar\n",
    "n = 1 # numero cuantico ppal\n",
    "sgn = -1 # manejo el signo porque a veces dan al reves las cosas\n",
    "\n",
    "# normalizo las funciones de onda al intervalo que uso\n",
    "w1s_teo = r*R1F1(n,l,4,r)/np.sqrt(np.trapz((r*R1F1(n,l,4,r))**2,r))\n",
    "w1s_calc = v[:,j]/np.sqrt(np.trapz(v[:,j]**2,r))*sgn\n",
    "# plotteo\n",
    "plt.plot(r,w1s_teo,'r',label = '$E_{teo}$'+' = {:.3f}'.format(-Z**2/(2*n**2)))\n",
    "plt.plot(r,w1s_calc,'b',label = '$E_{calc}$'+' = {:.3f}'.format(E[j]))\n",
    "plt.title(\"Funcion de onda reducida $u_{1s}$\")\n",
    "plt.legend(loc='best')"
   ]
  },
  {
   "cell_type": "markdown",
   "metadata": {},
   "source": [
    "### Solucion para el 2p (n = 2, l = 1, Z = 4)\n"
   ]
  },
  {
   "cell_type": "code",
   "execution_count": 38,
   "metadata": {},
   "outputs": [],
   "source": [
    "Z = 4\n",
    "rmin = 0.001\n",
    "rmax = 6\n",
    "npuntos = 3000\n",
    "l = 1\n",
    "H, r = H_matriz(rmin,rmax,npuntos,Z,l)"
   ]
  },
  {
   "cell_type": "code",
   "execution_count": 39,
   "metadata": {},
   "outputs": [
    {
     "data": {
      "text/plain": [
       "array([-1.99955468, -0.87345039, -0.21225942])"
      ]
     },
     "execution_count": 39,
     "metadata": {},
     "output_type": "execute_result"
    }
   ],
   "source": [
    "# E son las energias, v las respectivas funciones de onda \n",
    "# sin normalizar como columnas de una matriz v de autovectores\n",
    "E, v = eigh(H)\n",
    "E[np.where(E<0)]"
   ]
  },
  {
   "cell_type": "code",
   "execution_count": 40,
   "metadata": {},
   "outputs": [
    {
     "data": {
      "text/plain": [
       "<matplotlib.legend.Legend at 0x7fb7622cf610>"
      ]
     },
     "execution_count": 40,
     "metadata": {},
     "output_type": "execute_result"
    },
    {
     "data": {
      "image/png": "[encoded data removed]",
      "text/plain": [
       "<matplotlib.figure.Figure at 0x7fb762346950>"
      ]
     },
     "metadata": {},
     "output_type": "display_data"
    }
   ],
   "source": [
    "j = 0 # indice que maneja la el autovector a usar\n",
    "n = 2 # numero cuantico ppal\n",
    "sgn = -1 # manejo el signo porque a veces dan al reves las cosas\n",
    "\n",
    "# normalizo las funciones de onda al intervalo que uso\n",
    "w1s_teo = r*R1F1(n,l,Z,r)/np.sqrt(np.trapz((r*R1F1(n,l,Z,r))**2,r))\n",
    "w1s_calc = v[:,j]/np.sqrt(np.trapz(v[:,j]**2,r))*sgn\n",
    "# plotteo\n",
    "plt.plot(r,w1s_teo,'r',label = '$E_{teo}$'+' = {:.3f}'.format(-Z**2/(2*n**2)))\n",
    "plt.plot(r,w1s_calc,'b',label = '$E_{calc}$'+' = {:.3f}'.format(E[j]))\n",
    "plt.title(\"Funcion de onda reducida $u_{2p}$\")\n",
    "plt.legend(loc='best')"
   ]
  },
  {
   "cell_type": "markdown",
   "metadata": {
    "collapsed": true
   },
   "source": [
    "# Funcion de onda en otras bases"
   ]
  },
  {
   "cell_type": "markdown",
   "metadata": {},
   "source": [
    "#### Slater con coeficientes analiticos"
   ]
  },
  {
   "cell_type": "code",
   "execution_count": 41,
   "metadata": {
    "collapsed": true
   },
   "outputs": [],
   "source": [
    "def Slater_base(N,ksi,r):\n",
    "    return (2*ksi)**(N+0.5)*r**(N-1)*np.exp(-ksi*r)/np.sqrt(factorial(2*N))\n",
    "\n",
    "def Slater_coeff(n,M,l):\n",
    "    anum = (-1)**(M-1-l)*np.sqrt(factorial(n-l-1)*(factorial(n+l))*factorial(2*M))\n",
    "    aden = np.sqrt(2*n)*factorial(M-l-1)*factorial(n-M)*factorial(M+l)\n",
    "    return anum/aden\n",
    "\n",
    "def Rnl_Slater(n,l,Z,r):\n",
    "    R = 0\n",
    "    for M in range(l+1,n+1):\n",
    "        R = R + Slater_coeff(n,M,l)*Slater_base(M,Z/n,r)\n",
    "    return R\n",
    "    "
   ]
  },
  {
   "cell_type": "code",
   "execution_count": 42,
   "metadata": {},
   "outputs": [
    {
     "data": {
      "text/plain": [
       "<matplotlib.legend.Legend at 0x7fb7667c2090>"
      ]
     },
     "execution_count": 42,
     "metadata": {},
     "output_type": "execute_result"
    },
    {
     "data": {
      "image/png": "[encoded data removed]",
      "text/plain": [
       "<matplotlib.figure.Figure at 0x7fb766b89950>"
      ]
     },
     "metadata": {},
     "output_type": "display_data"
    }
   ],
   "source": [
    "r = np.linspace(0,5,1000)\n",
    "plt.plot(r, r*R1F1(1,0,4,r), 'b', label=\"1F1\")\n",
    "plt.plot(r, r*Rnl_Slater(1,0,4,r), 'r--', label='Slater')\n",
    "plt.legend(loc='best')"
   ]
  },
  {
   "cell_type": "markdown",
   "metadata": {},
   "source": [
    "# Expansion en Slaters"
   ]
  },
  {
   "cell_type": "code",
   "execution_count": 44,
   "metadata": {
    "collapsed": true
   },
   "outputs": [],
   "source": [
    "def Sij(i,j,alpha):\n",
    "    return integrate.quad(lambda r: Slater_base(i+1,alpha,r)*Slater_base(j+1,alpha,r),0,np.inf)[0]\n",
    "\n",
    "def Overlap_Slater(N_Slat,alpha):\n",
    "    M_overlap = np.zeros((N_Slat,N_Slat))\n",
    "    for i in range(N_Slat):\n",
    "        for j in range(i,N_Slat):\n",
    "            S = Sij(i,j,alpha)\n",
    "            M_overlap[i,j] = S\n",
    "            M_overlap[j,i] = S            \n",
    "    return M_overlap"
   ]
  },
  {
   "cell_type": "code",
   "execution_count": 73,
   "metadata": {},
   "outputs": [],
   "source": [
    "n = 10\n",
    "l = 5\n",
    "Z = 4\n",
    "\n",
    "N_Slat = 10\n",
    "# Overlap\n",
    "S = Overlap_Slater(N_Slat, Z/n)\n",
    "\n",
    "B = np.zeros(N_Slat)\n",
    "\n",
    "for i in range(N_Slat):\n",
    "    B[i] = integrate.quad(lambda r: R1F1(n,l,Z,r)*Slater_base(i+1,Z/n,r),0,np.inf)[0]"
   ]
  },
  {
   "cell_type": "code",
   "execution_count": 74,
   "metadata": {},
   "outputs": [
    {
     "data": {
      "text/plain": [
       "array([ 2.97941340e-07, -8.44669825e-06,  8.52834914e-05, -4.61171104e-04,\n",
       "        1.53285023e-03,  2.86148706e+01, -1.28688767e+02,  2.30039291e+02,\n",
       "       -1.91622466e+02,  6.22570340e+01])"
      ]
     },
     "execution_count": 74,
     "metadata": {},
     "output_type": "execute_result"
    }
   ],
   "source": [
    "Ci = np.linalg.solve(S,B)\n",
    "Ci"
   ]
  },
  {
   "cell_type": "code",
   "execution_count": 75,
   "metadata": {
    "collapsed": true
   },
   "outputs": [],
   "source": [
    "r = np.linspace(0,70,5000)\n",
    "wave = 0\n",
    "for i in range(N_Slat):\n",
    "    wave = wave + Ci[i]*Slater_base(i+1,Z/n,r)"
   ]
  },
  {
   "cell_type": "code",
   "execution_count": 76,
   "metadata": {},
   "outputs": [
    {
     "data": {
      "image/png": "[encoded data removed]",
      "text/plain": [
       "<matplotlib.figure.Figure at 0x7fb7667cbc10>"
      ]
     },
     "metadata": {},
     "output_type": "display_data"
    }
   ],
   "source": [
    "plt.plot(r,r*wave,'b-.',label = 'Expansion Slater')\n",
    "plt.plot(r,r*R1F1(n,l,Z,r), 'r--' ,label = 'Teorica')\n",
    "plt.legend(loc='best')\n",
    "plt.show()"
   ]
  },
  {
   "cell_type": "code",
   "execution_count": null,
   "metadata": {
    "collapsed": true
   },
   "outputs": [],
   "source": []
  }
 ],
 "metadata": {
  "kernelspec": {
   "display_name": "Python 2",
   "language": "python",
   "name": "python2"
  },
  "language_info": {
   "codemirror_mode": {
    "name": "ipython",
    "version": 2
   },
   "file_extension": ".py",
   "mimetype": "text/x-python",
   "name": "python",
   "nbconvert_exporter": "python",
   "pygments_lexer": "ipython2",
   "version": "2.7.12"
  }
 },
 "nbformat": 4,
 "nbformat_minor": 2
}
