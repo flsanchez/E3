{
 "cells": [
  {
   "cell_type": "code",
   "execution_count": 1,
   "metadata": {
    "collapsed": true
   },
   "outputs": [],
   "source": [
    "import numpy as np\n",
    "from scipy.special import hyp1f1\n",
    "from scipy import integrate\n",
    "import matplotlib.pyplot as plt\n",
    "import time as tm\n",
    "from math import factorial\n",
    "\n",
    "from __future__ import division\n",
    "\n",
    "%matplotlib inline"
   ]
  },
  {
   "cell_type": "markdown",
   "metadata": {},
   "source": [
    "# Defino la funcion de onda radial"
   ]
  },
  {
   "cell_type": "code",
   "execution_count": 2,
   "metadata": {
    "collapsed": true
   },
   "outputs": [],
   "source": [
    "def R1F1(n,l,z,r):\n",
    "    rho = 2 * r * z / n\n",
    "    rnum = (2 * z / n)**3 * factorial(n + l)\n",
    "    rden = (factorial(2*l+1))**2 * 2*n * factorial(n-l-1)\n",
    "    rnorm = np.sqrt(rnum/rden)\n",
    "    rfunc = (rho)**l * np.exp(-rho/2) * hyp1f1(-n+l+1, 2*l+2, rho)\n",
    "    R = rnorm * rfunc\n",
    "    return R"
   ]
  },
  {
   "cell_type": "markdown",
   "metadata": {},
   "source": [
    "# Defino los vectores para el plot"
   ]
  },
  {
   "cell_type": "code",
   "execution_count": 3,
   "metadata": {
    "collapsed": true
   },
   "outputs": [],
   "source": [
    "nlen = 500\n",
    "rmax = 10.0\n",
    "rmin = 0.0\n",
    "r = np.linspace(rmin,rmax,nlen)"
   ]
  },
  {
   "cell_type": "markdown",
   "metadata": {},
   "source": [
    "# Plot para n = 1, l = 0, Z = 4"
   ]
  },
  {
   "cell_type": "code",
   "execution_count": 4,
   "metadata": {},
   "outputs": [
    {
     "data": {
      "image/png": "[encoded data removed]",
      "text/plain": [
       "<matplotlib.figure.Figure at 0x7f82e9c74bd0>"
      ]
     },
     "metadata": {},
     "output_type": "display_data"
    }
   ],
   "source": [
    "psi_1 = R1F1(1,0,4,r)\n",
    "plt.plot(r, r*psi_1,'r')\n",
    "plt.title(\"Radial Wavefunction $\\psi_{1s}$ of Hydrogen\")\n",
    "plt.xlabel(\"r (a.u.)\")\n",
    "plt.ylabel(\"$\\psi_{1s}$\")\n",
    "plt.show()"
   ]
  },
  {
   "cell_type": "markdown",
   "metadata": {},
   "source": [
    "# Plot para n = 2, l = 1, Z = 4"
   ]
  },
  {
   "cell_type": "code",
   "execution_count": 5,
   "metadata": {},
   "outputs": [
    {
     "data": {
      "image/png": "[encoded data removed]",
      "text/plain": [
       "<matplotlib.figure.Figure at 0x7f8311f34690>"
      ]
     },
     "metadata": {},
     "output_type": "display_data"
    }
   ],
   "source": [
    "psi_2 = R1F1(2,1,4,r)\n",
    "plt.plot(r, r*psi_2,'r')\n",
    "plt.title(\"Radial Wavefunction $\\psi_{3f}$ of Hydrogen\")\n",
    "plt.xlabel(\"r (a.u.)\")\n",
    "plt.ylabel(\"$\\psi_{3f}$\")\n",
    "plt.show()"
   ]
  },
  {
   "cell_type": "markdown",
   "metadata": {},
   "source": [
    "# Chequeo ortonormalidad"
   ]
  },
  {
   "cell_type": "code",
   "execution_count": 18,
   "metadata": {},
   "outputs": [
    {
     "data": {
      "text/plain": [
       "(0.48384982573494933, 1.3072126370537772e-08)"
      ]
     },
     "execution_count": 18,
     "metadata": {},
     "output_type": "execute_result"
    }
   ],
   "source": [
    "integrate.quad(lambda r:(r**2*R1F1(2,1,4,r)*R1F1(1,0,4,r)), 0, float('inf'))"
   ]
  },
  {
   "cell_type": "markdown",
   "metadata": {},
   "source": [
    "- La parte radial no es ortogonal porque estoy en distintos niveles de energia"
   ]
  },
  {
   "cell_type": "code",
   "execution_count": 24,
   "metadata": {},
   "outputs": [
    {
     "data": {
      "text/plain": [
       "(0.9999999999999999, 1.3877796942138986e-08)"
      ]
     },
     "execution_count": 24,
     "metadata": {},
     "output_type": "execute_result"
    }
   ],
   "source": [
    "integrate.quad(lambda r:(r**2*R1F1(2,1,4,r)**2), 0, float('inf'))"
   ]
  },
  {
   "cell_type": "code",
   "execution_count": 20,
   "metadata": {},
   "outputs": [
    {
     "data": {
      "text/plain": [
       "(1.0, 1.2956640677365438e-08)"
      ]
     },
     "execution_count": 20,
     "metadata": {},
     "output_type": "execute_result"
    }
   ],
   "source": [
    "integrate.quad(lambda r:(r**2*R1F1(1,0,4,r)**2), 0, float('inf'))"
   ]
  },
  {
   "cell_type": "markdown",
   "metadata": {},
   "source": [
    "- Las funciones estan normalizadas"
   ]
  },
  {
   "cell_type": "markdown",
   "metadata": {},
   "source": [
    "# Calculo valores medios de r^k"
   ]
  },
  {
   "cell_type": "code",
   "execution_count": 34,
   "metadata": {},
   "outputs": [
    {
     "name": "stdout",
     "output_type": "stream",
     "text": [
      "Termino 1: (n = 2, l = 1, Z = 4)\n",
      "< r^(-3) > = 2.6667; error = 2.45e-11\n",
      "< r^(-2) > = 1.3333; error = 1.26e-09\n",
      "< r^(-1) > = 1.0000; error = 5.38e-10\n",
      "< r^(1) > = 1.2500; error = 1.52e-08\n",
      "< r^(2) > = 1.8750; error = 8.38e-10\n",
      "< r^(3) > = 3.2812; error = 5.31e-09\n",
      "Termino 2: (n = 1, l = 0, Z = 4)\n",
      "< r^(-3) > = 8988.6307; error = 1.60e+03\n",
      "< r^(-2) > = 32.0000; error = 9.02e-10\n",
      "< r^(-1) > = 4.0000; error = 1.76e-09\n",
      "< r^(1) > = 0.3750; error = 8.38e-09\n",
      "< r^(2) > = 0.1875; error = 3.69e-09\n",
      "< r^(3) > = 0.1172; error = 8.27e-10\n"
     ]
    }
   ],
   "source": [
    "rMean_1 = []\n",
    "rMean_2 = []\n",
    "exponents_list = [exp for exp in range(-3,4) if exp is not 0]\n",
    "\n",
    "for i in exponents_list:\n",
    "    rMean_1.append(integrate.quad(lambda r:(r**(2+i)*R1F1(2,1,4,r)**2), 0, float('inf')))\n",
    "    rMean_2.append(integrate.quad(lambda r:(r**(2+i)*R1F1(1,0,4,r)**2), 0, float('inf')))\n",
    "\n",
    "print \"Termino 1: (n = 2, l = 1, Z = 4)\"\n",
    "for i,exp in enumerate(exponents_list):\n",
    "    print \"< r^({:d}) > = {:.4f}; error = {:.2e}\".format(exp,rMean_1[i][0],rMean_1[i][1])\n",
    "\n",
    "print \"Termino 2: (n = 1, l = 0, Z = 4)\"\n",
    "for i,exp in enumerate(exponents_list):\n",
    "    print \"< r^({:d}) > = {:.4f}; error = {:.2e}\".format(exp,rMean_2[i][0],rMean_2[i][1])"
   ]
  },
  {
   "cell_type": "markdown",
   "metadata": {},
   "source": [
    "- Se puede ver que para el termino con l = 0, el valor r^-3 explota. Esto es asi porque el l = 0 neutraliza el termino de rho^l ~ r^l de la R_{nl}"
   ]
  },
  {
   "cell_type": "markdown",
   "metadata": {},
   "source": [
    "# Kato"
   ]
  },
  {
   "cell_type": "code",
   "execution_count": 43,
   "metadata": {},
   "outputs": [],
   "source": [
    "from scipy.misc import derivative"
   ]
  },
  {
   "cell_type": "markdown",
   "metadata": {},
   "source": [
    "# Para el termino con l = 0"
   ]
  },
  {
   "cell_type": "code",
   "execution_count": 44,
   "metadata": {},
   "outputs": [
    {
     "data": {
      "text/plain": [
       "-4.000000330961484"
      ]
     },
     "execution_count": 44,
     "metadata": {},
     "output_type": "execute_result"
    }
   ],
   "source": [
    "derivative(lambda r: R1F1(1,0,4,r), 0, dx = 1e-10) / R1F1(1,0,4,0)"
   ]
  },
  {
   "cell_type": "markdown",
   "metadata": {},
   "source": [
    "# Para el termino con l = 1"
   ]
  },
  {
   "cell_type": "code",
   "execution_count": 47,
   "metadata": {},
   "outputs": [
    {
     "name": "stdout",
     "output_type": "stream",
     "text": [
      "inf\n"
     ]
    },
    {
     "name": "stderr",
     "output_type": "stream",
     "text": [
      "/home/fakux/.local/lib/python2.7/site-packages/ipykernel_launcher.py:1: RuntimeWarning: divide by zero encountered in double_scalars\n",
      "  \"\"\"Entry point for launching an IPython kernel.\n"
     ]
    }
   ],
   "source": [
    "print derivative(lambda r: R1F1(2,1,4,r), 0, dx = 1e-10) / R1F1(2,1,4,0)"
   ]
  },
  {
   "cell_type": "markdown",
   "metadata": {},
   "source": [
    "- La funcion con l = 1 se anula en el origen"
   ]
  },
  {
   "cell_type": "markdown",
   "metadata": {},
   "source": [
    "# Openheimmer"
   ]
  },
  {
   "cell_type": "code",
   "execution_count": 49,
   "metadata": {
    "collapsed": true
   },
   "outputs": [],
   "source": [
    "from scipy.special import sph_harm as Yml"
   ]
  },
  {
   "cell_type": "code",
   "execution_count": 54,
   "metadata": {},
   "outputs": [
    {
     "data": {
      "image/png": "[encoded data removed]",
      "text/plain": [
       "<matplotlib.figure.Figure at 0x7f82e79d7210>"
      ]
     },
     "metadata": {},
     "output_type": "display_data"
    }
   ],
   "source": [
    "ns = np.arange(1,21)\n",
    "y = np.zeros(len(ns))\n",
    "Z = 4\n",
    "\n",
    "for i,n in enumerate(ns):\n",
    "    y[i] = np.abs(R1F1(n,0,Z,0)*Yml(0,0,0,0))**2\n",
    "\n",
    "plt.plot(ns,y,'ro',mec='k',label = 'Calculado')\n",
    "plt.plot(ns,(Z/ns)**3/np.pi,'b',label = 'Teorico')\n",
    "plt.legend(loc = 'best')\n",
    "plt.show()"
   ]
  },
  {
   "cell_type": "markdown",
   "metadata": {},
   "source": [
    "- Obtuve lo esperado por Openheimmer"
   ]
  },
  {
   "cell_type": "markdown",
   "metadata": {},
   "source": [
    "# Virial"
   ]
  },
  {
   "cell_type": "code",
   "execution_count": 158,
   "metadata": {},
   "outputs": [],
   "source": [
    "ur = lambda r: R1F1(1,0,Z,r)*r\n",
    "d2R = lambda r: -0.5*derivative(ur, r, dx=1e-5, n=2)*ur(r)\n",
    "Veff = lambda r: -Z/r*ur(r)**2"
   ]
  },
  {
   "cell_type": "code",
   "execution_count": 159,
   "metadata": {},
   "outputs": [
    {
     "name": "stdout",
     "output_type": "stream",
     "text": [
      "Energia = -7.99999997699\n",
      "<V>/<T> = -1.99999999425\n"
     ]
    }
   ],
   "source": [
    "T = integrate.quad(d2R,0,np.inf)\n",
    "V = integrate.quad(Veff,0,np.inf)\n",
    "E_1 = T[0]+V[0]\n",
    "print \"Energia =\",T[0]+V[0]\n",
    "print \"<V>/<T> =\",V[0]/T[0]"
   ]
  },
  {
   "cell_type": "code",
   "execution_count": 160,
   "metadata": {
    "collapsed": true
   },
   "outputs": [],
   "source": [
    "l = 1\n",
    "ur = lambda r: R1F1(2,l,Z,r)*r\n",
    "d2R = lambda r: -0.5*derivative(ur, r, dx=1e-5, n=2)*ur(r)\n",
    "Veff = lambda r: (-Z/r+l*(l+1)/(2*r**2))*ur(r)**2"
   ]
  },
  {
   "cell_type": "code",
   "execution_count": 161,
   "metadata": {},
   "outputs": [
    {
     "name": "stdout",
     "output_type": "stream",
     "text": [
      "Energia = -1.99999970963\n",
      "<V>/<T> = -3.99999825777\n"
     ]
    }
   ],
   "source": [
    "T = integrate.quad(d2R,0,np.inf)\n",
    "V = integrate.quad(Veff,0,np.inf)\n",
    "E_2 = T[0]+V[0]\n",
    "print \"Energia =\",T[0]+V[0]\n",
    "print \"<V>/<T> =\",V[0]/T[0]"
   ]
  },
  {
   "cell_type": "markdown",
   "metadata": {},
   "source": [
    "# Correcciones de estructura fina"
   ]
  },
  {
   "cell_type": "code",
   "execution_count": null,
   "metadata": {
    "collapsed": true
   },
   "outputs": [],
   "source": []
  }
 ],
 "metadata": {
  "kernelspec": {
   "display_name": "Python 2",
   "language": "python",
   "name": "python2"
  },
  "language_info": {
   "codemirror_mode": {
    "name": "ipython",
    "version": 2
   },
   "file_extension": ".py",
   "mimetype": "text/x-python",
   "name": "python",
   "nbconvert_exporter": "python",
   "pygments_lexer": "ipython2",
   "version": "2.7.12"
  }
 },
 "nbformat": 4,
 "nbformat_minor": 2
}
