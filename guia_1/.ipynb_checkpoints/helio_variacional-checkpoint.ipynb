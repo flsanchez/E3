{
 "cells": [
  {
   "cell_type": "code",
   "execution_count": 2,
   "metadata": {
    "collapsed": true
   },
   "outputs": [],
   "source": [
    "import numpy as np\n",
    "from scipy.special import hyp1f1\n",
    "from scipy import integrate\n",
    "from scipy.sparse import spdiags\n",
    "from scipy.sparse.linalg import eigs\n",
    "from numpy.linalg import eigh\n",
    "import matplotlib.pyplot as plt\n",
    "import time as tm\n",
    "from math import factorial\n",
    "\n",
    "from __future__ import division\n",
    "\n",
    "%matplotlib inline\n",
    "\n",
    "from scipy.linalg import eigh"
   ]
  },
  {
   "cell_type": "code",
   "execution_count": 3,
   "metadata": {
    "collapsed": true
   },
   "outputs": [],
   "source": [
    "def R1F1(n,l,z,r):\n",
    "    rho = 2 * r * z / n\n",
    "    rnum = (2 * z / n)**3 * factorial(n + l)\n",
    "    rden = (factorial(2*l+1))**2 * 2*n * factorial(n-l-1)\n",
    "    rnorm = np.sqrt(rnum/rden)\n",
    "    rfunc = (rho)**l * np.exp(-rho/2) * hyp1f1(-n+l+1, 2*l+2, rho)\n",
    "    R = rnorm * rfunc\n",
    "    return R"
   ]
  },
  {
   "cell_type": "code",
   "execution_count": 4,
   "metadata": {
    "collapsed": true
   },
   "outputs": [],
   "source": [
    "def Overlap_ij(alpha,i,j):\n",
    "    Sij = ( np.pi / (alpha[i] + alpha[j]) )**3\n",
    "    return Sij\n",
    "\n",
    "def Matriz_Overlap(alpha):\n",
    "    nsize = len(alpha)\n",
    "    S = np.zeros((nsize,nsize))\n",
    "    for i in range(0,nsize):\n",
    "        for j in range(i,nsize):        \n",
    "            S[i,j]=Overlap_ij(alpha,i,j)\n",
    "            S[j,i]=S[i,j]\n",
    "    return S"
   ]
  },
  {
   "cell_type": "code",
   "execution_count": 15,
   "metadata": {
    "collapsed": true
   },
   "outputs": [],
   "source": [
    "# Elemento de matriz de cinetica\n",
    "def Tij(alpha,i,j):\n",
    "    factor = 2*(np.pi/(alpha[i]+alpha[j]))**(1.5)\n",
    "    rnum = 3 * alpha[i] * alpha[j]\n",
    "    rden =  (alpha[i] + alpha[j] )**(2.5)    \n",
    "    Tij = factor*rnum/rden\n",
    "    return Tij\n",
    "\n",
    "\n",
    "# Elemento de matriz de potencial\n",
    "def Vij(alpha,Z,i,j):\n",
    "    factor = 2*(np.pi/(alpha[i]+alpha[j]))**(1.5)\n",
    "    Vij =  Z*( -2*np.pi )  /  (alpha[i] + alpha[j])    \n",
    "    return factor*Vij\n",
    "\n",
    "# Elemento de matriz de potencial\n",
    "def inter_elec_ij(alpha,i,j):\n",
    "    ieij =  2**0.5 *(np.pi/(alpha[i] + alpha[j]))**(5/2)\n",
    "    return ieij\n",
    "\n",
    "\n",
    "# Matriz del Hamiltoniano en la base\n",
    "def Matriz_H(alpha,Z):\n",
    "    nsize = len(alpha)\n",
    "    H = np.zeros((nsize,nsize))\n",
    "    for i in range(0,nsize):\n",
    "        for j in range(i,nsize): \n",
    "            H[i,j]=Tij(alpha,i,j) + Vij(alpha,Z,i,j) + inter_elec_ij(alpha,i,j)\n",
    "            H[j,i]=H[i,j]\n",
    "    return H"
   ]
  },
  {
   "cell_type": "code",
   "execution_count": 18,
   "metadata": {},
   "outputs": [],
   "source": [
    "alpha = np.array([0.298073,1.242567,5.782948,38.474970])\n",
    "Z = 2\n",
    "# Genero las matrices de overlap y Hamiltonianos\n",
    "H = Matriz_H(alpha,Z)\n",
    "S = Matriz_Overlap(alpha)"
   ]
  },
  {
   "cell_type": "code",
   "execution_count": 19,
   "metadata": {},
   "outputs": [
    {
     "data": {
      "text/plain": [
       "array([-12.75897521,  -6.33339735,  -3.29002577,  -1.66908674])"
      ]
     },
     "execution_count": 19,
     "metadata": {},
     "output_type": "execute_result"
    }
   ],
   "source": [
    "E,C = eigh(H,S,type=1)\n",
    "E"
   ]
  },
  {
   "cell_type": "code",
   "execution_count": null,
   "metadata": {
    "collapsed": true
   },
   "outputs": [],
   "source": [
    "def psi(Ci,Alpha,x1,x2):\n",
    "    nsize = len(Ci) \n",
    "    res = 0\n",
    "    for i in range(0,nsize):\n",
    "        res = res + Ci[i]*np.exp(-Alpha[i]*x**2)\n",
    "    return res"
   ]
  }
 ],
 "metadata": {
  "kernelspec": {
   "display_name": "Python 2",
   "language": "python",
   "name": "python2"
  },
  "language_info": {
   "codemirror_mode": {
    "name": "ipython",
    "version": 2
   },
   "file_extension": ".py",
   "mimetype": "text/x-python",
   "name": "python",
   "nbconvert_exporter": "python",
   "pygments_lexer": "ipython2",
   "version": "2.7.12"
  }
 },
 "nbformat": 4,
 "nbformat_minor": 2
}
